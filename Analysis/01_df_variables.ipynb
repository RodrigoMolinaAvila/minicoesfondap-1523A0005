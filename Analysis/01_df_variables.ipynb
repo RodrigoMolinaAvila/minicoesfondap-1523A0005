{
 "cells": [
  {
   "cell_type": "code",
   "execution_count": 17,
   "metadata": {},
   "outputs": [],
   "source": [
    "import pandas as pd\n",
    "from sklearn.feature_extraction.text import TfidfVectorizer\n",
    "from tqdm.notebook import tqdm\n",
    "import os\n",
    "import json\n",
    "tqdm.pandas()\n"
   ]
  },
  {
   "cell_type": "code",
   "execution_count": 2,
   "metadata": {},
   "outputs": [],
   "source": [
    "df = pd.read_parquet(\"Database/01_bbdd_think_tanks.parquet\")"
   ]
  },
  {
   "cell_type": "code",
   "execution_count": 3,
   "metadata": {},
   "outputs": [],
   "source": [
    "df = df[(df[\"FechaPublicacion\"] >= \"2019-01-01\") & (df[\"FechaPublicacion\"] <= \"2023-12-31\")]"
   ]
  },
  {
   "cell_type": "code",
   "execution_count": 4,
   "metadata": {},
   "outputs": [
    {
     "data": {
      "text/plain": [
       "(17432, 20)"
      ]
     },
     "execution_count": 4,
     "metadata": {},
     "output_type": "execute_result"
    }
   ],
   "source": [
    "df.shape"
   ]
  },
  {
   "cell_type": "code",
   "execution_count": null,
   "metadata": {},
   "outputs": [],
   "source": [
    "def tfidf_por_grupo(df_grupo, top_n=10):\n",
    "    if len(df_grupo) < 2:\n",
    "        return {}\n",
    "\n",
    "    vectorizer = TfidfVectorizer(ngram_range=(3,3))\n",
    "    X = vectorizer.fit_transform(df_grupo[\"TextoLimpio\"])\n",
    "    feature_names = vectorizer.get_feature_names_out()\n",
    "    tfidf_df = pd.DataFrame.sparse.from_spmatrix(X, columns=feature_names)\n",
    "    tfidf_df[\"FechaPublicacion\"] = df_grupo[\"FechaPublicacion\"].values\n",
    "\n",
    "    resumen = {}\n",
    "    diarios = tfidf_df.groupby(\"FechaPublicacion\").mean(numeric_only=True)\n",
    "\n",
    "    for fecha, fila in diarios.iterrows():\n",
    "        top_terms = fila.sort_values(ascending=False).head(top_n)\n",
    "        resumen[fecha] = {\n",
    "            \"valores_tfidf\": top_terms.index.tolist(),\n",
    "            \"puntajes_tfidf\": [round(x, 4) for x in top_terms.values]\n",
    "        }\n",
    "\n",
    "    return resumen"
   ]
  },
  {
   "cell_type": "code",
   "execution_count": null,
   "metadata": {},
   "outputs": [],
   "source": [
    "def procesar_grupo(df, group_col, group_name, top_n=10):\n",
    "    df_grupo = df[df[group_col] == group_name]\n",
    "    resultado = tfidf_por_grupo(df_grupo, top_n=top_n)\n",
    "    resultado_con_nombre = {\n",
    "        (group_name, fecha): valores\n",
    "        for fecha, valores in resultado.items()\n",
    "    }\n",
    "    return resultado_con_nombre"
   ]
  },
  {
   "cell_type": "code",
   "execution_count": 18,
   "metadata": {},
   "outputs": [],
   "source": [
    "def guardar_snapshot_json(snapshot_dict, nombre_archivo):\n",
    "    with open(nombre_archivo, \"w\", encoding=\"utf-8\") as f:\n",
    "        json.dump(snapshot_dict, f, ensure_ascii=False, indent=2)"
   ]
  },
  {
   "cell_type": "code",
   "execution_count": 19,
   "metadata": {},
   "outputs": [],
   "source": [
    "conteo_tt = df[\"Think Tank\"].value_counts()\n",
    "think_tanks_ordenados = conteo_tt.index.tolist()"
   ]
  },
  {
   "cell_type": "code",
   "execution_count": 20,
   "metadata": {},
   "outputs": [],
   "source": [
    "top_n = 24\n",
    "top_think_tanks = think_tanks_ordenados[:top_n]"
   ]
  },
  {
   "cell_type": "code",
   "execution_count": null,
   "metadata": {},
   "outputs": [
    {
     "data": {
      "application/vnd.jupyter.widget-view+json": {
       "model_id": "2c56056bb2fd4e1b8bce592ef7d8f748",
       "version_major": 2,
       "version_minor": 0
      },
      "text/plain": [
       "Procesando Think Tanks individualmente:   0%|          | 0/24 [00:00<?, ?it/s]"
      ]
     },
     "metadata": {},
     "output_type": "display_data"
    },
    {
     "name": "stdout",
     "output_type": "stream",
     "text": [
      "→ Procesando Signos Uandes\n"
     ]
    }
   ],
   "source": [
    "for tt in tqdm(top_think_tanks, desc=\"Procesando Think Tanks individualmente\"):\n",
    "    print(f\"→ Procesando {tt}\")\n",
    "    snapshot = procesar_grupo(df, group_col=\"Think Tank\", group_name=tt, top_n=10)\n",
    "    nombre_archivo = f\"tfidf_snapshot_tt_{tt.replace(' ', '_').lower()}.json\"\n",
    "    guardar_snapshot_json(snapshot, nombre_archivo)\n",
    "    print(f\"   Guardado en {nombre_archivo}\")"
   ]
  }
 ],
 "metadata": {
  "kernelspec": {
   "display_name": "Python 3",
   "language": "python",
   "name": "python3"
  },
  "language_info": {
   "codemirror_mode": {
    "name": "ipython",
    "version": 3
   },
   "file_extension": ".py",
   "mimetype": "text/x-python",
   "name": "python",
   "nbconvert_exporter": "python",
   "pygments_lexer": "ipython3",
   "version": "3.12.4"
  }
 },
 "nbformat": 4,
 "nbformat_minor": 2
}

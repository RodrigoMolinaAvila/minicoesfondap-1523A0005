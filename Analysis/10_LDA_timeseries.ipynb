{
 "cells": [
  {
   "cell_type": "code",
   "execution_count": null,
   "id": "6275645b",
   "metadata": {},
   "outputs": [
    {
     "name": "stderr",
     "output_type": "stream",
     "text": [
      "100%|██████████| 60/60 [41:30<00:00, 41.51s/it]\n"
     ]
    },
    {
     "data": {
      "application/vnd.plotly.v1+json": {
       "config": {
        "plotlyServerURL": "https://plot.ly"
       },
       "data": [
        {
         "customdata": [
          [
           "politica, ley, desarrollo, gobierno, proyecto, sistema, libertad, publico, informacion, span"
          ],
          [
           "presidente, politica, ley, proyecto, años, libertad, gobierno, año, pais, sistema"
          ],
          [
           "politica, ley, proyecto, sistema, gobierno, pais, años, libertad, desarrollo, año"
          ],
          [
           "derechos, humanos, proyecto, ley, sistema, gobierno, guerra, años, libertad, salud"
          ],
          [
           "derechos, humanos, presidente, proyecto, venezuela, program, libertad, piñera, uandes, sistema"
          ],
          [
           "program, uandes, for, students, cultural, will, student, gobierno, apec, with"
          ],
          [
           "sistema, proyecto, gobierno, años, año, salud, personas, desarrollo, derechos, pais"
          ],
          [
           "mujeres, gobierno, politica, universidad, pais, informacion, ley, social, nacional, año"
          ],
          [
           "año, venezuela, derecho, universidad, social, politica, proyecto, mujeres, gobierno, forma"
          ],
          [
           "sistema, gobierno, pais, social, universidad, politica, año, años, personas, pensiones"
          ],
          [
           "sistema, pensiones, años, gobierno, mujeres, pais, personas, politica, nacional, año"
          ],
          [
           "universidad, desarrollo, libertad, datos, ley, educacion, economia, politica, calidad, nacional"
          ],
          [
           "universidad, libertad, economia, director, proyecto, profesor, historia, ley, internacional, progreso"
          ],
          [
           "universidad, libertad, progreso, historia, politica, democracia, sistema, director, freedom, fundacion"
          ],
          [
           "libertad, universidad, desarrollo, personas, progreso, politica, democracia, sistema, freedom, economia"
          ],
          [
           "universidad, sistema, fundacion, desarrollo, uandes, progreso, educacion, años, economia, gobierno"
          ],
          [
           "pais, china, universidad, desarrollo, gobierno, paises, vida, proyecto, mundo, politica"
          ],
          [
           "universidad, pais, proyecto, gobierno, china, laboral, personas, año, presidente, libertad"
          ],
          [
           "pais, china, gobierno, paises, personas, media, universidad, politica, rural, acuerdo"
          ],
          [
           "pais, china, media, clase, desarrollo, personas, gobierno, libertad, politica, proyecto"
          ],
          [
           "pais, china, gobierno, fundacion, uandes, desarrollo, años, universidad, año, paises"
          ],
          [
           "universidad, politica, economia, gobierno, años, fundacion, desarrollo, ideas, pais, alumnos"
          ],
          [
           "universidad, años, año, proyecto, personas, fundacion, seguridad, uandes, alumnos, educacion"
          ],
          [
           "universidad, seguridad, fundacion, gobierno, liberalismo, politica, progreso, años, fpp, santiago"
          ],
          [
           "mar, jun, dic, sep, personas, seguridad, años, politica, pais, desarrollo"
          ],
          [
           "universidad, desarrollo, pais, politica, gobierno, sesion, años, formacion, uandes, mundo"
          ],
          [
           "clase, media, años, universidad, pais, proyecto, uandes, año, personas, social"
          ],
          [
           "gobierno, media, clase, pais, universidad, politica, acuerdo, años, sistema, social"
          ],
          [
           "universidad, uandes, alumnos, años, educacion, desarrollo, salud, pais, investigacion, año"
          ],
          [
           "universidad, año, proyecto, años, uandes, ley, presidente, empresas, laboral, gobierno"
          ],
          [
           "universidad, fundacion, pais, año, gobierno, progreso, años, ley, personas, sistema"
          ],
          [
           "personas, años, pais, sistema, educacion, año, desarrollo, mil, ley, gobierno"
          ],
          [
           "universidad, salud, personas, pais, desarrollo, uandes, años, politica, mundo, nacional"
          ],
          [
           "universidad, corrupcion, año, personas, años, salud, proyecto, pais, publico, uandes"
          ],
          [
           "universidad, sistema, pais, personas, años, año, publico, gobierno, politica, social"
          ],
          [
           "politica, gobierno, pais, educacion, universidad, ley, años, personas, social, desarrollo"
          ],
          [
           "politica, años, social, personas, presidente, pais, año, gobierno, sistema, proyecto"
          ],
          [
           "gobierno, politica, sistema, pais, social, años, año, educacion, ley, personas"
          ],
          [
           "social, constitucion, politica, universidad, salud, pais, constituyente, nacional, gobierno, sociales"
          ],
          [
           "social, constitucion, politica, salud, universidad, pais, presidente, años, acuerdo, proceso"
          ],
          [
           "social, gobierno, pais, politica, acuerdo, democracia, constitucion, violencia, crisis, universidad"
          ],
          [
           "constitucion, pais, social, politica, violencia, salud, gobierno, democracia, personas, años"
          ],
          [
           "constitucion, social, gobierno, pais, salud, universidad, uandes, politica, crisis, sistema"
          ],
          [
           "politica, universidad, social, constitucion, pais, proceso, años, gobierno, nacional, datos"
          ],
          [
           "social, universidad, años, año, pais, violencia, constitucion, proceso, forma, politica"
          ],
          [
           "social, pais, gobierno, politica, democracia, años, publico, sistema, universidad, año"
          ],
          [
           "pais, politica, personas, democracia, violencia, constitucion, años, sistema, gobierno, social"
          ],
          [
           "pais, gobierno, años, regionales, año, politica, constitucion, sistema, universidad, uandes"
          ],
          [
           "universidad, pais, salud, publico, nacional, constitucion, social, desarrollo, proceso, politica"
          ],
          [
           "social, años, universidad, pais, enero, sistema, grupos, salud, constitucion, año"
          ],
          [
           "sistema, pais, social, pensiones, universidad, años, politica, publico, personas, gobierno"
          ],
          [
           "politica, años, pais, social, gobierno, nacional, publico, abril, desarrollo, constitucion"
          ],
          [
           "constitucional, proyecto, social, años, constitucion, pais, año, politica, ley, forma"
          ],
          [
           "pais, años, social, gobierno, politica, abril, publico, sistema, universidad, proyecto"
          ],
          [
           "mujeres, pais, salud, crisis, personas, trabajadores, años, gobierno, politica, medidas"
          ],
          [
           "años, mujeres, personas, crisis, pais, salud, coronavirus, presidente, social, forma"
          ],
          [
           "pais, crisis, gobierno, años, personas, social, politica, sistema, coronavirus, mar"
          ],
          [
           "crisis, pandemia, trabajadores, salud, social, pais, personas, gobierno, vida, medidas"
          ],
          [
           "crisis, pandemia, social, empresas, personas, salud, pais, forma, economia, covid"
          ],
          [
           "crisis, social, pandemia, pais, covid, gobierno, personas, educacion, universidad, vida"
          ],
          [
           "pandemia, personas, crisis, pais, politica, salud, gobierno, forma, vida, covid"
          ],
          [
           "crisis, pandemia, social, politica, vida, salud, sociedad, gobierno, personas, pais"
          ],
          [
           "crisis, pandemia, empresas, economia, social, derechos, personas, forma, años, politica"
          ],
          [
           "crisis, pandemia, pais, social, politica, gobierno, personas, sociedad, vida, covid"
          ],
          [
           "pandemia, crisis, personas, politica, pais, economia, gobierno, vida, años, salud"
          ],
          [
           "crisis, pandemia, gobierno, economia, salud, politica, años, medidas, pais, fundacion"
          ],
          [
           "universidad, educacion, pandemia, gobierno, crisis, politica, años, social, pais, salud"
          ],
          [
           "educacion, años, gobierno, pandemia, salud, proyecto, social, constitucion, pais, crisis"
          ],
          [
           "gobierno, pais, social, educacion, politica, pandemia, crisis, años, acuerdo, fiscal"
          ],
          [
           "educacion, pandemia, pais, mujeres, gobierno, politica, años, constitucion, personas, crisis"
          ],
          [
           "ley, universidad, pandemia, desarrollo, sistema, proceso, politica, pais, personas, crisis"
          ],
          [
           "universidad, pensiones, proyecto, ley, pandemia, sistema, social, crisis, pais, presidente"
          ],
          [
           "sistema, pais, pensiones, social, gobierno, personas, politica, crisis, universidad, pandemia"
          ],
          [
           "pensiones, sistema, personas, pandemia, politica, pais, años, fondos, gobierno, proyecto"
          ],
          [
           "gobierno, sistema, pensiones, crisis, pais, fondos, años, proyecto, politica, ley"
          ],
          [
           "politica, pais, personas, constitucion, familia, proceso, nacional, pandemia, derecho, ley"
          ],
          [
           "constitucional, personas, constitucion, politica, social, proceso, familia, pais, años, proyecto"
          ],
          [
           "pais, politica, personas, social, gobierno, años, sociedad, educacion, sistema, acuerdo"
          ],
          [
           "politica, pais, constitucion, gobierno, universidad, derechos, desarrollo, proceso, sociales, años"
          ],
          [
           "constitucion, pais, minimo, politica, constitucional, año, derechos, proceso, universidad, años"
          ],
          [
           "pais, politica, gobierno, año, constitucion, sistema, años, social, universidad, personas"
          ],
          [
           "constitucion, universidad, politica, personas, salud, pais, derecho, desarrollo, proceso, vida"
          ],
          [
           "constitucion, año, universidad, personas, educacion, politica, economia, presidente, pais, proceso"
          ],
          [
           "universidad, politica, pais, año, personas, social, sistema, constitucion, mundo, gobierno"
          ],
          [
           "universidad, constitucion, politica, pais, educacion, desarrollo, social, proceso, salud, sistema"
          ],
          [
           "constitucion, universidad, educacion, pais, constitucional, año, retiro, proceso, social, politica"
          ],
          [
           "educacion, sistema, pais, social, linea, politica, universidad, gobierno, personas, pensiones"
          ],
          [
           "pais, sistema, personas, politica, constitucion, pensiones, educacion, años, desarrollo, forma"
          ],
          [
           "politica, constitucion, pais, personas, proceso, social, año, participacion, desarrollo, gobierno"
          ],
          [
           "constitucion, pais, año, personas, politica, proceso, constitucional, años, presidente, social"
          ],
          [
           "pais, politica, personas, año, gobierno, constitucion, democracia, social, sistema, educacion"
          ],
          [
           "pais, politica, social, proceso, años, constitucion, personas, ley, sociales, debate"
          ],
          [
           "año, social, proyecto, constitucion, años, pais, personas, politica, proceso, presidente"
          ],
          [
           "pais, politica, social, sistema, años, año, gobierno, democracia, personas, constitucion"
          ],
          [
           "pais, politica, personas, años, sistema, desarrollo, constitucion, año, social, democracia"
          ],
          [
           "pais, politica, sociedad, año, personas, publico, vida, gobierno, sociales, años"
          ],
          [
           "año, personas, pais, millones, años, forma, politica, publico, presidente, proceso"
          ],
          [
           "pais, politica, año, sociedad, gobierno, años, personas, sistema, democracia, social"
          ],
          [
           "politica, derecho, universidad, pais, desarrollo, gobierno, años, publico, vida, nacional"
          ],
          [
           "derecho, año, años, violencia, constitucional, politica, personas, dia, pais, forma"
          ],
          [
           "politica, pais, gobierno, sistema, derecho, violencia, años, año, personas, publico"
          ],
          [
           "universidad, politica, pais, social, proceso, pandemia, nacional, ley, constitucion, personas"
          ],
          [
           "universidad, economia, politica, pais, social, año, personas, años, constitucion, constitucional"
          ],
          [
           "politica, pais, social, universidad, personas, gobierno, sistema, año, pandemia, crisis"
          ],
          [
           "politica, pais, personas, pandemia, desarrollo, economia, universidad, año, años, gobierno"
          ],
          [
           "politica, pais, derecho, año, gobierno, constitucional, universidad, social, años, proceso"
          ],
          [
           "universidad, politica, pais, constitucion, social, desarrollo, sociales, nacional, derechos, constitucional"
          ],
          [
           "constitucional, social, constitucion, universidad, convencion, pais, años, sociales, derecho, derechos"
          ],
          [
           "social, pais, politica, sistema, años, convencion, universidad, gobierno, sociedad, personas"
          ],
          [
           "pais, politica, sistema, desarrollo, personas, constitucion, años, pandemia, libertad, social"
          ],
          [
           "sistema, derecho, constitucional, pais, convencion, politica, sociales, social, constitucion, gobierno"
          ],
          [
           "regiones, politica, pais, desarrollo, años, universidad, region, personas, año, crecimiento"
          ],
          [
           "año, años, personas, regiones, pais, politica, forma, proyecto, derecho, proceso"
          ],
          [
           "politica, pais, democracia, personas, social, america, años, latina, universidad, año"
          ],
          [
           "comision, convencion, derechos, articulo, participacion, politica, humanos, constituyente, constituyentes, universidad"
          ],
          [
           "convencion, violencia, constitucional, social, constituyente, años, proceso, comision, universidad, año"
          ],
          [
           "convencion, pais, politica, social, violencia, años, universidad, año, proceso, gobierno"
          ],
          [
           "violencia, comision, pais, politica, derechos, años, personas, participacion, convencion, desarrollo"
          ],
          [
           "comision, articulo, convencionales, convencion, reglamento, convencional, agosto, comisiones, derechos, pleno"
          ],
          [
           "convencion, convencionales, comision, constitucional, articulo, derechos, propiedad, indicacion, personas, asignaciones"
          ],
          [
           "convencion, propiedad, derecho, personas, convencionales, pais, comision, constitucional, violencia, politica"
          ],
          [
           "propiedad, violencia, comision, derecho, personas, derechos, desarrollo, constitucion, politica, pais"
          ],
          [
           "universidad, pais, politica, derechos, constitucion, personas, libertad, convencion, social, años"
          ],
          [
           "pais, libertad, universidad, convencion, constitucional, social, personas, derechos, años, mundo"
          ],
          [
           "pais, social, democracia, convencion, universidad, libertad, politica, liberal, personas, sistema"
          ],
          [
           "pais, personas, politica, pensiones, libertad, años, desarrollo, sistema, constitucion, democracia"
          ],
          [
           "comision, derecho, politica, convencion, derechos, constitucion, universidad, convencional, personas, octubre"
          ],
          [
           "convencion, constitucional, proyecto, comision, derecho, años, constitucion, personas, derechos, universidad"
          ],
          [
           "convencion, pais, politica, derecho, social, democracia, proyecto, personas, paises, sistema"
          ],
          [
           "universidad, comision, politica, derecho, constituyente, derechos, constitucion, convencion, sistema, educacion"
          ],
          [
           "universidad, constitucional, convencion, derecho, libertad, politica, derechos, comision, constitucion, sistema"
          ],
          [
           "universidad, sistema, derecho, politica, convencion, pais, social, educacion, personas, libertad"
          ],
          [
           "comision, sistema, derecho, politica, libertad, desarrollo, pais, educacion, constitucion, personas"
          ],
          [
           "sistema, convencion, comision, derecho, universidad, politica, constitucional, pais, convencional, señala"
          ],
          [
           "comision, constituyente, sistema, diciembre, politica, desarrollo, ley, convencion, derechos, participacion"
          ],
          [
           "proyecto, presidente, comision, convencion, constituyente, constitucional, ley, años, sistema, iniciativa"
          ],
          [
           "sistema, convencion, pais, ley, gobierno, años, proyecto, presidente, politica, comision"
          ],
          [
           "comision, derechos, politica, gobierno, constitucional, convencion, universidad, derecho, desarrollo, iniciativa"
          ],
          [
           "constitucional, convencion, presidente, comision, gobierno, politica, proyecto, constitucion, forma, iniciativa"
          ],
          [
           "gobierno, politica, convencion, sistema, pais, educacion, politico, personas, universidad, constitucional"
          ],
          [
           "derechos, nacional, pais, constitucion, proceso, politica, desarrollo, constitucional, derecho, social"
          ],
          [
           "derechos, constitucional, pais, proceso, pdc, derecho, constitucion, social, empresas, convencion"
          ],
          [
           "pais, social, pdc, proceso, politica, democracia, derechos, sociedad, paises, gobierno"
          ],
          [
           "articulo, constitucion, derecho, derechos, comision, politica, constitucional, nacional, personas, aprobado"
          ],
          [
           "constitucion, constitucional, derecho, convencion, derechos, comision, politica, articulo, personas, ley"
          ],
          [
           "constitucion, politica, convencion, derecho, gobierno, constitucional, pais, sistema, personas, democracia"
          ],
          [
           "articulo, comision, derechos, derecho, indicacion, constitucion, ley, personas, convencion, abril"
          ],
          [
           "indicacion, articulo, derecho, derechos, convencion, constitucional, comision, constitucion, ley, personas"
          ],
          [
           "indicacion, articulo, derecho, convencion, sistema, comision, gobierno, constitucion, pais, personas"
          ],
          [
           "articulo, derecho, comision, constitucion, derechos, convencion, ley, mayo, constitucional, propuesta"
          ],
          [
           "convencion, constitucional, constitucion, articulo, derecho, ind, derechos, ley, comision, propuesta"
          ],
          [
           "sistema, gobierno, social, convencion, pais, politica, derecho, universidad, constitucion, ley"
          ],
          [
           "sistema, constitucion, derecho, comision, constitucional, propiedad, personas, articulo, derechos, ind"
          ],
          [
           "constitucion, universidad, derechos, ley, pais, politica, derecho, constitucional, desarrollo, gobierno"
          ],
          [
           "constitucion, constitucional, presidente, derechos, derecho, ley, proyecto, gobierno, convencion, propuesta"
          ],
          [
           "gobierno, pais, politica, social, sistema, seguridad, constitucion, presidente, año, publica"
          ],
          [
           "constitucion, constitucional, politica, derechos, sistema, pais, gobierno, derecho, personas, desarrollo"
          ],
          [
           "constitucion, gobierno, constitucional, sistema, pais, convencion, presidente, derecho, politica, ley"
          ],
          [
           "articulo, constitucion, universidad, constitucional, politica, propuesta, proceso, derechos, gobierno, proyecto"
          ],
          [
           "constitucional, proyecto, constitucion, propuesta, proceso, convencion, presidente, universidad, personas, derechos"
          ],
          [
           "politica, gobierno, constitucion, social, constitucional, convencion, pais, proceso, personas, proyecto"
          ],
          [
           "constitucion, constitucional, politica, personas, proyecto, propuesta, derecho, pais, gobierno, articulo"
          ],
          [
           "constitucion, propuesta, lapiz, sociedad, problema, constitucional, politica, ley, derechos, personas"
          ],
          [
           "constitucional, constitucion, proyecto, propuesta, derecho, presidente, ley, derechos, personas, social"
          ],
          [
           "sistema, politica, constitucion, proyecto, gobierno, pais, constitucional, sociedad, personas, ley"
          ],
          [
           "constitucion, personas, proyecto, propuesta, constitucional, ley, politica, derechos, años, gobierno"
          ],
          [
           "constitucion, constitucional, propuesta, derecho, gobierno, sistema, proyecto, politica, pais, años"
          ],
          [
           "proyecto, universidad, politica, constitucional, proceso, constitucion, pais, ley, gobierno, social"
          ],
          [
           "proyecto, constitucional, proceso, ley, constitucion, social, años, presidente, convencion, desigualdad"
          ],
          [
           "proyecto, pais, politica, gobierno, social, ley, proceso, constitucional, años, convencion"
          ],
          [
           "proyecto, camara, ley, politica, personas, pais, constitucional, sala, años, constitucion"
          ],
          [
           "proyecto, ley, congreso, universidad, politica, desarrollo, economia, proceso, social, pais"
          ],
          [
           "proyecto, ley, constitucional, constitucion, proceso, social, camara, pais, sala, politica"
          ],
          [
           "proyecto, ley, pais, gobierno, social, politica, sistema, acuerdo, camara, democracia"
          ],
          [
           "proyecto, camara, personas, sala, politica, ley, bol, pais, desarrollo, iniciativa"
          ],
          [
           "proyecto, gobierno, politica, año, pais, constitucional, ley, proceso, años, economia"
          ],
          [
           "universidad, proyecto, años, politica, desarrollo, pais, gobierno, nacional, economia, investigacion"
          ],
          [
           "proyecto, años, presidente, universidad, pais, pensiones, gobierno, filosofia, social, reforma"
          ],
          [
           "gobierno, universidad, sistema, pais, politica, años, pensiones, democracia, proyecto, reforma"
          ],
          [
           "universidad, proyecto, ley, politica, constitucional, proceso, nacional, congreso, sistema, pais"
          ],
          [
           "proyecto, constitucional, universidad, ley, constitucion, proceso, camara, años, politica, derecho"
          ],
          [
           "proyecto, politica, universidad, sistema, acuerdo, pais, democracia, gobierno, año, constitucional"
          ],
          [
           "proyecto, sistema, camara, politica, constitucional, ley, constitucion, pais, democracia, sala"
          ],
          [
           "constitucional, sistema, proyecto, año, politica, gobierno, proceso, acuerdo, pais, constitucion"
          ],
          [
           "proyecto, universidad, gobierno, ley, nacional, proceso, personas, politica, constitucional, años"
          ],
          [
           "proyecto, constitucional, ley, proceso, años, guzman, camara, año, personas, sala"
          ],
          [
           "proyecto, gobierno, politica, pais, años, sistema, año, democracia, personas, ley"
          ],
          [
           "proyecto, guzman, gobierno, personas, años, politica, pais, pensiones, sistema, nacional"
          ],
          [
           "gobierno, guzman, proyecto, años, año, pais, jaime, proceso, politica, sistema"
          ],
          [
           "proceso, politica, pais, gobierno, años, social, personas, universidad, constitucional, nacional"
          ],
          [
           "feminismo, social, año, historia, personas, constitucional, proceso, politica, pais, años"
          ],
          [
           "gobierno, politica, pais, feminismo, año, fundacion, historia, personas, social, años"
          ],
          [
           "personas, politica, pais, gobierno, nacional, años, sistema, año, social, proceso"
          ],
          [
           "gobierno, año, constitucional, politica, sistema, pais, proceso, personas, presidente, años"
          ],
          [
           "gobierno, desarrollo, años, politica, mujeres, constitucional, pais, universidad, social, publico"
          ],
          [
           "constitucional, años, año, gobierno, mujeres, social, pais, personas, presidente, politica"
          ],
          [
           "gobierno, años, pais, año, social, sistema, fundacion, politica, publico, personas"
          ],
          [
           "salud, sistema, politica, pais, personas, universidad, publico, nacional, derecho, social"
          ],
          [
           "salud, sistema, personas, derecho, pais, argentina, años, año, central, social"
          ],
          [
           "sistema, pais, politica, gobierno, derecho, personas, argentina, banco, central, casta"
          ],
          [
           "universidad, politica, constitucional, proceso, gobierno, social, personas, pais, constitucion, años"
          ],
          [
           "constitucional, proceso, personas, politica, social, constitucion, derecho, millones, años, pais"
          ],
          [
           "politica, pais, gobierno, sistema, izquierda, fundacion, personas, social, millones, años"
          ],
          [
           "politica, personas, minimo, pais, sistema, gobierno, años, salario, mayo, libertad"
          ],
          [
           "gobierno, partido, constitucional, republicanos, politica, fundacion, pais, proceso, mayo, años"
          ],
          [
           "universidad, politica, salud, gobierno, personas, años, constitucional, desarrollo, educacion, pais"
          ],
          [
           "presidente, constitucional, universidad, salud, años, personas, gobierno, año, educacion, proyecto"
          ],
          [
           "gobierno, politica, personas, universidad, pais, democracia, fundacion, años, presidente, educacion"
          ],
          [
           "derechos, universidad, politica, educacion, años, constitucional, personas, pais, gobierno, salud"
          ],
          [
           "constitucional, derechos, años, presidente, social, salud, personas, año, gobierno, politica"
          ],
          [
           "gobierno, politica, años, pais, sistema, personas, año, caso, recursos, presidente"
          ],
          [
           "personas, años, pais, politica, gobierno, sistema, educacion, constitucional, pensiones, derechos"
          ],
          [
           "gobierno, años, delitos, pais, año, politica, constitucional, caso, personas, sistema"
          ],
          [
           "años, garantia, gobierno, politica, ingresos, nacional, universidad, constitucional, pais, social"
          ],
          [
           "años, constitucional, presidente, gobierno, universidad, politica, social, pais, proceso, personas"
          ],
          [
           "gobierno, politica, años, pais, universidad, sistema, social, presidente, caso, fundacion"
          ],
          [
           "años, ingresos, gobierno, politica, pais, personas, sistema, garantia, pensiones, vida"
          ],
          [
           "años, universidad, gobierno, politica, nacional, pais, trabajadores, investigacion, sistema, salud"
          ],
          [
           "presidente, universidad, años, politica, gobierno, proceso, constitucional, año, social, pais"
          ],
          [
           "gobierno, politica, años, universidad, historia, sistema, democracia, pais, año, presidente"
          ],
          [
           "años, sistema, politica, gobierno, pais, personas, pensiones, septiembre, nacional, democracia"
          ],
          [
           "gobierno, años, año, politica, pais, presidente, sistema, universidad, constitucional, proceso"
          ],
          [
           "universidad, años, pais, politica, derecho, personas, constitucional, educacion, año, proceso"
          ],
          [
           "años, constitucional, universidad, derecho, año, proceso, pais, personas, agua, derechos"
          ],
          [
           "años, pais, fundacion, politica, social, universidad, educacion, sistema, progreso, año"
          ],
          [
           "años, pais, personas, sistema, politica, derecho, educacion, constitucional, año, economia"
          ],
          [
           "universidad, golpe, politica, politico, años, constitucional, educacion, salud, pais, investigacion"
          ],
          [
           "constitucional, constitucion, años, universidad, proceso, pais, libro, golpe, politica, politico"
          ],
          [
           "años, politica, pais, politico, gobierno, sistema, fundacion, universidad, educacion, izquierda"
          ],
          [
           "constitucion, pais, politica, años, sistema, constitucional, personas, educacion, politico, propuesta"
          ],
          [
           "pais, politica, gobierno, constitucional, propuesta, constitucion, años, economia, sistema, texto"
          ],
          [
           "constitucional, pais, años, año, propuesta, gobierno, constitucion, politica, presidente, social"
          ],
          [
           "pais, gobierno, politica, año, sistema, años, constitucional, politicos, politico, constitucion"
          ]
         ],
         "hovertemplate": "Fecha=%{x}<br>Importancia del Tópico=%{y}<br>palabras=%{customdata[0]}<br>cluster=%{marker.color}<extra></extra>",
         "legendgroup": "",
         "marker": {
          "color": [
           1,
           1,
           1,
           1,
           1,
           1,
           1,
           1,
           1,
           1,
           1,
           1,
           1,
           1,
           1,
           1,
           1,
           1,
           1,
           1,
           1,
           1,
           1,
           1,
           1,
           1,
           1,
           1,
           1,
           1,
           1,
           1,
           1,
           1,
           1,
           1,
           1,
           1,
           0,
           0,
           1,
           1,
           1,
           1,
           1,
           1,
           1,
           1,
           1,
           1,
           1,
           1,
           1,
           1,
           1,
           1,
           1,
           1,
           1,
           1,
           1,
           1,
           1,
           1,
           1,
           1,
           1,
           1,
           1,
           1,
           1,
           1,
           1,
           1,
           1,
           1,
           1,
           1,
           1,
           0,
           1,
           1,
           1,
           1,
           0,
           1,
           1,
           1,
           0,
           1,
           1,
           1,
           1,
           1,
           1,
           1,
           1,
           1,
           0,
           1,
           1,
           1,
           1,
           1,
           1,
           1,
           0,
           0,
           1,
           1,
           0,
           1,
           1,
           1,
           0,
           0,
           0,
           0,
           0,
           0,
           0,
           0,
           0,
           0,
           1,
           1,
           0,
           0,
           0,
           0,
           0,
           0,
           0,
           0,
           0,
           0,
           0,
           0,
           0,
           0,
           0,
           0,
           0,
           0,
           0,
           0,
           0,
           0,
           0,
           0,
           0,
           0,
           0,
           0,
           0,
           0,
           0,
           0,
           0,
           0,
           0,
           0,
           0,
           0,
           0,
           0,
           0,
           0,
           0,
           0,
           0,
           0,
           0,
           0,
           0,
           0,
           1,
           1,
           1,
           0,
           0,
           0,
           0,
           0,
           0,
           0,
           1,
           0,
           1,
           1,
           1,
           1,
           1,
           1,
           1,
           1,
           1,
           1,
           1,
           1,
           0,
           0,
           1,
           1,
           1,
           0,
           1,
           1,
           1,
           1,
           1,
           1,
           1,
           1,
           1,
           1,
           1,
           1,
           1,
           1,
           1,
           1,
           1,
           1,
           1,
           1,
           1,
           1,
           1,
           0,
           0,
           1,
           1
          ],
          "coloraxis": "coloraxis",
          "line": {
           "color": "DarkSlateGrey",
           "width": 0.5
          },
          "size": 10,
          "symbol": "circle"
         },
         "mode": "markers",
         "name": "",
         "orientation": "v",
         "showlegend": false,
         "type": "scatter",
         "x": [
          "2019-01-01T00:00:00",
          "2019-01-01T00:00:00",
          "2019-01-01T00:00:00",
          "2019-02-01T00:00:00",
          "2019-02-01T00:00:00",
          "2019-02-01T00:00:00",
          "2019-02-01T00:00:00",
          "2019-03-01T00:00:00",
          "2019-03-01T00:00:00",
          "2019-03-01T00:00:00",
          "2019-03-01T00:00:00",
          "2019-04-01T00:00:00",
          "2019-04-01T00:00:00",
          "2019-04-01T00:00:00",
          "2019-04-01T00:00:00",
          "2019-04-01T00:00:00",
          "2019-05-01T00:00:00",
          "2019-05-01T00:00:00",
          "2019-05-01T00:00:00",
          "2019-05-01T00:00:00",
          "2019-05-01T00:00:00",
          "2019-06-01T00:00:00",
          "2019-06-01T00:00:00",
          "2019-06-01T00:00:00",
          "2019-06-01T00:00:00",
          "2019-07-01T00:00:00",
          "2019-07-01T00:00:00",
          "2019-07-01T00:00:00",
          "2019-08-01T00:00:00",
          "2019-08-01T00:00:00",
          "2019-08-01T00:00:00",
          "2019-08-01T00:00:00",
          "2019-09-01T00:00:00",
          "2019-09-01T00:00:00",
          "2019-09-01T00:00:00",
          "2019-10-01T00:00:00",
          "2019-10-01T00:00:00",
          "2019-10-01T00:00:00",
          "2019-11-01T00:00:00",
          "2019-11-01T00:00:00",
          "2019-11-01T00:00:00",
          "2019-11-01T00:00:00",
          "2019-11-01T00:00:00",
          "2019-12-01T00:00:00",
          "2019-12-01T00:00:00",
          "2019-12-01T00:00:00",
          "2019-12-01T00:00:00",
          "2019-12-01T00:00:00",
          "2020-01-01T00:00:00",
          "2020-01-01T00:00:00",
          "2020-01-01T00:00:00",
          "2020-02-01T00:00:00",
          "2020-02-01T00:00:00",
          "2020-02-01T00:00:00",
          "2020-03-01T00:00:00",
          "2020-03-01T00:00:00",
          "2020-03-01T00:00:00",
          "2020-04-01T00:00:00",
          "2020-04-01T00:00:00",
          "2020-04-01T00:00:00",
          "2020-04-01T00:00:00",
          "2020-05-01T00:00:00",
          "2020-05-01T00:00:00",
          "2020-05-01T00:00:00",
          "2020-05-01T00:00:00",
          "2020-05-01T00:00:00",
          "2020-06-01T00:00:00",
          "2020-06-01T00:00:00",
          "2020-06-01T00:00:00",
          "2020-06-01T00:00:00",
          "2020-07-01T00:00:00",
          "2020-07-01T00:00:00",
          "2020-07-01T00:00:00",
          "2020-07-01T00:00:00",
          "2020-07-01T00:00:00",
          "2020-08-01T00:00:00",
          "2020-08-01T00:00:00",
          "2020-08-01T00:00:00",
          "2020-09-01T00:00:00",
          "2020-09-01T00:00:00",
          "2020-09-01T00:00:00",
          "2020-10-01T00:00:00",
          "2020-10-01T00:00:00",
          "2020-10-01T00:00:00",
          "2020-11-01T00:00:00",
          "2020-11-01T00:00:00",
          "2020-11-01T00:00:00",
          "2020-11-01T00:00:00",
          "2020-12-01T00:00:00",
          "2020-12-01T00:00:00",
          "2020-12-01T00:00:00",
          "2021-01-01T00:00:00",
          "2021-01-01T00:00:00",
          "2021-01-01T00:00:00",
          "2021-01-01T00:00:00",
          "2021-02-01T00:00:00",
          "2021-02-01T00:00:00",
          "2021-02-01T00:00:00",
          "2021-03-01T00:00:00",
          "2021-03-01T00:00:00",
          "2021-03-01T00:00:00",
          "2021-04-01T00:00:00",
          "2021-04-01T00:00:00",
          "2021-04-01T00:00:00",
          "2021-04-01T00:00:00",
          "2021-04-01T00:00:00",
          "2021-05-01T00:00:00",
          "2021-05-01T00:00:00",
          "2021-05-01T00:00:00",
          "2021-05-01T00:00:00",
          "2021-05-01T00:00:00",
          "2021-06-01T00:00:00",
          "2021-06-01T00:00:00",
          "2021-06-01T00:00:00",
          "2021-07-01T00:00:00",
          "2021-07-01T00:00:00",
          "2021-07-01T00:00:00",
          "2021-07-01T00:00:00",
          "2021-08-01T00:00:00",
          "2021-08-01T00:00:00",
          "2021-08-01T00:00:00",
          "2021-08-01T00:00:00",
          "2021-09-01T00:00:00",
          "2021-09-01T00:00:00",
          "2021-09-01T00:00:00",
          "2021-09-01T00:00:00",
          "2021-10-01T00:00:00",
          "2021-10-01T00:00:00",
          "2021-10-01T00:00:00",
          "2021-11-01T00:00:00",
          "2021-11-01T00:00:00",
          "2021-11-01T00:00:00",
          "2021-11-01T00:00:00",
          "2021-11-01T00:00:00",
          "2021-12-01T00:00:00",
          "2021-12-01T00:00:00",
          "2021-12-01T00:00:00",
          "2022-01-01T00:00:00",
          "2022-01-01T00:00:00",
          "2022-01-01T00:00:00",
          "2022-02-01T00:00:00",
          "2022-02-01T00:00:00",
          "2022-02-01T00:00:00",
          "2022-03-01T00:00:00",
          "2022-03-01T00:00:00",
          "2022-03-01T00:00:00",
          "2022-04-01T00:00:00",
          "2022-04-01T00:00:00",
          "2022-04-01T00:00:00",
          "2022-05-01T00:00:00",
          "2022-05-01T00:00:00",
          "2022-05-01T00:00:00",
          "2022-05-01T00:00:00",
          "2022-06-01T00:00:00",
          "2022-06-01T00:00:00",
          "2022-06-01T00:00:00",
          "2022-06-01T00:00:00",
          "2022-06-01T00:00:00",
          "2022-07-01T00:00:00",
          "2022-07-01T00:00:00",
          "2022-07-01T00:00:00",
          "2022-07-01T00:00:00",
          "2022-08-01T00:00:00",
          "2022-08-01T00:00:00",
          "2022-08-01T00:00:00",
          "2022-08-01T00:00:00",
          "2022-08-01T00:00:00",
          "2022-09-01T00:00:00",
          "2022-09-01T00:00:00",
          "2022-09-01T00:00:00",
          "2022-09-01T00:00:00",
          "2022-10-01T00:00:00",
          "2022-10-01T00:00:00",
          "2022-10-01T00:00:00",
          "2022-10-01T00:00:00",
          "2022-10-01T00:00:00",
          "2022-11-01T00:00:00",
          "2022-11-01T00:00:00",
          "2022-11-01T00:00:00",
          "2022-12-01T00:00:00",
          "2022-12-01T00:00:00",
          "2022-12-01T00:00:00",
          "2022-12-01T00:00:00",
          "2022-12-01T00:00:00",
          "2023-01-01T00:00:00",
          "2023-01-01T00:00:00",
          "2023-01-01T00:00:00",
          "2023-01-01T00:00:00",
          "2023-01-01T00:00:00",
          "2023-02-01T00:00:00",
          "2023-02-01T00:00:00",
          "2023-02-01T00:00:00",
          "2023-02-01T00:00:00",
          "2023-02-01T00:00:00",
          "2023-03-01T00:00:00",
          "2023-03-01T00:00:00",
          "2023-03-01T00:00:00",
          "2023-04-01T00:00:00",
          "2023-04-01T00:00:00",
          "2023-04-01T00:00:00",
          "2023-05-01T00:00:00",
          "2023-05-01T00:00:00",
          "2023-05-01T00:00:00",
          "2023-05-01T00:00:00",
          "2023-05-01T00:00:00",
          "2023-06-01T00:00:00",
          "2023-06-01T00:00:00",
          "2023-06-01T00:00:00",
          "2023-07-01T00:00:00",
          "2023-07-01T00:00:00",
          "2023-07-01T00:00:00",
          "2023-07-01T00:00:00",
          "2023-07-01T00:00:00",
          "2023-08-01T00:00:00",
          "2023-08-01T00:00:00",
          "2023-08-01T00:00:00",
          "2023-08-01T00:00:00",
          "2023-09-01T00:00:00",
          "2023-09-01T00:00:00",
          "2023-09-01T00:00:00",
          "2023-09-01T00:00:00",
          "2023-09-01T00:00:00",
          "2023-10-01T00:00:00",
          "2023-10-01T00:00:00",
          "2023-10-01T00:00:00",
          "2023-10-01T00:00:00",
          "2023-11-01T00:00:00",
          "2023-11-01T00:00:00",
          "2023-11-01T00:00:00",
          "2023-11-01T00:00:00",
          "2023-12-01T00:00:00",
          "2023-12-01T00:00:00",
          "2023-12-01T00:00:00"
         ],
         "xaxis": "x",
         "y": [
          0.18178952162538708,
          0.6499211390700462,
          1.1680412900344048,
          0.10294189012429342,
          0.6036364592760947,
          1.1378347393419972,
          1.6557144244031405,
          0.12464852041126792,
          0.6046719115267233,
          1.105792256292234,
          1.6648064620869973,
          0.13822618600578343,
          0.5531292781348431,
          1.1025361867998131,
          1.616007981923248,
          2.0909436918053,
          0.12667737425905662,
          0.5702767951575847,
          1.063860003030481,
          1.6250214895402901,
          2.114307762757406,
          0.15282596302224608,
          0.5994390916083495,
          1.1276723158662973,
          1.6203365502407745,
          0.22797460626080046,
          0.6115065269221812,
          1.160348984542112,
          0.20560240839611776,
          0.5885767443390807,
          1.096302758579126,
          1.6093074878269775,
          0.2468055972431472,
          0.624076048750454,
          1.1294422179201549,
          0.23233275855248925,
          0.5879889266807654,
          1.1792142980178502,
          0.13945891189409024,
          0.5754565263060448,
          1.095283441997983,
          1.6054665429462578,
          2.0844156254487163,
          0.14047082466029415,
          0.5658062211750474,
          1.0840591045100034,
          1.6359385398802084,
          2.073936579674081,
          0.2603657865171355,
          0.595535234222508,
          1.1439599912479004,
          0.15105284127758883,
          0.5990285612785898,
          1.2500166346440207,
          0.19260909654090377,
          0.5943401011186674,
          1.2125966871003,
          0.11612832840795728,
          0.5850171775728791,
          1.1113353497267882,
          1.6871464492950408,
          0.13620029853804347,
          0.5738754619474251,
          1.105378657501579,
          1.6230456749307438,
          2.0614179840250872,
          0.15091580758791592,
          0.5698241145374335,
          1.1402813851489424,
          1.6388459073994324,
          0.10756006741338786,
          0.5824169210203773,
          1.0813834892289214,
          1.6702362876744579,
          2.059384607965838,
          0.22561106534076364,
          0.6378519682378201,
          1.1374026810519653,
          0.22064953251119118,
          0.6519105733412166,
          1.1265361748878246,
          0.20813059968290834,
          0.6577802327970897,
          1.133545247971116,
          0.14687443451872292,
          0.5998183687392054,
          1.0996638589713668,
          1.6534819067103712,
          0.22217461259374274,
          0.6421568395719955,
          1.1356730274007312,
          0.14336463177011144,
          0.6106580472013619,
          1.0982757962884502,
          1.647872727106507,
          0.24385594979291972,
          0.5994555455600258,
          1.1565830322687287,
          0.23356117786684252,
          0.6195161859487247,
          1.1469363083780288,
          0.1492757998431406,
          0.5780223931696663,
          1.0743283042036338,
          1.6466135559617028,
          2.052956611608065,
          0.1329133539467516,
          0.5739139918517555,
          1.0865976393279908,
          1.633293838819805,
          2.072982634314891,
          0.21887595397140214,
          0.6159849767936425,
          1.165690484197898,
          0.13897962936243857,
          0.6276716999931368,
          1.117357094376046,
          1.61621994410265,
          0.12518988876758716,
          0.6146251636307081,
          1.1127829346814997,
          1.6473506048102662,
          0.14405451490819385,
          0.6066085518720613,
          1.108561957671768,
          1.6409032623530595,
          0.21277583799903943,
          0.6248401693780468,
          1.16248933020923,
          0.15991067553978794,
          0.5598123989335532,
          1.0920014067299912,
          1.6171246722498767,
          2.070963285017563,
          0.213363992988265,
          0.6216273472850491,
          1.1650254937514397,
          0.2255336208971812,
          0.6325243672528984,
          1.1417116164376324,
          0.20110495359117744,
          0.6732329795152614,
          1.1262477802768252,
          0.204298378372798,
          0.6756586433913537,
          1.1202231894345123,
          0.19573815077435008,
          0.6349305856160983,
          1.1689259526461395,
          0.14404382832064536,
          0.5844682227283581,
          1.1389004724497809,
          1.6324294922107778,
          0.17146253665104574,
          0.5741150083158035,
          1.0886208236414996,
          1.57592689593577,
          2.089589222091883,
          0.14691123052113186,
          0.6086252658932657,
          1.128081001555406,
          1.6168761643733813,
          0.11796373061689837,
          0.6031566725200117,
          1.078196772880107,
          1.623272234864148,
          2.0773027827686334,
          0.2009700547631721,
          0.5883466920607414,
          1.1092155940631274,
          1.601501765367373,
          0.11941506306210012,
          0.5693450751258208,
          1.1006981254822938,
          1.6255120364122717,
          2.08651303919002,
          0.1737841770945001,
          0.6174793527997291,
          1.2084683526014761,
          0.1384193178584996,
          0.5701719292009274,
          1.103160759056512,
          1.6169471256689025,
          2.071225381857609,
          0.14634678784571672,
          0.5758874182564919,
          1.0994441712873482,
          1.609788489571746,
          2.068672300889008,
          0.10474591976784993,
          0.5448578644980684,
          1.1708633128466077,
          1.5964177508213344,
          2.0827142690852707,
          0.21445403324481097,
          0.606934900515388,
          1.1786434109884316,
          0.19289740920227266,
          0.6156026789708646,
          1.1917527172950173,
          0.1279003052504308,
          0.569255610498686,
          1.0971745297232627,
          1.6103190446659768,
          2.0954033343837883,
          0.21318452928789028,
          0.6221548588776827,
          1.1642919982056732,
          0.13929460572155056,
          0.550303115203824,
          1.1184371932995212,
          1.6306165530267756,
          2.0623041398495676,
          0.14000414842668868,
          0.5899075380422474,
          1.1501826995808424,
          1.6196470004267822,
          0.13149184157962163,
          0.5857761838418044,
          1.1080520058479626,
          1.6091934109480175,
          2.0655149888257496,
          0.12316429315145785,
          0.5767461306393429,
          1.1526704813748774,
          1.64664842548516,
          0.13422181049023676,
          0.5885954886275232,
          1.1209153542240426,
          1.6562458942190872,
          0.20460423101703656,
          0.600721906204265,
          1.1942985538560789
         ],
         "yaxis": "y"
        }
       ],
       "layout": {
        "coloraxis": {
         "colorbar": {
          "title": {
           "text": "cluster"
          }
         },
         "colorscale": [
          [
           0,
           "#0d0887"
          ],
          [
           0.1111111111111111,
           "#46039f"
          ],
          [
           0.2222222222222222,
           "#7201a8"
          ],
          [
           0.3333333333333333,
           "#9c179e"
          ],
          [
           0.4444444444444444,
           "#bd3786"
          ],
          [
           0.5555555555555556,
           "#d8576b"
          ],
          [
           0.6666666666666666,
           "#ed7953"
          ],
          [
           0.7777777777777778,
           "#fb9f3a"
          ],
          [
           0.8888888888888888,
           "#fdca26"
          ],
          [
           1,
           "#f0f921"
          ]
         ]
        },
        "legend": {
         "title": {
          "text": "Clúster de Tópico"
         },
         "tracegroupgap": 0
        },
        "template": {
         "data": {
          "bar": [
           {
            "error_x": {
             "color": "#2a3f5f"
            },
            "error_y": {
             "color": "#2a3f5f"
            },
            "marker": {
             "line": {
              "color": "white",
              "width": 0.5
             },
             "pattern": {
              "fillmode": "overlay",
              "size": 10,
              "solidity": 0.2
             }
            },
            "type": "bar"
           }
          ],
          "barpolar": [
           {
            "marker": {
             "line": {
              "color": "white",
              "width": 0.5
             },
             "pattern": {
              "fillmode": "overlay",
              "size": 10,
              "solidity": 0.2
             }
            },
            "type": "barpolar"
           }
          ],
          "carpet": [
           {
            "aaxis": {
             "endlinecolor": "#2a3f5f",
             "gridcolor": "#C8D4E3",
             "linecolor": "#C8D4E3",
             "minorgridcolor": "#C8D4E3",
             "startlinecolor": "#2a3f5f"
            },
            "baxis": {
             "endlinecolor": "#2a3f5f",
             "gridcolor": "#C8D4E3",
             "linecolor": "#C8D4E3",
             "minorgridcolor": "#C8D4E3",
             "startlinecolor": "#2a3f5f"
            },
            "type": "carpet"
           }
          ],
          "choropleth": [
           {
            "colorbar": {
             "outlinewidth": 0,
             "ticks": ""
            },
            "type": "choropleth"
           }
          ],
          "contour": [
           {
            "colorbar": {
             "outlinewidth": 0,
             "ticks": ""
            },
            "colorscale": [
             [
              0,
              "#0d0887"
             ],
             [
              0.1111111111111111,
              "#46039f"
             ],
             [
              0.2222222222222222,
              "#7201a8"
             ],
             [
              0.3333333333333333,
              "#9c179e"
             ],
             [
              0.4444444444444444,
              "#bd3786"
             ],
             [
              0.5555555555555556,
              "#d8576b"
             ],
             [
              0.6666666666666666,
              "#ed7953"
             ],
             [
              0.7777777777777778,
              "#fb9f3a"
             ],
             [
              0.8888888888888888,
              "#fdca26"
             ],
             [
              1,
              "#f0f921"
             ]
            ],
            "type": "contour"
           }
          ],
          "contourcarpet": [
           {
            "colorbar": {
             "outlinewidth": 0,
             "ticks": ""
            },
            "type": "contourcarpet"
           }
          ],
          "heatmap": [
           {
            "colorbar": {
             "outlinewidth": 0,
             "ticks": ""
            },
            "colorscale": [
             [
              0,
              "#0d0887"
             ],
             [
              0.1111111111111111,
              "#46039f"
             ],
             [
              0.2222222222222222,
              "#7201a8"
             ],
             [
              0.3333333333333333,
              "#9c179e"
             ],
             [
              0.4444444444444444,
              "#bd3786"
             ],
             [
              0.5555555555555556,
              "#d8576b"
             ],
             [
              0.6666666666666666,
              "#ed7953"
             ],
             [
              0.7777777777777778,
              "#fb9f3a"
             ],
             [
              0.8888888888888888,
              "#fdca26"
             ],
             [
              1,
              "#f0f921"
             ]
            ],
            "type": "heatmap"
           }
          ],
          "heatmapgl": [
           {
            "colorbar": {
             "outlinewidth": 0,
             "ticks": ""
            },
            "colorscale": [
             [
              0,
              "#0d0887"
             ],
             [
              0.1111111111111111,
              "#46039f"
             ],
             [
              0.2222222222222222,
              "#7201a8"
             ],
             [
              0.3333333333333333,
              "#9c179e"
             ],
             [
              0.4444444444444444,
              "#bd3786"
             ],
             [
              0.5555555555555556,
              "#d8576b"
             ],
             [
              0.6666666666666666,
              "#ed7953"
             ],
             [
              0.7777777777777778,
              "#fb9f3a"
             ],
             [
              0.8888888888888888,
              "#fdca26"
             ],
             [
              1,
              "#f0f921"
             ]
            ],
            "type": "heatmapgl"
           }
          ],
          "histogram": [
           {
            "marker": {
             "pattern": {
              "fillmode": "overlay",
              "size": 10,
              "solidity": 0.2
             }
            },
            "type": "histogram"
           }
          ],
          "histogram2d": [
           {
            "colorbar": {
             "outlinewidth": 0,
             "ticks": ""
            },
            "colorscale": [
             [
              0,
              "#0d0887"
             ],
             [
              0.1111111111111111,
              "#46039f"
             ],
             [
              0.2222222222222222,
              "#7201a8"
             ],
             [
              0.3333333333333333,
              "#9c179e"
             ],
             [
              0.4444444444444444,
              "#bd3786"
             ],
             [
              0.5555555555555556,
              "#d8576b"
             ],
             [
              0.6666666666666666,
              "#ed7953"
             ],
             [
              0.7777777777777778,
              "#fb9f3a"
             ],
             [
              0.8888888888888888,
              "#fdca26"
             ],
             [
              1,
              "#f0f921"
             ]
            ],
            "type": "histogram2d"
           }
          ],
          "histogram2dcontour": [
           {
            "colorbar": {
             "outlinewidth": 0,
             "ticks": ""
            },
            "colorscale": [
             [
              0,
              "#0d0887"
             ],
             [
              0.1111111111111111,
              "#46039f"
             ],
             [
              0.2222222222222222,
              "#7201a8"
             ],
             [
              0.3333333333333333,
              "#9c179e"
             ],
             [
              0.4444444444444444,
              "#bd3786"
             ],
             [
              0.5555555555555556,
              "#d8576b"
             ],
             [
              0.6666666666666666,
              "#ed7953"
             ],
             [
              0.7777777777777778,
              "#fb9f3a"
             ],
             [
              0.8888888888888888,
              "#fdca26"
             ],
             [
              1,
              "#f0f921"
             ]
            ],
            "type": "histogram2dcontour"
           }
          ],
          "mesh3d": [
           {
            "colorbar": {
             "outlinewidth": 0,
             "ticks": ""
            },
            "type": "mesh3d"
           }
          ],
          "parcoords": [
           {
            "line": {
             "colorbar": {
              "outlinewidth": 0,
              "ticks": ""
             }
            },
            "type": "parcoords"
           }
          ],
          "pie": [
           {
            "automargin": true,
            "type": "pie"
           }
          ],
          "scatter": [
           {
            "fillpattern": {
             "fillmode": "overlay",
             "size": 10,
             "solidity": 0.2
            },
            "type": "scatter"
           }
          ],
          "scatter3d": [
           {
            "line": {
             "colorbar": {
              "outlinewidth": 0,
              "ticks": ""
             }
            },
            "marker": {
             "colorbar": {
              "outlinewidth": 0,
              "ticks": ""
             }
            },
            "type": "scatter3d"
           }
          ],
          "scattercarpet": [
           {
            "marker": {
             "colorbar": {
              "outlinewidth": 0,
              "ticks": ""
             }
            },
            "type": "scattercarpet"
           }
          ],
          "scattergeo": [
           {
            "marker": {
             "colorbar": {
              "outlinewidth": 0,
              "ticks": ""
             }
            },
            "type": "scattergeo"
           }
          ],
          "scattergl": [
           {
            "marker": {
             "colorbar": {
              "outlinewidth": 0,
              "ticks": ""
             }
            },
            "type": "scattergl"
           }
          ],
          "scattermapbox": [
           {
            "marker": {
             "colorbar": {
              "outlinewidth": 0,
              "ticks": ""
             }
            },
            "type": "scattermapbox"
           }
          ],
          "scatterpolar": [
           {
            "marker": {
             "colorbar": {
              "outlinewidth": 0,
              "ticks": ""
             }
            },
            "type": "scatterpolar"
           }
          ],
          "scatterpolargl": [
           {
            "marker": {
             "colorbar": {
              "outlinewidth": 0,
              "ticks": ""
             }
            },
            "type": "scatterpolargl"
           }
          ],
          "scatterternary": [
           {
            "marker": {
             "colorbar": {
              "outlinewidth": 0,
              "ticks": ""
             }
            },
            "type": "scatterternary"
           }
          ],
          "surface": [
           {
            "colorbar": {
             "outlinewidth": 0,
             "ticks": ""
            },
            "colorscale": [
             [
              0,
              "#0d0887"
             ],
             [
              0.1111111111111111,
              "#46039f"
             ],
             [
              0.2222222222222222,
              "#7201a8"
             ],
             [
              0.3333333333333333,
              "#9c179e"
             ],
             [
              0.4444444444444444,
              "#bd3786"
             ],
             [
              0.5555555555555556,
              "#d8576b"
             ],
             [
              0.6666666666666666,
              "#ed7953"
             ],
             [
              0.7777777777777778,
              "#fb9f3a"
             ],
             [
              0.8888888888888888,
              "#fdca26"
             ],
             [
              1,
              "#f0f921"
             ]
            ],
            "type": "surface"
           }
          ],
          "table": [
           {
            "cells": {
             "fill": {
              "color": "#EBF0F8"
             },
             "line": {
              "color": "white"
             }
            },
            "header": {
             "fill": {
              "color": "#C8D4E3"
             },
             "line": {
              "color": "white"
             }
            },
            "type": "table"
           }
          ]
         },
         "layout": {
          "annotationdefaults": {
           "arrowcolor": "#2a3f5f",
           "arrowhead": 0,
           "arrowwidth": 1
          },
          "autotypenumbers": "strict",
          "coloraxis": {
           "colorbar": {
            "outlinewidth": 0,
            "ticks": ""
           }
          },
          "colorscale": {
           "diverging": [
            [
             0,
             "#8e0152"
            ],
            [
             0.1,
             "#c51b7d"
            ],
            [
             0.2,
             "#de77ae"
            ],
            [
             0.3,
             "#f1b6da"
            ],
            [
             0.4,
             "#fde0ef"
            ],
            [
             0.5,
             "#f7f7f7"
            ],
            [
             0.6,
             "#e6f5d0"
            ],
            [
             0.7,
             "#b8e186"
            ],
            [
             0.8,
             "#7fbc41"
            ],
            [
             0.9,
             "#4d9221"
            ],
            [
             1,
             "#276419"
            ]
           ],
           "sequential": [
            [
             0,
             "#0d0887"
            ],
            [
             0.1111111111111111,
             "#46039f"
            ],
            [
             0.2222222222222222,
             "#7201a8"
            ],
            [
             0.3333333333333333,
             "#9c179e"
            ],
            [
             0.4444444444444444,
             "#bd3786"
            ],
            [
             0.5555555555555556,
             "#d8576b"
            ],
            [
             0.6666666666666666,
             "#ed7953"
            ],
            [
             0.7777777777777778,
             "#fb9f3a"
            ],
            [
             0.8888888888888888,
             "#fdca26"
            ],
            [
             1,
             "#f0f921"
            ]
           ],
           "sequentialminus": [
            [
             0,
             "#0d0887"
            ],
            [
             0.1111111111111111,
             "#46039f"
            ],
            [
             0.2222222222222222,
             "#7201a8"
            ],
            [
             0.3333333333333333,
             "#9c179e"
            ],
            [
             0.4444444444444444,
             "#bd3786"
            ],
            [
             0.5555555555555556,
             "#d8576b"
            ],
            [
             0.6666666666666666,
             "#ed7953"
            ],
            [
             0.7777777777777778,
             "#fb9f3a"
            ],
            [
             0.8888888888888888,
             "#fdca26"
            ],
            [
             1,
             "#f0f921"
            ]
           ]
          },
          "colorway": [
           "#636efa",
           "#EF553B",
           "#00cc96",
           "#ab63fa",
           "#FFA15A",
           "#19d3f3",
           "#FF6692",
           "#B6E880",
           "#FF97FF",
           "#FECB52"
          ],
          "font": {
           "color": "#2a3f5f"
          },
          "geo": {
           "bgcolor": "white",
           "lakecolor": "white",
           "landcolor": "white",
           "showlakes": true,
           "showland": true,
           "subunitcolor": "#C8D4E3"
          },
          "hoverlabel": {
           "align": "left"
          },
          "hovermode": "closest",
          "mapbox": {
           "style": "light"
          },
          "paper_bgcolor": "white",
          "plot_bgcolor": "white",
          "polar": {
           "angularaxis": {
            "gridcolor": "#EBF0F8",
            "linecolor": "#EBF0F8",
            "ticks": ""
           },
           "bgcolor": "white",
           "radialaxis": {
            "gridcolor": "#EBF0F8",
            "linecolor": "#EBF0F8",
            "ticks": ""
           }
          },
          "scene": {
           "xaxis": {
            "backgroundcolor": "white",
            "gridcolor": "#DFE8F3",
            "gridwidth": 2,
            "linecolor": "#EBF0F8",
            "showbackground": true,
            "ticks": "",
            "zerolinecolor": "#EBF0F8"
           },
           "yaxis": {
            "backgroundcolor": "white",
            "gridcolor": "#DFE8F3",
            "gridwidth": 2,
            "linecolor": "#EBF0F8",
            "showbackground": true,
            "ticks": "",
            "zerolinecolor": "#EBF0F8"
           },
           "zaxis": {
            "backgroundcolor": "white",
            "gridcolor": "#DFE8F3",
            "gridwidth": 2,
            "linecolor": "#EBF0F8",
            "showbackground": true,
            "ticks": "",
            "zerolinecolor": "#EBF0F8"
           }
          },
          "shapedefaults": {
           "line": {
            "color": "#2a3f5f"
           }
          },
          "ternary": {
           "aaxis": {
            "gridcolor": "#DFE8F3",
            "linecolor": "#A2B1C6",
            "ticks": ""
           },
           "baxis": {
            "gridcolor": "#DFE8F3",
            "linecolor": "#A2B1C6",
            "ticks": ""
           },
           "bgcolor": "white",
           "caxis": {
            "gridcolor": "#DFE8F3",
            "linecolor": "#A2B1C6",
            "ticks": ""
           }
          },
          "title": {
           "x": 0.05
          },
          "xaxis": {
           "automargin": true,
           "gridcolor": "#EBF0F8",
           "linecolor": "#EBF0F8",
           "ticks": "",
           "title": {
            "standoff": 15
           },
           "zerolinecolor": "#EBF0F8",
           "zerolinewidth": 2
          },
          "yaxis": {
           "automargin": true,
           "gridcolor": "#EBF0F8",
           "linecolor": "#EBF0F8",
           "ticks": "",
           "title": {
            "standoff": 15
           },
           "zerolinecolor": "#EBF0F8",
           "zerolinewidth": 2
          }
         }
        },
        "title": {
         "text": "📈 Evolución de Tópicos Emergentes en el Tiempo"
        },
        "xaxis": {
         "anchor": "y",
         "domain": [
          0,
          1
         ],
         "title": {
          "text": "Fecha"
         }
        },
        "yaxis": {
         "anchor": "x",
         "domain": [
          0,
          1
         ],
         "title": {
          "text": "Importancia del Tópico"
         }
        }
       }
      }
     },
     "metadata": {},
     "output_type": "display_data"
    },
    {
     "data": {
      "application/vnd.plotly.v1+json": {
       "config": {
        "plotlyServerURL": "https://plot.ly"
       },
       "data": [
        {
         "hovertemplate": "cluster=1<br>Fecha=%{x}<br>Peso Total=%{y}<extra></extra>",
         "legendgroup": "1",
         "line": {
          "color": "#636efa",
          "dash": "solid"
         },
         "marker": {
          "symbol": "circle"
         },
         "mode": "lines+markers",
         "name": "1",
         "orientation": "v",
         "showlegend": true,
         "type": "scatter",
         "x": [
          "2019-01-01T00:00:00",
          "2019-02-01T00:00:00",
          "2019-03-01T00:00:00",
          "2019-04-01T00:00:00",
          "2019-05-01T00:00:00",
          "2019-06-01T00:00:00",
          "2019-07-01T00:00:00",
          "2019-08-01T00:00:00",
          "2019-09-01T00:00:00",
          "2019-10-01T00:00:00",
          "2019-11-01T00:00:00",
          "2019-12-01T00:00:00",
          "2020-01-01T00:00:00",
          "2020-02-01T00:00:00",
          "2020-03-01T00:00:00",
          "2020-04-01T00:00:00",
          "2020-05-01T00:00:00",
          "2020-06-01T00:00:00",
          "2020-07-01T00:00:00",
          "2020-08-01T00:00:00",
          "2020-09-01T00:00:00",
          "2020-10-01T00:00:00",
          "2020-11-01T00:00:00",
          "2020-12-01T00:00:00",
          "2021-01-01T00:00:00",
          "2021-02-01T00:00:00",
          "2021-03-01T00:00:00",
          "2021-04-01T00:00:00",
          "2021-05-01T00:00:00",
          "2021-06-01T00:00:00",
          "2021-09-01T00:00:00",
          "2022-11-01T00:00:00",
          "2023-01-01T00:00:00",
          "2023-02-01T00:00:00",
          "2023-03-01T00:00:00",
          "2023-04-01T00:00:00",
          "2023-05-01T00:00:00",
          "2023-06-01T00:00:00",
          "2023-07-01T00:00:00",
          "2023-08-01T00:00:00",
          "2023-09-01T00:00:00",
          "2023-10-01T00:00:00",
          "2023-11-01T00:00:00",
          "2023-12-01T00:00:00"
         ],
         "xaxis": "x",
         "y": [
          1.9997519507298382,
          3.500127513145526,
          3.4999191503172224,
          5.500843324668987,
          5.500143424744818,
          3.5002739207376674,
          1.9998301177250937,
          3.499789399141302,
          2.000323863913756,
          1.9995359832511048,
          4.785165610392957,
          5.500211269899634,
          1.999861011987544,
          2.0000980372001997,
          1.999545884759871,
          3.499627305002665,
          5.499918076942879,
          3.499867214673724,
          5.500981373302983,
          2.000865714630549,
          1.3471857073990159,
          1.9994560804511141,
          3.3529641344209433,
          1.7778298669727266,
          3.50017120236643,
          1.9998945276216742,
          1.7664524943267534,
          5.5011966647862085,
          2.7198914781477956,
          2.0005514149629424,
          2.7494652200248275,
          1.9997318824957053,
          3.168116472176356,
          5.499599117019131,
          2.0000323447486306,
          2.0002528054681545,
          4.802896908773028,
          1.786446857083356,
          5.500955607101239,
          3.4997413864765607,
          5.500028431043155,
          3.499229330650838,
          1.8437326533418026,
          1.7950204600603439
         ],
         "yaxis": "y"
        },
        {
         "hovertemplate": "cluster=0<br>Fecha=%{x}<br>Peso Total=%{y}<extra></extra>",
         "legendgroup": "0",
         "line": {
          "color": "#EF553B",
          "dash": "solid"
         },
         "marker": {
          "symbol": "circle"
         },
         "mode": "lines+markers",
         "name": "0",
         "orientation": "v",
         "showlegend": true,
         "type": "scatter",
         "x": [
          "2019-11-01T00:00:00",
          "2020-09-01T00:00:00",
          "2020-11-01T00:00:00",
          "2020-12-01T00:00:00",
          "2021-03-01T00:00:00",
          "2021-05-01T00:00:00",
          "2021-07-01T00:00:00",
          "2021-08-01T00:00:00",
          "2021-09-01T00:00:00",
          "2021-10-01T00:00:00",
          "2021-11-01T00:00:00",
          "2021-12-01T00:00:00",
          "2022-01-01T00:00:00",
          "2022-02-01T00:00:00",
          "2022-03-01T00:00:00",
          "2022-04-01T00:00:00",
          "2022-05-01T00:00:00",
          "2022-06-01T00:00:00",
          "2022-07-01T00:00:00",
          "2022-08-01T00:00:00",
          "2022-09-01T00:00:00",
          "2022-10-01T00:00:00",
          "2022-12-01T00:00:00",
          "2023-01-01T00:00:00",
          "2023-05-01T00:00:00",
          "2023-06-01T00:00:00",
          "2023-11-01T00:00:00",
          "2023-12-01T00:00:00"
         ],
         "xaxis": "x",
         "y": [
          0.714915438200135,
          0.6519105733412166,
          0.14687443451872292,
          0.22217461259374274,
          0.23356117786684252,
          2.779809980113398,
          3.5002283678342714,
          3.4999485918900612,
          0.7506630667802552,
          2.0001053375863163,
          5.499812438470772,
          2.0000168340247537,
          1.999769604587712,
          2.000585713383264,
          2.000180211198664,
          1.9995946890365879,
          3.499842015709562,
          5.499714486636002,
          3.500493662343185,
          5.499892193649798,
          3.500034106254414,
          5.501483339272506,
          5.49992451364245,
          2.3320226956739547,
          0.6971559157491168,
          0.21318452928789028,
          1.6562458942190872,
          0.20460423101703656
         ],
         "yaxis": "y"
        }
       ],
       "layout": {
        "legend": {
         "title": {
          "text": "cluster"
         },
         "tracegroupgap": 0
        },
        "template": {
         "data": {
          "bar": [
           {
            "error_x": {
             "color": "#2a3f5f"
            },
            "error_y": {
             "color": "#2a3f5f"
            },
            "marker": {
             "line": {
              "color": "white",
              "width": 0.5
             },
             "pattern": {
              "fillmode": "overlay",
              "size": 10,
              "solidity": 0.2
             }
            },
            "type": "bar"
           }
          ],
          "barpolar": [
           {
            "marker": {
             "line": {
              "color": "white",
              "width": 0.5
             },
             "pattern": {
              "fillmode": "overlay",
              "size": 10,
              "solidity": 0.2
             }
            },
            "type": "barpolar"
           }
          ],
          "carpet": [
           {
            "aaxis": {
             "endlinecolor": "#2a3f5f",
             "gridcolor": "#C8D4E3",
             "linecolor": "#C8D4E3",
             "minorgridcolor": "#C8D4E3",
             "startlinecolor": "#2a3f5f"
            },
            "baxis": {
             "endlinecolor": "#2a3f5f",
             "gridcolor": "#C8D4E3",
             "linecolor": "#C8D4E3",
             "minorgridcolor": "#C8D4E3",
             "startlinecolor": "#2a3f5f"
            },
            "type": "carpet"
           }
          ],
          "choropleth": [
           {
            "colorbar": {
             "outlinewidth": 0,
             "ticks": ""
            },
            "type": "choropleth"
           }
          ],
          "contour": [
           {
            "colorbar": {
             "outlinewidth": 0,
             "ticks": ""
            },
            "colorscale": [
             [
              0,
              "#0d0887"
             ],
             [
              0.1111111111111111,
              "#46039f"
             ],
             [
              0.2222222222222222,
              "#7201a8"
             ],
             [
              0.3333333333333333,
              "#9c179e"
             ],
             [
              0.4444444444444444,
              "#bd3786"
             ],
             [
              0.5555555555555556,
              "#d8576b"
             ],
             [
              0.6666666666666666,
              "#ed7953"
             ],
             [
              0.7777777777777778,
              "#fb9f3a"
             ],
             [
              0.8888888888888888,
              "#fdca26"
             ],
             [
              1,
              "#f0f921"
             ]
            ],
            "type": "contour"
           }
          ],
          "contourcarpet": [
           {
            "colorbar": {
             "outlinewidth": 0,
             "ticks": ""
            },
            "type": "contourcarpet"
           }
          ],
          "heatmap": [
           {
            "colorbar": {
             "outlinewidth": 0,
             "ticks": ""
            },
            "colorscale": [
             [
              0,
              "#0d0887"
             ],
             [
              0.1111111111111111,
              "#46039f"
             ],
             [
              0.2222222222222222,
              "#7201a8"
             ],
             [
              0.3333333333333333,
              "#9c179e"
             ],
             [
              0.4444444444444444,
              "#bd3786"
             ],
             [
              0.5555555555555556,
              "#d8576b"
             ],
             [
              0.6666666666666666,
              "#ed7953"
             ],
             [
              0.7777777777777778,
              "#fb9f3a"
             ],
             [
              0.8888888888888888,
              "#fdca26"
             ],
             [
              1,
              "#f0f921"
             ]
            ],
            "type": "heatmap"
           }
          ],
          "heatmapgl": [
           {
            "colorbar": {
             "outlinewidth": 0,
             "ticks": ""
            },
            "colorscale": [
             [
              0,
              "#0d0887"
             ],
             [
              0.1111111111111111,
              "#46039f"
             ],
             [
              0.2222222222222222,
              "#7201a8"
             ],
             [
              0.3333333333333333,
              "#9c179e"
             ],
             [
              0.4444444444444444,
              "#bd3786"
             ],
             [
              0.5555555555555556,
              "#d8576b"
             ],
             [
              0.6666666666666666,
              "#ed7953"
             ],
             [
              0.7777777777777778,
              "#fb9f3a"
             ],
             [
              0.8888888888888888,
              "#fdca26"
             ],
             [
              1,
              "#f0f921"
             ]
            ],
            "type": "heatmapgl"
           }
          ],
          "histogram": [
           {
            "marker": {
             "pattern": {
              "fillmode": "overlay",
              "size": 10,
              "solidity": 0.2
             }
            },
            "type": "histogram"
           }
          ],
          "histogram2d": [
           {
            "colorbar": {
             "outlinewidth": 0,
             "ticks": ""
            },
            "colorscale": [
             [
              0,
              "#0d0887"
             ],
             [
              0.1111111111111111,
              "#46039f"
             ],
             [
              0.2222222222222222,
              "#7201a8"
             ],
             [
              0.3333333333333333,
              "#9c179e"
             ],
             [
              0.4444444444444444,
              "#bd3786"
             ],
             [
              0.5555555555555556,
              "#d8576b"
             ],
             [
              0.6666666666666666,
              "#ed7953"
             ],
             [
              0.7777777777777778,
              "#fb9f3a"
             ],
             [
              0.8888888888888888,
              "#fdca26"
             ],
             [
              1,
              "#f0f921"
             ]
            ],
            "type": "histogram2d"
           }
          ],
          "histogram2dcontour": [
           {
            "colorbar": {
             "outlinewidth": 0,
             "ticks": ""
            },
            "colorscale": [
             [
              0,
              "#0d0887"
             ],
             [
              0.1111111111111111,
              "#46039f"
             ],
             [
              0.2222222222222222,
              "#7201a8"
             ],
             [
              0.3333333333333333,
              "#9c179e"
             ],
             [
              0.4444444444444444,
              "#bd3786"
             ],
             [
              0.5555555555555556,
              "#d8576b"
             ],
             [
              0.6666666666666666,
              "#ed7953"
             ],
             [
              0.7777777777777778,
              "#fb9f3a"
             ],
             [
              0.8888888888888888,
              "#fdca26"
             ],
             [
              1,
              "#f0f921"
             ]
            ],
            "type": "histogram2dcontour"
           }
          ],
          "mesh3d": [
           {
            "colorbar": {
             "outlinewidth": 0,
             "ticks": ""
            },
            "type": "mesh3d"
           }
          ],
          "parcoords": [
           {
            "line": {
             "colorbar": {
              "outlinewidth": 0,
              "ticks": ""
             }
            },
            "type": "parcoords"
           }
          ],
          "pie": [
           {
            "automargin": true,
            "type": "pie"
           }
          ],
          "scatter": [
           {
            "fillpattern": {
             "fillmode": "overlay",
             "size": 10,
             "solidity": 0.2
            },
            "type": "scatter"
           }
          ],
          "scatter3d": [
           {
            "line": {
             "colorbar": {
              "outlinewidth": 0,
              "ticks": ""
             }
            },
            "marker": {
             "colorbar": {
              "outlinewidth": 0,
              "ticks": ""
             }
            },
            "type": "scatter3d"
           }
          ],
          "scattercarpet": [
           {
            "marker": {
             "colorbar": {
              "outlinewidth": 0,
              "ticks": ""
             }
            },
            "type": "scattercarpet"
           }
          ],
          "scattergeo": [
           {
            "marker": {
             "colorbar": {
              "outlinewidth": 0,
              "ticks": ""
             }
            },
            "type": "scattergeo"
           }
          ],
          "scattergl": [
           {
            "marker": {
             "colorbar": {
              "outlinewidth": 0,
              "ticks": ""
             }
            },
            "type": "scattergl"
           }
          ],
          "scattermapbox": [
           {
            "marker": {
             "colorbar": {
              "outlinewidth": 0,
              "ticks": ""
             }
            },
            "type": "scattermapbox"
           }
          ],
          "scatterpolar": [
           {
            "marker": {
             "colorbar": {
              "outlinewidth": 0,
              "ticks": ""
             }
            },
            "type": "scatterpolar"
           }
          ],
          "scatterpolargl": [
           {
            "marker": {
             "colorbar": {
              "outlinewidth": 0,
              "ticks": ""
             }
            },
            "type": "scatterpolargl"
           }
          ],
          "scatterternary": [
           {
            "marker": {
             "colorbar": {
              "outlinewidth": 0,
              "ticks": ""
             }
            },
            "type": "scatterternary"
           }
          ],
          "surface": [
           {
            "colorbar": {
             "outlinewidth": 0,
             "ticks": ""
            },
            "colorscale": [
             [
              0,
              "#0d0887"
             ],
             [
              0.1111111111111111,
              "#46039f"
             ],
             [
              0.2222222222222222,
              "#7201a8"
             ],
             [
              0.3333333333333333,
              "#9c179e"
             ],
             [
              0.4444444444444444,
              "#bd3786"
             ],
             [
              0.5555555555555556,
              "#d8576b"
             ],
             [
              0.6666666666666666,
              "#ed7953"
             ],
             [
              0.7777777777777778,
              "#fb9f3a"
             ],
             [
              0.8888888888888888,
              "#fdca26"
             ],
             [
              1,
              "#f0f921"
             ]
            ],
            "type": "surface"
           }
          ],
          "table": [
           {
            "cells": {
             "fill": {
              "color": "#EBF0F8"
             },
             "line": {
              "color": "white"
             }
            },
            "header": {
             "fill": {
              "color": "#C8D4E3"
             },
             "line": {
              "color": "white"
             }
            },
            "type": "table"
           }
          ]
         },
         "layout": {
          "annotationdefaults": {
           "arrowcolor": "#2a3f5f",
           "arrowhead": 0,
           "arrowwidth": 1
          },
          "autotypenumbers": "strict",
          "coloraxis": {
           "colorbar": {
            "outlinewidth": 0,
            "ticks": ""
           }
          },
          "colorscale": {
           "diverging": [
            [
             0,
             "#8e0152"
            ],
            [
             0.1,
             "#c51b7d"
            ],
            [
             0.2,
             "#de77ae"
            ],
            [
             0.3,
             "#f1b6da"
            ],
            [
             0.4,
             "#fde0ef"
            ],
            [
             0.5,
             "#f7f7f7"
            ],
            [
             0.6,
             "#e6f5d0"
            ],
            [
             0.7,
             "#b8e186"
            ],
            [
             0.8,
             "#7fbc41"
            ],
            [
             0.9,
             "#4d9221"
            ],
            [
             1,
             "#276419"
            ]
           ],
           "sequential": [
            [
             0,
             "#0d0887"
            ],
            [
             0.1111111111111111,
             "#46039f"
            ],
            [
             0.2222222222222222,
             "#7201a8"
            ],
            [
             0.3333333333333333,
             "#9c179e"
            ],
            [
             0.4444444444444444,
             "#bd3786"
            ],
            [
             0.5555555555555556,
             "#d8576b"
            ],
            [
             0.6666666666666666,
             "#ed7953"
            ],
            [
             0.7777777777777778,
             "#fb9f3a"
            ],
            [
             0.8888888888888888,
             "#fdca26"
            ],
            [
             1,
             "#f0f921"
            ]
           ],
           "sequentialminus": [
            [
             0,
             "#0d0887"
            ],
            [
             0.1111111111111111,
             "#46039f"
            ],
            [
             0.2222222222222222,
             "#7201a8"
            ],
            [
             0.3333333333333333,
             "#9c179e"
            ],
            [
             0.4444444444444444,
             "#bd3786"
            ],
            [
             0.5555555555555556,
             "#d8576b"
            ],
            [
             0.6666666666666666,
             "#ed7953"
            ],
            [
             0.7777777777777778,
             "#fb9f3a"
            ],
            [
             0.8888888888888888,
             "#fdca26"
            ],
            [
             1,
             "#f0f921"
            ]
           ]
          },
          "colorway": [
           "#636efa",
           "#EF553B",
           "#00cc96",
           "#ab63fa",
           "#FFA15A",
           "#19d3f3",
           "#FF6692",
           "#B6E880",
           "#FF97FF",
           "#FECB52"
          ],
          "font": {
           "color": "#2a3f5f"
          },
          "geo": {
           "bgcolor": "white",
           "lakecolor": "white",
           "landcolor": "white",
           "showlakes": true,
           "showland": true,
           "subunitcolor": "#C8D4E3"
          },
          "hoverlabel": {
           "align": "left"
          },
          "hovermode": "closest",
          "mapbox": {
           "style": "light"
          },
          "paper_bgcolor": "white",
          "plot_bgcolor": "white",
          "polar": {
           "angularaxis": {
            "gridcolor": "#EBF0F8",
            "linecolor": "#EBF0F8",
            "ticks": ""
           },
           "bgcolor": "white",
           "radialaxis": {
            "gridcolor": "#EBF0F8",
            "linecolor": "#EBF0F8",
            "ticks": ""
           }
          },
          "scene": {
           "xaxis": {
            "backgroundcolor": "white",
            "gridcolor": "#DFE8F3",
            "gridwidth": 2,
            "linecolor": "#EBF0F8",
            "showbackground": true,
            "ticks": "",
            "zerolinecolor": "#EBF0F8"
           },
           "yaxis": {
            "backgroundcolor": "white",
            "gridcolor": "#DFE8F3",
            "gridwidth": 2,
            "linecolor": "#EBF0F8",
            "showbackground": true,
            "ticks": "",
            "zerolinecolor": "#EBF0F8"
           },
           "zaxis": {
            "backgroundcolor": "white",
            "gridcolor": "#DFE8F3",
            "gridwidth": 2,
            "linecolor": "#EBF0F8",
            "showbackground": true,
            "ticks": "",
            "zerolinecolor": "#EBF0F8"
           }
          },
          "shapedefaults": {
           "line": {
            "color": "#2a3f5f"
           }
          },
          "ternary": {
           "aaxis": {
            "gridcolor": "#DFE8F3",
            "linecolor": "#A2B1C6",
            "ticks": ""
           },
           "baxis": {
            "gridcolor": "#DFE8F3",
            "linecolor": "#A2B1C6",
            "ticks": ""
           },
           "bgcolor": "white",
           "caxis": {
            "gridcolor": "#DFE8F3",
            "linecolor": "#A2B1C6",
            "ticks": ""
           }
          },
          "title": {
           "x": 0.05
          },
          "xaxis": {
           "automargin": true,
           "gridcolor": "#EBF0F8",
           "linecolor": "#EBF0F8",
           "ticks": "",
           "title": {
            "standoff": 15
           },
           "zerolinecolor": "#EBF0F8",
           "zerolinewidth": 2
          },
          "yaxis": {
           "automargin": true,
           "gridcolor": "#EBF0F8",
           "linecolor": "#EBF0F8",
           "ticks": "",
           "title": {
            "standoff": 15
           },
           "zerolinecolor": "#EBF0F8",
           "zerolinewidth": 2
          }
         }
        },
        "title": {
         "text": "📊 Línea de Tiempo por Clúster de Tópicos"
        },
        "xaxis": {
         "anchor": "y",
         "domain": [
          0,
          1
         ],
         "title": {
          "text": "Fecha"
         }
        },
        "yaxis": {
         "anchor": "x",
         "domain": [
          0,
          1
         ],
         "title": {
          "text": "Peso Total"
         }
        }
       }
      }
     },
     "metadata": {},
     "output_type": "display_data"
    },
    {
     "name": "stderr",
     "output_type": "stream",
     "text": [
      "C:\\Users\\Rodrigo\\AppData\\Roaming\\Python\\Python312\\site-packages\\IPython\\core\\pylabtools.py:170: UserWarning:\n",
      "\n",
      "Glyph 128293 (\\N{FIRE}) missing from font(s) DejaVu Sans.\n",
      "\n"
     ]
    },
    {
     "data": {
      "image/png": "[encoded data removed]",
      "text/plain": [
       "<Figure size 1200x600 with 1 Axes>"
      ]
     },
     "metadata": {},
     "output_type": "display_data"
    }
   ],
   "source": [
    "\n",
    "import pandas as pd\n",
    "import numpy as np\n",
    "from datetime import datetime\n",
    "import re\n",
    "from tqdm import tqdm\n",
    "from gensim.corpora import Dictionary\n",
    "from gensim.models import LdaModel, CoherenceModel\n",
    "from sklearn.metrics.pairwise import cosine_similarity\n",
    "import networkx as nx\n",
    "import community as community_louvain\n",
    "import plotly.express as px\n",
    "import plotly.graph_objects as go\n",
    "import seaborn as sns\n",
    "import matplotlib.pyplot as plt\n",
    "\n",
    "df = pd.read_parquet(\"01_bbdd_think_tanks.parquet\")\n",
    "df = df[(df[\"FechaPublicacion\"] >= \"2019-01-01\") & (df[\"FechaPublicacion\"] <= \"2023-12-31\")]\n",
    "df[\"Mes\"] = df[\"FechaPublicacion\"].dt.to_period(\"M\")\n",
    "\n",
    "with open(\"stopwords.txt\", \"r\", encoding=\"utf-8\") as f:\n",
    "    stopwords_custom = set(line.strip().lower() for line in f if line.strip())\n",
    "\n",
    "\n",
    "def preprocess(text):\n",
    "    text = re.sub(r\"[^a-zA-ZáéíóúüñÁÉÍÓÚÜÑ\\s]\", \"\", text.lower())\n",
    "    return [w for w in text.split() if len(w) > 2 and w not in stopwords_custom]\n",
    "\n",
    "df[\"tokens\"] = df[\"TextoLimpio\"].dropna().apply(preprocess)\n",
    "\n",
    "\n",
    "global_texts = df[\"tokens\"].tolist()\n",
    "global_dict = Dictionary(global_texts)\n",
    "global_dict.filter_extremes(no_below=5, no_above=0.5)\n",
    "\n",
    "\n",
    "def best_lda_model(texts, dictionary, corpus, min_topics=3, max_topics=5):\n",
    "    best_model, best_coherence = None, -1\n",
    "    for k in range(min_topics, max_topics + 1):\n",
    "        lda = LdaModel(corpus=corpus, id2word=dictionary, num_topics=k, random_state=42)\n",
    "        cm = CoherenceModel(model=lda, texts=texts, dictionary=dictionary, coherence='c_v')\n",
    "        coherence = cm.get_coherence()\n",
    "        if coherence > best_coherence:\n",
    "            best_model, best_coherence = lda, coherence\n",
    "    return best_model\n",
    "\n",
    "\n",
    "topics_all = []\n",
    "for mes, grupo in tqdm(df.groupby(\"Mes\")):\n",
    "    textos = grupo[\"tokens\"].dropna().tolist()\n",
    "    if not textos:\n",
    "        continue\n",
    "    corpus = [global_dict.doc2bow(text) for text in textos]\n",
    "    if not corpus or all(len(doc) == 0 for doc in corpus):\n",
    "        continue\n",
    "    lda = best_lda_model(textos, global_dict, corpus)\n",
    "    for idx, topic in enumerate(lda.show_topics(num_words=10, formatted=False)):\n",
    "        palabras = [w for w, _ in topic[1]]\n",
    "        vector = np.zeros(len(global_dict))\n",
    "        for w_id, prob in lda.get_topic_terms(idx, topn=len(global_dict)):\n",
    "            vector[w_id] = prob\n",
    "        topics_all.append({\n",
    "            \"mes\": str(mes),\n",
    "            \"topico_id\": idx,\n",
    "            \"palabras\": \", \".join(palabras),\n",
    "            \"vector\": vector,\n",
    "            \"peso\": np.mean([prob[idx] for prob in lda.get_document_topics(corpus, minimum_probability=0)]),\n",
    "        })\n",
    "\n",
    "df_topics = pd.DataFrame(topics_all)\n",
    "\n",
    "# Similarity Graph + Louvain Clustering\n",
    "G = nx.Graph()\n",
    "similarity_threshold = 0.6\n",
    "for i1, row1 in df_topics.iterrows():\n",
    "    for i2, row2 in df_topics.iterrows():\n",
    "        if i1 >= i2:\n",
    "            continue\n",
    "        sim = cosine_similarity([row1[\"vector\"]], [row2[\"vector\"]])[0][0]\n",
    "        if sim > similarity_threshold:\n",
    "            G.add_edge(i1, i2, weight=sim)\n",
    "partition = community_louvain.best_partition(G)\n",
    "df_topics[\"cluster\"] = df_topics.index.map(partition)\n",
    "\n",
    "\n",
    "df_plot = df_topics.copy()\n",
    "df_plot[\"Mes\"] = pd.to_datetime(df_plot[\"mes\"])\n",
    "fig = px.scatter(\n",
    "    df_plot,\n",
    "    x=\"Mes\",\n",
    "    y=\"peso\",\n",
    "    color=\"cluster\",\n",
    "    hover_data=[\"palabras\"],\n",
    "    title=\"📈 Evolución de Tópicos Emergentes en el Tiempo\",\n",
    "    labels={\"peso\": \"Importancia del Tópico\", \"Mes\": \"Fecha\"},\n",
    "    template=\"plotly_white\"\n",
    ")\n",
    "fig.update_traces(marker=dict(size=10, line=dict(width=0.5, color='DarkSlateGrey')))\n",
    "fig.update_layout(legend_title_text='Clúster de Tópico')\n",
    "fig.show()\n",
    "\n",
    "\n",
    "timeline_df = df_topics.copy()\n",
    "timeline_df[\"Mes\"] = pd.to_datetime(timeline_df[\"mes\"])\n",
    "timeline_df = timeline_df.groupby([\"Mes\", \"cluster\"]).agg({\"peso\": \"sum\"}).reset_index()\n",
    "\n",
    "fig2 = px.line(\n",
    "    timeline_df,\n",
    "    x=\"Mes\",\n",
    "    y=\"peso\",\n",
    "    color=\"cluster\",\n",
    "    title=\"📊 Línea de Tiempo por Clúster de Tópicos\",\n",
    "    labels={\"peso\": \"Peso Total\", \"Mes\": \"Fecha\"},\n",
    "    markers=True,\n",
    "    template=\"plotly_white\"\n",
    ")\n",
    "fig2.show()\n",
    "\n",
    "\n",
    "from collections import Counter\n",
    "def top_words_por_cluster(df, top_n=10):\n",
    "    cluster_words = {}\n",
    "    for cluster in df[\"cluster\"].unique():\n",
    "        textos = df[df[\"cluster\"] == cluster][\"palabras\"]\n",
    "        all_words = [w for txt in textos for w in txt.split(\", \")]\n",
    "        counter = Counter(all_words)\n",
    "        cluster_words[cluster] = [w for w, _ in counter.most_common(top_n)]\n",
    "    return pd.DataFrame.from_dict(cluster_words, orient=\"index\")\n",
    "\n",
    "heatmap_df = top_words_por_cluster(df_topics, top_n=10)\n",
    "plt.figure(figsize=(12, 6))\n",
    "sns.heatmap(\n",
    "    pd.DataFrame([[1]*10]*len(heatmap_df), index=heatmap_df.index, columns=heatmap_df.columns),\n",
    "    cbar=False,\n",
    "    annot=heatmap_df.values,\n",
    "    fmt=\"\",\n",
    "    cmap=\"viridis\"\n",
    ")\n",
    "plt.title(\"🔥 Palabras más frecuentes por clúster\")\n",
    "plt.yticks(rotation=0)\n",
    "plt.show()\n",
    "\n"
   ]
  },
  {
   "cell_type": "code",
   "execution_count": 21,
   "id": "dbdac399",
   "metadata": {},
   "outputs": [
    {
     "data": {
      "application/vnd.plotly.v1+json": {
       "config": {
        "plotlyServerURL": "https://plot.ly"
       },
       "data": [
        {
         "customdata": [
          [
           "politica, ley, desarrollo, gobierno, proyecto, sistema, libertad, publico, informacion, span"
          ],
          [
           "presidente, politica, ley, proyecto, años, libertad, gobierno, año, pais, sistema"
          ],
          [
           "politica, ley, proyecto, sistema, gobierno, pais, años, libertad, desarrollo, año"
          ],
          [
           "derechos, humanos, proyecto, ley, sistema, gobierno, guerra, años, libertad, salud"
          ],
          [
           "derechos, humanos, presidente, proyecto, venezuela, program, libertad, piñera, uandes, sistema"
          ],
          [
           "program, uandes, for, students, cultural, will, student, gobierno, apec, with"
          ],
          [
           "sistema, proyecto, gobierno, años, año, salud, personas, desarrollo, derechos, pais"
          ],
          [
           "mujeres, gobierno, politica, universidad, pais, informacion, ley, social, nacional, año"
          ],
          [
           "año, venezuela, derecho, universidad, social, politica, proyecto, mujeres, gobierno, forma"
          ],
          [
           "sistema, gobierno, pais, social, universidad, politica, año, años, personas, pensiones"
          ],
          [
           "sistema, pensiones, años, gobierno, mujeres, pais, personas, politica, nacional, año"
          ],
          [
           "universidad, desarrollo, libertad, datos, ley, educacion, economia, politica, calidad, nacional"
          ],
          [
           "universidad, libertad, economia, director, proyecto, profesor, historia, ley, internacional, progreso"
          ],
          [
           "universidad, libertad, progreso, historia, politica, democracia, sistema, director, freedom, fundacion"
          ],
          [
           "libertad, universidad, desarrollo, personas, progreso, politica, democracia, sistema, freedom, economia"
          ],
          [
           "universidad, sistema, fundacion, desarrollo, uandes, progreso, educacion, años, economia, gobierno"
          ],
          [
           "pais, china, universidad, desarrollo, gobierno, paises, vida, proyecto, mundo, politica"
          ],
          [
           "universidad, pais, proyecto, gobierno, china, laboral, personas, año, presidente, libertad"
          ],
          [
           "pais, china, gobierno, paises, personas, media, universidad, politica, rural, acuerdo"
          ],
          [
           "pais, china, media, clase, desarrollo, personas, gobierno, libertad, politica, proyecto"
          ],
          [
           "pais, china, gobierno, fundacion, uandes, desarrollo, años, universidad, año, paises"
          ],
          [
           "universidad, politica, economia, gobierno, años, fundacion, desarrollo, ideas, pais, alumnos"
          ],
          [
           "universidad, años, año, proyecto, personas, fundacion, seguridad, uandes, alumnos, educacion"
          ],
          [
           "universidad, seguridad, fundacion, gobierno, liberalismo, politica, progreso, años, fpp, santiago"
          ],
          [
           "mar, jun, dic, sep, personas, seguridad, años, politica, pais, desarrollo"
          ],
          [
           "universidad, desarrollo, pais, politica, gobierno, sesion, años, formacion, uandes, mundo"
          ],
          [
           "clase, media, años, universidad, pais, proyecto, uandes, año, personas, social"
          ],
          [
           "gobierno, media, clase, pais, universidad, politica, acuerdo, años, sistema, social"
          ],
          [
           "universidad, uandes, alumnos, años, educacion, desarrollo, salud, pais, investigacion, año"
          ],
          [
           "universidad, año, proyecto, años, uandes, ley, presidente, empresas, laboral, gobierno"
          ],
          [
           "universidad, fundacion, pais, año, gobierno, progreso, años, ley, personas, sistema"
          ],
          [
           "personas, años, pais, sistema, educacion, año, desarrollo, mil, ley, gobierno"
          ],
          [
           "universidad, salud, personas, pais, desarrollo, uandes, años, politica, mundo, nacional"
          ],
          [
           "universidad, corrupcion, año, personas, años, salud, proyecto, pais, publico, uandes"
          ],
          [
           "universidad, sistema, pais, personas, años, año, publico, gobierno, politica, social"
          ],
          [
           "politica, gobierno, pais, educacion, universidad, ley, años, personas, social, desarrollo"
          ],
          [
           "politica, años, social, personas, presidente, pais, año, gobierno, sistema, proyecto"
          ],
          [
           "gobierno, politica, sistema, pais, social, años, año, educacion, ley, personas"
          ],
          [
           "social, constitucion, politica, universidad, salud, pais, constituyente, nacional, gobierno, sociales"
          ],
          [
           "social, constitucion, politica, salud, universidad, pais, presidente, años, acuerdo, proceso"
          ],
          [
           "social, gobierno, pais, politica, acuerdo, democracia, constitucion, violencia, crisis, universidad"
          ],
          [
           "constitucion, pais, social, politica, violencia, salud, gobierno, democracia, personas, años"
          ],
          [
           "constitucion, social, gobierno, pais, salud, universidad, uandes, politica, crisis, sistema"
          ],
          [
           "politica, universidad, social, constitucion, pais, proceso, años, gobierno, nacional, datos"
          ],
          [
           "social, universidad, años, año, pais, violencia, constitucion, proceso, forma, politica"
          ],
          [
           "social, pais, gobierno, politica, democracia, años, publico, sistema, universidad, año"
          ],
          [
           "pais, politica, personas, democracia, violencia, constitucion, años, sistema, gobierno, social"
          ],
          [
           "pais, gobierno, años, regionales, año, politica, constitucion, sistema, universidad, uandes"
          ],
          [
           "universidad, pais, salud, publico, nacional, constitucion, social, desarrollo, proceso, politica"
          ],
          [
           "social, años, universidad, pais, enero, sistema, grupos, salud, constitucion, año"
          ],
          [
           "sistema, pais, social, pensiones, universidad, años, politica, publico, personas, gobierno"
          ],
          [
           "politica, años, pais, social, gobierno, nacional, publico, abril, desarrollo, constitucion"
          ],
          [
           "constitucional, proyecto, social, años, constitucion, pais, año, politica, ley, forma"
          ],
          [
           "pais, años, social, gobierno, politica, abril, publico, sistema, universidad, proyecto"
          ],
          [
           "mujeres, pais, salud, crisis, personas, trabajadores, años, gobierno, politica, medidas"
          ],
          [
           "años, mujeres, personas, crisis, pais, salud, coronavirus, presidente, social, forma"
          ],
          [
           "pais, crisis, gobierno, años, personas, social, politica, sistema, coronavirus, mar"
          ],
          [
           "crisis, pandemia, trabajadores, salud, social, pais, personas, gobierno, vida, medidas"
          ],
          [
           "crisis, pandemia, social, empresas, personas, salud, pais, forma, economia, covid"
          ],
          [
           "crisis, social, pandemia, pais, covid, gobierno, personas, educacion, universidad, vida"
          ],
          [
           "pandemia, personas, crisis, pais, politica, salud, gobierno, forma, vida, covid"
          ],
          [
           "crisis, pandemia, social, politica, vida, salud, sociedad, gobierno, personas, pais"
          ],
          [
           "crisis, pandemia, empresas, economia, social, derechos, personas, forma, años, politica"
          ],
          [
           "crisis, pandemia, pais, social, politica, gobierno, personas, sociedad, vida, covid"
          ],
          [
           "pandemia, crisis, personas, politica, pais, economia, gobierno, vida, años, salud"
          ],
          [
           "crisis, pandemia, gobierno, economia, salud, politica, años, medidas, pais, fundacion"
          ],
          [
           "universidad, educacion, pandemia, gobierno, crisis, politica, años, social, pais, salud"
          ],
          [
           "educacion, años, gobierno, pandemia, salud, proyecto, social, constitucion, pais, crisis"
          ],
          [
           "gobierno, pais, social, educacion, politica, pandemia, crisis, años, acuerdo, fiscal"
          ],
          [
           "educacion, pandemia, pais, mujeres, gobierno, politica, años, constitucion, personas, crisis"
          ],
          [
           "ley, universidad, pandemia, desarrollo, sistema, proceso, politica, pais, personas, crisis"
          ],
          [
           "universidad, pensiones, proyecto, ley, pandemia, sistema, social, crisis, pais, presidente"
          ],
          [
           "sistema, pais, pensiones, social, gobierno, personas, politica, crisis, universidad, pandemia"
          ],
          [
           "pensiones, sistema, personas, pandemia, politica, pais, años, fondos, gobierno, proyecto"
          ],
          [
           "gobierno, sistema, pensiones, crisis, pais, fondos, años, proyecto, politica, ley"
          ],
          [
           "politica, pais, personas, constitucion, familia, proceso, nacional, pandemia, derecho, ley"
          ],
          [
           "constitucional, personas, constitucion, politica, social, proceso, familia, pais, años, proyecto"
          ],
          [
           "pais, politica, personas, social, gobierno, años, sociedad, educacion, sistema, acuerdo"
          ],
          [
           "politica, pais, constitucion, gobierno, universidad, derechos, desarrollo, proceso, sociales, años"
          ],
          [
           "constitucion, pais, minimo, politica, constitucional, año, derechos, proceso, universidad, años"
          ],
          [
           "pais, politica, gobierno, año, constitucion, sistema, años, social, universidad, personas"
          ],
          [
           "constitucion, universidad, politica, personas, salud, pais, derecho, desarrollo, proceso, vida"
          ],
          [
           "constitucion, año, universidad, personas, educacion, politica, economia, presidente, pais, proceso"
          ],
          [
           "universidad, politica, pais, año, personas, social, sistema, constitucion, mundo, gobierno"
          ],
          [
           "universidad, constitucion, politica, pais, educacion, desarrollo, social, proceso, salud, sistema"
          ],
          [
           "constitucion, universidad, educacion, pais, constitucional, año, retiro, proceso, social, politica"
          ],
          [
           "educacion, sistema, pais, social, linea, politica, universidad, gobierno, personas, pensiones"
          ],
          [
           "pais, sistema, personas, politica, constitucion, pensiones, educacion, años, desarrollo, forma"
          ],
          [
           "politica, constitucion, pais, personas, proceso, social, año, participacion, desarrollo, gobierno"
          ],
          [
           "constitucion, pais, año, personas, politica, proceso, constitucional, años, presidente, social"
          ],
          [
           "pais, politica, personas, año, gobierno, constitucion, democracia, social, sistema, educacion"
          ],
          [
           "pais, politica, social, proceso, años, constitucion, personas, ley, sociales, debate"
          ],
          [
           "año, social, proyecto, constitucion, años, pais, personas, politica, proceso, presidente"
          ],
          [
           "pais, politica, social, sistema, años, año, gobierno, democracia, personas, constitucion"
          ],
          [
           "pais, politica, personas, años, sistema, desarrollo, constitucion, año, social, democracia"
          ],
          [
           "pais, politica, sociedad, año, personas, publico, vida, gobierno, sociales, años"
          ],
          [
           "año, personas, pais, millones, años, forma, politica, publico, presidente, proceso"
          ],
          [
           "pais, politica, año, sociedad, gobierno, años, personas, sistema, democracia, social"
          ],
          [
           "politica, derecho, universidad, pais, desarrollo, gobierno, años, publico, vida, nacional"
          ],
          [
           "derecho, año, años, violencia, constitucional, politica, personas, dia, pais, forma"
          ],
          [
           "politica, pais, gobierno, sistema, derecho, violencia, años, año, personas, publico"
          ],
          [
           "universidad, politica, pais, social, proceso, pandemia, nacional, ley, constitucion, personas"
          ],
          [
           "universidad, economia, politica, pais, social, año, personas, años, constitucion, constitucional"
          ],
          [
           "politica, pais, social, universidad, personas, gobierno, sistema, año, pandemia, crisis"
          ],
          [
           "politica, pais, personas, pandemia, desarrollo, economia, universidad, año, años, gobierno"
          ],
          [
           "politica, pais, derecho, año, gobierno, constitucional, universidad, social, años, proceso"
          ],
          [
           "universidad, politica, pais, constitucion, social, desarrollo, sociales, nacional, derechos, constitucional"
          ],
          [
           "constitucional, social, constitucion, universidad, convencion, pais, años, sociales, derecho, derechos"
          ],
          [
           "social, pais, politica, sistema, años, convencion, universidad, gobierno, sociedad, personas"
          ],
          [
           "pais, politica, sistema, desarrollo, personas, constitucion, años, pandemia, libertad, social"
          ],
          [
           "sistema, derecho, constitucional, pais, convencion, politica, sociales, social, constitucion, gobierno"
          ],
          [
           "regiones, politica, pais, desarrollo, años, universidad, region, personas, año, crecimiento"
          ],
          [
           "año, años, personas, regiones, pais, politica, forma, proyecto, derecho, proceso"
          ],
          [
           "politica, pais, democracia, personas, social, america, años, latina, universidad, año"
          ],
          [
           "comision, convencion, derechos, articulo, participacion, politica, humanos, constituyente, constituyentes, universidad"
          ],
          [
           "convencion, violencia, constitucional, social, constituyente, años, proceso, comision, universidad, año"
          ],
          [
           "convencion, pais, politica, social, violencia, años, universidad, año, proceso, gobierno"
          ],
          [
           "violencia, comision, pais, politica, derechos, años, personas, participacion, convencion, desarrollo"
          ],
          [
           "comision, articulo, convencionales, convencion, reglamento, convencional, agosto, comisiones, derechos, pleno"
          ],
          [
           "convencion, convencionales, comision, constitucional, articulo, derechos, propiedad, indicacion, personas, asignaciones"
          ],
          [
           "convencion, propiedad, derecho, personas, convencionales, pais, comision, constitucional, violencia, politica"
          ],
          [
           "propiedad, violencia, comision, derecho, personas, derechos, desarrollo, constitucion, politica, pais"
          ],
          [
           "universidad, pais, politica, derechos, constitucion, personas, libertad, convencion, social, años"
          ],
          [
           "pais, libertad, universidad, convencion, constitucional, social, personas, derechos, años, mundo"
          ],
          [
           "pais, social, democracia, convencion, universidad, libertad, politica, liberal, personas, sistema"
          ],
          [
           "pais, personas, politica, pensiones, libertad, años, desarrollo, sistema, constitucion, democracia"
          ],
          [
           "comision, derecho, politica, convencion, derechos, constitucion, universidad, convencional, personas, octubre"
          ],
          [
           "convencion, constitucional, proyecto, comision, derecho, años, constitucion, personas, derechos, universidad"
          ],
          [
           "convencion, pais, politica, derecho, social, democracia, proyecto, personas, paises, sistema"
          ],
          [
           "universidad, comision, politica, derecho, constituyente, derechos, constitucion, convencion, sistema, educacion"
          ],
          [
           "universidad, constitucional, convencion, derecho, libertad, politica, derechos, comision, constitucion, sistema"
          ],
          [
           "universidad, sistema, derecho, politica, convencion, pais, social, educacion, personas, libertad"
          ],
          [
           "comision, sistema, derecho, politica, libertad, desarrollo, pais, educacion, constitucion, personas"
          ],
          [
           "sistema, convencion, comision, derecho, universidad, politica, constitucional, pais, convencional, señala"
          ],
          [
           "comision, constituyente, sistema, diciembre, politica, desarrollo, ley, convencion, derechos, participacion"
          ],
          [
           "proyecto, presidente, comision, convencion, constituyente, constitucional, ley, años, sistema, iniciativa"
          ],
          [
           "sistema, convencion, pais, ley, gobierno, años, proyecto, presidente, politica, comision"
          ],
          [
           "comision, derechos, politica, gobierno, constitucional, convencion, universidad, derecho, desarrollo, iniciativa"
          ],
          [
           "constitucional, convencion, presidente, comision, gobierno, politica, proyecto, constitucion, forma, iniciativa"
          ],
          [
           "gobierno, politica, convencion, sistema, pais, educacion, politico, personas, universidad, constitucional"
          ],
          [
           "derechos, nacional, pais, constitucion, proceso, politica, desarrollo, constitucional, derecho, social"
          ],
          [
           "derechos, constitucional, pais, proceso, pdc, derecho, constitucion, social, empresas, convencion"
          ],
          [
           "pais, social, pdc, proceso, politica, democracia, derechos, sociedad, paises, gobierno"
          ],
          [
           "articulo, constitucion, derecho, derechos, comision, politica, constitucional, nacional, personas, aprobado"
          ],
          [
           "constitucion, constitucional, derecho, convencion, derechos, comision, politica, articulo, personas, ley"
          ],
          [
           "constitucion, politica, convencion, derecho, gobierno, constitucional, pais, sistema, personas, democracia"
          ],
          [
           "articulo, comision, derechos, derecho, indicacion, constitucion, ley, personas, convencion, abril"
          ],
          [
           "indicacion, articulo, derecho, derechos, convencion, constitucional, comision, constitucion, ley, personas"
          ],
          [
           "indicacion, articulo, derecho, convencion, sistema, comision, gobierno, constitucion, pais, personas"
          ],
          [
           "articulo, derecho, comision, constitucion, derechos, convencion, ley, mayo, constitucional, propuesta"
          ],
          [
           "convencion, constitucional, constitucion, articulo, derecho, ind, derechos, ley, comision, propuesta"
          ],
          [
           "sistema, gobierno, social, convencion, pais, politica, derecho, universidad, constitucion, ley"
          ],
          [
           "sistema, constitucion, derecho, comision, constitucional, propiedad, personas, articulo, derechos, ind"
          ],
          [
           "constitucion, universidad, derechos, ley, pais, politica, derecho, constitucional, desarrollo, gobierno"
          ],
          [
           "constitucion, constitucional, presidente, derechos, derecho, ley, proyecto, gobierno, convencion, propuesta"
          ],
          [
           "gobierno, pais, politica, social, sistema, seguridad, constitucion, presidente, año, publica"
          ],
          [
           "constitucion, constitucional, politica, derechos, sistema, pais, gobierno, derecho, personas, desarrollo"
          ],
          [
           "constitucion, gobierno, constitucional, sistema, pais, convencion, presidente, derecho, politica, ley"
          ],
          [
           "articulo, constitucion, universidad, constitucional, politica, propuesta, proceso, derechos, gobierno, proyecto"
          ],
          [
           "constitucional, proyecto, constitucion, propuesta, proceso, convencion, presidente, universidad, personas, derechos"
          ],
          [
           "politica, gobierno, constitucion, social, constitucional, convencion, pais, proceso, personas, proyecto"
          ],
          [
           "constitucion, constitucional, politica, personas, proyecto, propuesta, derecho, pais, gobierno, articulo"
          ],
          [
           "constitucion, propuesta, lapiz, sociedad, problema, constitucional, politica, ley, derechos, personas"
          ],
          [
           "constitucional, constitucion, proyecto, propuesta, derecho, presidente, ley, derechos, personas, social"
          ],
          [
           "sistema, politica, constitucion, proyecto, gobierno, pais, constitucional, sociedad, personas, ley"
          ],
          [
           "constitucion, personas, proyecto, propuesta, constitucional, ley, politica, derechos, años, gobierno"
          ],
          [
           "constitucion, constitucional, propuesta, derecho, gobierno, sistema, proyecto, politica, pais, años"
          ],
          [
           "proyecto, universidad, politica, constitucional, proceso, constitucion, pais, ley, gobierno, social"
          ],
          [
           "proyecto, constitucional, proceso, ley, constitucion, social, años, presidente, convencion, desigualdad"
          ],
          [
           "proyecto, pais, politica, gobierno, social, ley, proceso, constitucional, años, convencion"
          ],
          [
           "proyecto, camara, ley, politica, personas, pais, constitucional, sala, años, constitucion"
          ],
          [
           "proyecto, ley, congreso, universidad, politica, desarrollo, economia, proceso, social, pais"
          ],
          [
           "proyecto, ley, constitucional, constitucion, proceso, social, camara, pais, sala, politica"
          ],
          [
           "proyecto, ley, pais, gobierno, social, politica, sistema, acuerdo, camara, democracia"
          ],
          [
           "proyecto, camara, personas, sala, politica, ley, bol, pais, desarrollo, iniciativa"
          ],
          [
           "proyecto, gobierno, politica, año, pais, constitucional, ley, proceso, años, economia"
          ],
          [
           "universidad, proyecto, años, politica, desarrollo, pais, gobierno, nacional, economia, investigacion"
          ],
          [
           "proyecto, años, presidente, universidad, pais, pensiones, gobierno, filosofia, social, reforma"
          ],
          [
           "gobierno, universidad, sistema, pais, politica, años, pensiones, democracia, proyecto, reforma"
          ],
          [
           "universidad, proyecto, ley, politica, constitucional, proceso, nacional, congreso, sistema, pais"
          ],
          [
           "proyecto, constitucional, universidad, ley, constitucion, proceso, camara, años, politica, derecho"
          ],
          [
           "proyecto, politica, universidad, sistema, acuerdo, pais, democracia, gobierno, año, constitucional"
          ],
          [
           "proyecto, sistema, camara, politica, constitucional, ley, constitucion, pais, democracia, sala"
          ],
          [
           "constitucional, sistema, proyecto, año, politica, gobierno, proceso, acuerdo, pais, constitucion"
          ],
          [
           "proyecto, universidad, gobierno, ley, nacional, proceso, personas, politica, constitucional, años"
          ],
          [
           "proyecto, constitucional, ley, proceso, años, guzman, camara, año, personas, sala"
          ],
          [
           "proyecto, gobierno, politica, pais, años, sistema, año, democracia, personas, ley"
          ],
          [
           "proyecto, guzman, gobierno, personas, años, politica, pais, pensiones, sistema, nacional"
          ],
          [
           "gobierno, guzman, proyecto, años, año, pais, jaime, proceso, politica, sistema"
          ],
          [
           "proceso, politica, pais, gobierno, años, social, personas, universidad, constitucional, nacional"
          ],
          [
           "feminismo, social, año, historia, personas, constitucional, proceso, politica, pais, años"
          ],
          [
           "gobierno, politica, pais, feminismo, año, fundacion, historia, personas, social, años"
          ],
          [
           "personas, politica, pais, gobierno, nacional, años, sistema, año, social, proceso"
          ],
          [
           "gobierno, año, constitucional, politica, sistema, pais, proceso, personas, presidente, años"
          ],
          [
           "gobierno, desarrollo, años, politica, mujeres, constitucional, pais, universidad, social, publico"
          ],
          [
           "constitucional, años, año, gobierno, mujeres, social, pais, personas, presidente, politica"
          ],
          [
           "gobierno, años, pais, año, social, sistema, fundacion, politica, publico, personas"
          ],
          [
           "salud, sistema, politica, pais, personas, universidad, publico, nacional, derecho, social"
          ],
          [
           "salud, sistema, personas, derecho, pais, argentina, años, año, central, social"
          ],
          [
           "sistema, pais, politica, gobierno, derecho, personas, argentina, banco, central, casta"
          ],
          [
           "universidad, politica, constitucional, proceso, gobierno, social, personas, pais, constitucion, años"
          ],
          [
           "constitucional, proceso, personas, politica, social, constitucion, derecho, millones, años, pais"
          ],
          [
           "politica, pais, gobierno, sistema, izquierda, fundacion, personas, social, millones, años"
          ],
          [
           "politica, personas, minimo, pais, sistema, gobierno, años, salario, mayo, libertad"
          ],
          [
           "gobierno, partido, constitucional, republicanos, politica, fundacion, pais, proceso, mayo, años"
          ],
          [
           "universidad, politica, salud, gobierno, personas, años, constitucional, desarrollo, educacion, pais"
          ],
          [
           "presidente, constitucional, universidad, salud, años, personas, gobierno, año, educacion, proyecto"
          ],
          [
           "gobierno, politica, personas, universidad, pais, democracia, fundacion, años, presidente, educacion"
          ],
          [
           "derechos, universidad, politica, educacion, años, constitucional, personas, pais, gobierno, salud"
          ],
          [
           "constitucional, derechos, años, presidente, social, salud, personas, año, gobierno, politica"
          ],
          [
           "gobierno, politica, años, pais, sistema, personas, año, caso, recursos, presidente"
          ],
          [
           "personas, años, pais, politica, gobierno, sistema, educacion, constitucional, pensiones, derechos"
          ],
          [
           "gobierno, años, delitos, pais, año, politica, constitucional, caso, personas, sistema"
          ],
          [
           "años, garantia, gobierno, politica, ingresos, nacional, universidad, constitucional, pais, social"
          ],
          [
           "años, constitucional, presidente, gobierno, universidad, politica, social, pais, proceso, personas"
          ],
          [
           "gobierno, politica, años, pais, universidad, sistema, social, presidente, caso, fundacion"
          ],
          [
           "años, ingresos, gobierno, politica, pais, personas, sistema, garantia, pensiones, vida"
          ],
          [
           "años, universidad, gobierno, politica, nacional, pais, trabajadores, investigacion, sistema, salud"
          ],
          [
           "presidente, universidad, años, politica, gobierno, proceso, constitucional, año, social, pais"
          ],
          [
           "gobierno, politica, años, universidad, historia, sistema, democracia, pais, año, presidente"
          ],
          [
           "años, sistema, politica, gobierno, pais, personas, pensiones, septiembre, nacional, democracia"
          ],
          [
           "gobierno, años, año, politica, pais, presidente, sistema, universidad, constitucional, proceso"
          ],
          [
           "universidad, años, pais, politica, derecho, personas, constitucional, educacion, año, proceso"
          ],
          [
           "años, constitucional, universidad, derecho, año, proceso, pais, personas, agua, derechos"
          ],
          [
           "años, pais, fundacion, politica, social, universidad, educacion, sistema, progreso, año"
          ],
          [
           "años, pais, personas, sistema, politica, derecho, educacion, constitucional, año, economia"
          ],
          [
           "universidad, golpe, politica, politico, años, constitucional, educacion, salud, pais, investigacion"
          ],
          [
           "constitucional, constitucion, años, universidad, proceso, pais, libro, golpe, politica, politico"
          ],
          [
           "años, politica, pais, politico, gobierno, sistema, fundacion, universidad, educacion, izquierda"
          ],
          [
           "constitucion, pais, politica, años, sistema, constitucional, personas, educacion, politico, propuesta"
          ],
          [
           "pais, politica, gobierno, constitucional, propuesta, constitucion, años, economia, sistema, texto"
          ],
          [
           "constitucional, pais, años, año, propuesta, gobierno, constitucion, politica, presidente, social"
          ],
          [
           "pais, gobierno, politica, año, sistema, años, constitucional, politicos, politico, constitucion"
          ]
         ],
         "hovertemplate": "Fecha=%{x}<br>Importancia del Tópico=%{y}<br>palabras=%{customdata[0]}<br>cluster=%{marker.color}<extra></extra>",
         "legendgroup": "",
         "marker": {
          "color": [
           0,
           0,
           0,
           1,
           null,
           null,
           1,
           2,
           2,
           2,
           2,
           3,
           3,
           3,
           3,
           3,
           4,
           4,
           4,
           4,
           4,
           5,
           5,
           5,
           null,
           6,
           6,
           6,
           7,
           7,
           7,
           null,
           8,
           8,
           8,
           10,
           10,
           10,
           10,
           10,
           10,
           10,
           10,
           10,
           10,
           10,
           10,
           10,
           12,
           12,
           12,
           13,
           13,
           13,
           14,
           14,
           14,
           15,
           15,
           15,
           15,
           15,
           15,
           15,
           15,
           15,
           20,
           20,
           20,
           20,
           19,
           19,
           19,
           19,
           19,
           20,
           20,
           20,
           20,
           20,
           20,
           23,
           23,
           23,
           24,
           24,
           24,
           24,
           25,
           25,
           25,
           25,
           25,
           25,
           25,
           27,
           27,
           27,
           20,
           20,
           20,
           20,
           20,
           20,
           20,
           20,
           28,
           28,
           28,
           28,
           28,
           29,
           29,
           29,
           31,
           31,
           31,
           31,
           32,
           32,
           32,
           32,
           33,
           33,
           33,
           33,
           34,
           34,
           34,
           34,
           34,
           34,
           34,
           34,
           36,
           36,
           36,
           37,
           37,
           37,
           38,
           38,
           38,
           39,
           39,
           39,
           40,
           40,
           40,
           41,
           41,
           null,
           41,
           42,
           42,
           42,
           42,
           42,
           43,
           43,
           43,
           43,
           43,
           43,
           43,
           43,
           43,
           45,
           45,
           45,
           45,
           46,
           46,
           46,
           46,
           46,
           35,
           35,
           35,
           9,
           9,
           9,
           9,
           9,
           11,
           11,
           11,
           11,
           11,
           44,
           44,
           44,
           44,
           44,
           16,
           16,
           16,
           17,
           17,
           17,
           17,
           17,
           17,
           17,
           17,
           17,
           17,
           17,
           18,
           18,
           18,
           18,
           18,
           21,
           21,
           21,
           21,
           21,
           21,
           21,
           21,
           21,
           22,
           22,
           22,
           22,
           26,
           26,
           26,
           26,
           30,
           30,
           30
          ],
          "coloraxis": "coloraxis",
          "line": {
           "color": "DarkSlateGrey",
           "width": 0.5
          },
          "size": 10,
          "symbol": "circle"
         },
         "mode": "markers",
         "name": "",
         "orientation": "v",
         "showlegend": false,
         "type": "scatter",
         "x": [
          "2019-01-01T00:00:00",
          "2019-01-01T00:00:00",
          "2019-01-01T00:00:00",
          "2019-02-01T00:00:00",
          "2019-02-01T00:00:00",
          "2019-02-01T00:00:00",
          "2019-02-01T00:00:00",
          "2019-03-01T00:00:00",
          "2019-03-01T00:00:00",
          "2019-03-01T00:00:00",
          "2019-03-01T00:00:00",
          "2019-04-01T00:00:00",
          "2019-04-01T00:00:00",
          "2019-04-01T00:00:00",
          "2019-04-01T00:00:00",
          "2019-04-01T00:00:00",
          "2019-05-01T00:00:00",
          "2019-05-01T00:00:00",
          "2019-05-01T00:00:00",
          "2019-05-01T00:00:00",
          "2019-05-01T00:00:00",
          "2019-06-01T00:00:00",
          "2019-06-01T00:00:00",
          "2019-06-01T00:00:00",
          "2019-06-01T00:00:00",
          "2019-07-01T00:00:00",
          "2019-07-01T00:00:00",
          "2019-07-01T00:00:00",
          "2019-08-01T00:00:00",
          "2019-08-01T00:00:00",
          "2019-08-01T00:00:00",
          "2019-08-01T00:00:00",
          "2019-09-01T00:00:00",
          "2019-09-01T00:00:00",
          "2019-09-01T00:00:00",
          "2019-10-01T00:00:00",
          "2019-10-01T00:00:00",
          "2019-10-01T00:00:00",
          "2019-11-01T00:00:00",
          "2019-11-01T00:00:00",
          "2019-11-01T00:00:00",
          "2019-11-01T00:00:00",
          "2019-11-01T00:00:00",
          "2019-12-01T00:00:00",
          "2019-12-01T00:00:00",
          "2019-12-01T00:00:00",
          "2019-12-01T00:00:00",
          "2019-12-01T00:00:00",
          "2020-01-01T00:00:00",
          "2020-01-01T00:00:00",
          "2020-01-01T00:00:00",
          "2020-02-01T00:00:00",
          "2020-02-01T00:00:00",
          "2020-02-01T00:00:00",
          "2020-03-01T00:00:00",
          "2020-03-01T00:00:00",
          "2020-03-01T00:00:00",
          "2020-04-01T00:00:00",
          "2020-04-01T00:00:00",
          "2020-04-01T00:00:00",
          "2020-04-01T00:00:00",
          "2020-05-01T00:00:00",
          "2020-05-01T00:00:00",
          "2020-05-01T00:00:00",
          "2020-05-01T00:00:00",
          "2020-05-01T00:00:00",
          "2020-06-01T00:00:00",
          "2020-06-01T00:00:00",
          "2020-06-01T00:00:00",
          "2020-06-01T00:00:00",
          "2020-07-01T00:00:00",
          "2020-07-01T00:00:00",
          "2020-07-01T00:00:00",
          "2020-07-01T00:00:00",
          "2020-07-01T00:00:00",
          "2020-08-01T00:00:00",
          "2020-08-01T00:00:00",
          "2020-08-01T00:00:00",
          "2020-09-01T00:00:00",
          "2020-09-01T00:00:00",
          "2020-09-01T00:00:00",
          "2020-10-01T00:00:00",
          "2020-10-01T00:00:00",
          "2020-10-01T00:00:00",
          "2020-11-01T00:00:00",
          "2020-11-01T00:00:00",
          "2020-11-01T00:00:00",
          "2020-11-01T00:00:00",
          "2020-12-01T00:00:00",
          "2020-12-01T00:00:00",
          "2020-12-01T00:00:00",
          "2021-01-01T00:00:00",
          "2021-01-01T00:00:00",
          "2021-01-01T00:00:00",
          "2021-01-01T00:00:00",
          "2021-02-01T00:00:00",
          "2021-02-01T00:00:00",
          "2021-02-01T00:00:00",
          "2021-03-01T00:00:00",
          "2021-03-01T00:00:00",
          "2021-03-01T00:00:00",
          "2021-04-01T00:00:00",
          "2021-04-01T00:00:00",
          "2021-04-01T00:00:00",
          "2021-04-01T00:00:00",
          "2021-04-01T00:00:00",
          "2021-05-01T00:00:00",
          "2021-05-01T00:00:00",
          "2021-05-01T00:00:00",
          "2021-05-01T00:00:00",
          "2021-05-01T00:00:00",
          "2021-06-01T00:00:00",
          "2021-06-01T00:00:00",
          "2021-06-01T00:00:00",
          "2021-07-01T00:00:00",
          "2021-07-01T00:00:00",
          "2021-07-01T00:00:00",
          "2021-07-01T00:00:00",
          "2021-08-01T00:00:00",
          "2021-08-01T00:00:00",
          "2021-08-01T00:00:00",
          "2021-08-01T00:00:00",
          "2021-09-01T00:00:00",
          "2021-09-01T00:00:00",
          "2021-09-01T00:00:00",
          "2021-09-01T00:00:00",
          "2021-10-01T00:00:00",
          "2021-10-01T00:00:00",
          "2021-10-01T00:00:00",
          "2021-11-01T00:00:00",
          "2021-11-01T00:00:00",
          "2021-11-01T00:00:00",
          "2021-11-01T00:00:00",
          "2021-11-01T00:00:00",
          "2021-12-01T00:00:00",
          "2021-12-01T00:00:00",
          "2021-12-01T00:00:00",
          "2022-01-01T00:00:00",
          "2022-01-01T00:00:00",
          "2022-01-01T00:00:00",
          "2022-02-01T00:00:00",
          "2022-02-01T00:00:00",
          "2022-02-01T00:00:00",
          "2022-03-01T00:00:00",
          "2022-03-01T00:00:00",
          "2022-03-01T00:00:00",
          "2022-04-01T00:00:00",
          "2022-04-01T00:00:00",
          "2022-04-01T00:00:00",
          "2022-05-01T00:00:00",
          "2022-05-01T00:00:00",
          "2022-05-01T00:00:00",
          "2022-05-01T00:00:00",
          "2022-06-01T00:00:00",
          "2022-06-01T00:00:00",
          "2022-06-01T00:00:00",
          "2022-06-01T00:00:00",
          "2022-06-01T00:00:00",
          "2022-07-01T00:00:00",
          "2022-07-01T00:00:00",
          "2022-07-01T00:00:00",
          "2022-07-01T00:00:00",
          "2022-08-01T00:00:00",
          "2022-08-01T00:00:00",
          "2022-08-01T00:00:00",
          "2022-08-01T00:00:00",
          "2022-08-01T00:00:00",
          "2022-09-01T00:00:00",
          "2022-09-01T00:00:00",
          "2022-09-01T00:00:00",
          "2022-09-01T00:00:00",
          "2022-10-01T00:00:00",
          "2022-10-01T00:00:00",
          "2022-10-01T00:00:00",
          "2022-10-01T00:00:00",
          "2022-10-01T00:00:00",
          "2022-11-01T00:00:00",
          "2022-11-01T00:00:00",
          "2022-11-01T00:00:00",
          "2022-12-01T00:00:00",
          "2022-12-01T00:00:00",
          "2022-12-01T00:00:00",
          "2022-12-01T00:00:00",
          "2022-12-01T00:00:00",
          "2023-01-01T00:00:00",
          "2023-01-01T00:00:00",
          "2023-01-01T00:00:00",
          "2023-01-01T00:00:00",
          "2023-01-01T00:00:00",
          "2023-02-01T00:00:00",
          "2023-02-01T00:00:00",
          "2023-02-01T00:00:00",
          "2023-02-01T00:00:00",
          "2023-02-01T00:00:00",
          "2023-03-01T00:00:00",
          "2023-03-01T00:00:00",
          "2023-03-01T00:00:00",
          "2023-04-01T00:00:00",
          "2023-04-01T00:00:00",
          "2023-04-01T00:00:00",
          "2023-05-01T00:00:00",
          "2023-05-01T00:00:00",
          "2023-05-01T00:00:00",
          "2023-05-01T00:00:00",
          "2023-05-01T00:00:00",
          "2023-06-01T00:00:00",
          "2023-06-01T00:00:00",
          "2023-06-01T00:00:00",
          "2023-07-01T00:00:00",
          "2023-07-01T00:00:00",
          "2023-07-01T00:00:00",
          "2023-07-01T00:00:00",
          "2023-07-01T00:00:00",
          "2023-08-01T00:00:00",
          "2023-08-01T00:00:00",
          "2023-08-01T00:00:00",
          "2023-08-01T00:00:00",
          "2023-09-01T00:00:00",
          "2023-09-01T00:00:00",
          "2023-09-01T00:00:00",
          "2023-09-01T00:00:00",
          "2023-09-01T00:00:00",
          "2023-10-01T00:00:00",
          "2023-10-01T00:00:00",
          "2023-10-01T00:00:00",
          "2023-10-01T00:00:00",
          "2023-11-01T00:00:00",
          "2023-11-01T00:00:00",
          "2023-11-01T00:00:00",
          "2023-11-01T00:00:00",
          "2023-12-01T00:00:00",
          "2023-12-01T00:00:00",
          "2023-12-01T00:00:00"
         ],
         "xaxis": "x",
         "y": [
          0.18178952162538708,
          0.6499211390700462,
          1.1680412900344048,
          0.10294189012429342,
          0.6036364592760947,
          1.1378347393419972,
          1.6557144244031405,
          0.12464852041126792,
          0.6046719115267233,
          1.105792256292234,
          1.6648064620869973,
          0.13822618600578343,
          0.5531292781348431,
          1.1025361867998131,
          1.616007981923248,
          2.0909436918053,
          0.12667737425905662,
          0.5702767951575847,
          1.063860003030481,
          1.6250214895402901,
          2.114307762757406,
          0.15282596302224608,
          0.5994390916083495,
          1.1276723158662973,
          1.6203365502407745,
          0.22797460626080046,
          0.6115065269221812,
          1.160348984542112,
          0.20560240839611776,
          0.5885767443390807,
          1.096302758579126,
          1.6093074878269775,
          0.2468055972431472,
          0.624076048750454,
          1.1294422179201549,
          0.23233275855248925,
          0.5879889266807654,
          1.1792142980178502,
          0.13945891189409024,
          0.5754565263060448,
          1.095283441997983,
          1.6054665429462578,
          2.0844156254487163,
          0.14047082466029415,
          0.5658062211750474,
          1.0840591045100034,
          1.6359385398802084,
          2.073936579674081,
          0.2603657865171355,
          0.595535234222508,
          1.1439599912479004,
          0.15105284127758883,
          0.5990285612785898,
          1.2500166346440207,
          0.19260909654090377,
          0.5943401011186674,
          1.2125966871003,
          0.11612832840795728,
          0.5850171775728791,
          1.1113353497267882,
          1.6871464492950408,
          0.13620029853804347,
          0.5738754619474251,
          1.105378657501579,
          1.6230456749307438,
          2.0614179840250872,
          0.15091580758791592,
          0.5698241145374335,
          1.1402813851489424,
          1.6388459073994324,
          0.10756006741338786,
          0.5824169210203773,
          1.0813834892289214,
          1.6702362876744579,
          2.059384607965838,
          0.22561106534076364,
          0.6378519682378201,
          1.1374026810519653,
          0.22064953251119118,
          0.6519105733412166,
          1.1265361748878246,
          0.20813059968290834,
          0.6577802327970897,
          1.133545247971116,
          0.14687443451872292,
          0.5998183687392054,
          1.0996638589713668,
          1.6534819067103712,
          0.22217461259374274,
          0.6421568395719955,
          1.1356730274007312,
          0.14336463177011144,
          0.6106580472013619,
          1.0982757962884502,
          1.647872727106507,
          0.24385594979291972,
          0.5994555455600258,
          1.1565830322687287,
          0.23356117786684252,
          0.6195161859487247,
          1.1469363083780288,
          0.1492757998431406,
          0.5780223931696663,
          1.0743283042036338,
          1.6466135559617028,
          2.052956611608065,
          0.1329133539467516,
          0.5739139918517555,
          1.0865976393279908,
          1.633293838819805,
          2.072982634314891,
          0.21887595397140214,
          0.6159849767936425,
          1.165690484197898,
          0.13897962936243857,
          0.6276716999931368,
          1.117357094376046,
          1.61621994410265,
          0.12518988876758716,
          0.6146251636307081,
          1.1127829346814997,
          1.6473506048102662,
          0.14405451490819385,
          0.6066085518720613,
          1.108561957671768,
          1.6409032623530595,
          0.21277583799903943,
          0.6248401693780468,
          1.16248933020923,
          0.15991067553978794,
          0.5598123989335532,
          1.0920014067299912,
          1.6171246722498767,
          2.070963285017563,
          0.213363992988265,
          0.6216273472850491,
          1.1650254937514397,
          0.2255336208971812,
          0.6325243672528984,
          1.1417116164376324,
          0.20110495359117744,
          0.6732329795152614,
          1.1262477802768252,
          0.204298378372798,
          0.6756586433913537,
          1.1202231894345123,
          0.19573815077435008,
          0.6349305856160983,
          1.1689259526461395,
          0.14404382832064536,
          0.5844682227283581,
          1.1389004724497809,
          1.6324294922107778,
          0.17146253665104574,
          0.5741150083158035,
          1.0886208236414996,
          1.57592689593577,
          2.089589222091883,
          0.14691123052113186,
          0.6086252658932657,
          1.128081001555406,
          1.6168761643733813,
          0.11796373061689837,
          0.6031566725200117,
          1.078196772880107,
          1.623272234864148,
          2.0773027827686334,
          0.2009700547631721,
          0.5883466920607414,
          1.1092155940631274,
          1.601501765367373,
          0.11941506306210012,
          0.5693450751258208,
          1.1006981254822938,
          1.6255120364122717,
          2.08651303919002,
          0.1737841770945001,
          0.6174793527997291,
          1.2084683526014761,
          0.1384193178584996,
          0.5701719292009274,
          1.103160759056512,
          1.6169471256689025,
          2.071225381857609,
          0.14634678784571672,
          0.5758874182564919,
          1.0994441712873482,
          1.609788489571746,
          2.068672300889008,
          0.10474591976784993,
          0.5448578644980684,
          1.1708633128466077,
          1.5964177508213344,
          2.0827142690852707,
          0.21445403324481097,
          0.606934900515388,
          1.1786434109884316,
          0.19289740920227266,
          0.6156026789708646,
          1.1917527172950173,
          0.1279003052504308,
          0.569255610498686,
          1.0971745297232627,
          1.6103190446659768,
          2.0954033343837883,
          0.21318452928789028,
          0.6221548588776827,
          1.1642919982056732,
          0.13929460572155056,
          0.550303115203824,
          1.1184371932995212,
          1.6306165530267756,
          2.0623041398495676,
          0.14000414842668868,
          0.5899075380422474,
          1.1501826995808424,
          1.6196470004267822,
          0.13149184157962163,
          0.5857761838418044,
          1.1080520058479626,
          1.6091934109480175,
          2.0655149888257496,
          0.12316429315145785,
          0.5767461306393429,
          1.1526704813748774,
          1.64664842548516,
          0.13422181049023676,
          0.5885954886275232,
          1.1209153542240426,
          1.6562458942190872,
          0.20460423101703656,
          0.600721906204265,
          1.1942985538560789
         ],
         "yaxis": "y"
        }
       ],
       "layout": {
        "coloraxis": {
         "colorbar": {
          "title": {
           "text": "cluster"
          }
         },
         "colorscale": [
          [
           0,
           "#0d0887"
          ],
          [
           0.1111111111111111,
           "#46039f"
          ],
          [
           0.2222222222222222,
           "#7201a8"
          ],
          [
           0.3333333333333333,
           "#9c179e"
          ],
          [
           0.4444444444444444,
           "#bd3786"
          ],
          [
           0.5555555555555556,
           "#d8576b"
          ],
          [
           0.6666666666666666,
           "#ed7953"
          ],
          [
           0.7777777777777778,
           "#fb9f3a"
          ],
          [
           0.8888888888888888,
           "#fdca26"
          ],
          [
           1,
           "#f0f921"
          ]
         ]
        },
        "legend": {
         "title": {
          "text": "Clúster de Tópico"
         },
         "tracegroupgap": 0
        },
        "template": {
         "data": {
          "bar": [
           {
            "error_x": {
             "color": "#2a3f5f"
            },
            "error_y": {
             "color": "#2a3f5f"
            },
            "marker": {
             "line": {
              "color": "white",
              "width": 0.5
             },
             "pattern": {
              "fillmode": "overlay",
              "size": 10,
              "solidity": 0.2
             }
            },
            "type": "bar"
           }
          ],
          "barpolar": [
           {
            "marker": {
             "line": {
              "color": "white",
              "width": 0.5
             },
             "pattern": {
              "fillmode": "overlay",
              "size": 10,
              "solidity": 0.2
             }
            },
            "type": "barpolar"
           }
          ],
          "carpet": [
           {
            "aaxis": {
             "endlinecolor": "#2a3f5f",
             "gridcolor": "#C8D4E3",
             "linecolor": "#C8D4E3",
             "minorgridcolor": "#C8D4E3",
             "startlinecolor": "#2a3f5f"
            },
            "baxis": {
             "endlinecolor": "#2a3f5f",
             "gridcolor": "#C8D4E3",
             "linecolor": "#C8D4E3",
             "minorgridcolor": "#C8D4E3",
             "startlinecolor": "#2a3f5f"
            },
            "type": "carpet"
           }
          ],
          "choropleth": [
           {
            "colorbar": {
             "outlinewidth": 0,
             "ticks": ""
            },
            "type": "choropleth"
           }
          ],
          "contour": [
           {
            "colorbar": {
             "outlinewidth": 0,
             "ticks": ""
            },
            "colorscale": [
             [
              0,
              "#0d0887"
             ],
             [
              0.1111111111111111,
              "#46039f"
             ],
             [
              0.2222222222222222,
              "#7201a8"
             ],
             [
              0.3333333333333333,
              "#9c179e"
             ],
             [
              0.4444444444444444,
              "#bd3786"
             ],
             [
              0.5555555555555556,
              "#d8576b"
             ],
             [
              0.6666666666666666,
              "#ed7953"
             ],
             [
              0.7777777777777778,
              "#fb9f3a"
             ],
             [
              0.8888888888888888,
              "#fdca26"
             ],
             [
              1,
              "#f0f921"
             ]
            ],
            "type": "contour"
           }
          ],
          "contourcarpet": [
           {
            "colorbar": {
             "outlinewidth": 0,
             "ticks": ""
            },
            "type": "contourcarpet"
           }
          ],
          "heatmap": [
           {
            "colorbar": {
             "outlinewidth": 0,
             "ticks": ""
            },
            "colorscale": [
             [
              0,
              "#0d0887"
             ],
             [
              0.1111111111111111,
              "#46039f"
             ],
             [
              0.2222222222222222,
              "#7201a8"
             ],
             [
              0.3333333333333333,
              "#9c179e"
             ],
             [
              0.4444444444444444,
              "#bd3786"
             ],
             [
              0.5555555555555556,
              "#d8576b"
             ],
             [
              0.6666666666666666,
              "#ed7953"
             ],
             [
              0.7777777777777778,
              "#fb9f3a"
             ],
             [
              0.8888888888888888,
              "#fdca26"
             ],
             [
              1,
              "#f0f921"
             ]
            ],
            "type": "heatmap"
           }
          ],
          "heatmapgl": [
           {
            "colorbar": {
             "outlinewidth": 0,
             "ticks": ""
            },
            "colorscale": [
             [
              0,
              "#0d0887"
             ],
             [
              0.1111111111111111,
              "#46039f"
             ],
             [
              0.2222222222222222,
              "#7201a8"
             ],
             [
              0.3333333333333333,
              "#9c179e"
             ],
             [
              0.4444444444444444,
              "#bd3786"
             ],
             [
              0.5555555555555556,
              "#d8576b"
             ],
             [
              0.6666666666666666,
              "#ed7953"
             ],
             [
              0.7777777777777778,
              "#fb9f3a"
             ],
             [
              0.8888888888888888,
              "#fdca26"
             ],
             [
              1,
              "#f0f921"
             ]
            ],
            "type": "heatmapgl"
           }
          ],
          "histogram": [
           {
            "marker": {
             "pattern": {
              "fillmode": "overlay",
              "size": 10,
              "solidity": 0.2
             }
            },
            "type": "histogram"
           }
          ],
          "histogram2d": [
           {
            "colorbar": {
             "outlinewidth": 0,
             "ticks": ""
            },
            "colorscale": [
             [
              0,
              "#0d0887"
             ],
             [
              0.1111111111111111,
              "#46039f"
             ],
             [
              0.2222222222222222,
              "#7201a8"
             ],
             [
              0.3333333333333333,
              "#9c179e"
             ],
             [
              0.4444444444444444,
              "#bd3786"
             ],
             [
              0.5555555555555556,
              "#d8576b"
             ],
             [
              0.6666666666666666,
              "#ed7953"
             ],
             [
              0.7777777777777778,
              "#fb9f3a"
             ],
             [
              0.8888888888888888,
              "#fdca26"
             ],
             [
              1,
              "#f0f921"
             ]
            ],
            "type": "histogram2d"
           }
          ],
          "histogram2dcontour": [
           {
            "colorbar": {
             "outlinewidth": 0,
             "ticks": ""
            },
            "colorscale": [
             [
              0,
              "#0d0887"
             ],
             [
              0.1111111111111111,
              "#46039f"
             ],
             [
              0.2222222222222222,
              "#7201a8"
             ],
             [
              0.3333333333333333,
              "#9c179e"
             ],
             [
              0.4444444444444444,
              "#bd3786"
             ],
             [
              0.5555555555555556,
              "#d8576b"
             ],
             [
              0.6666666666666666,
              "#ed7953"
             ],
             [
              0.7777777777777778,
              "#fb9f3a"
             ],
             [
              0.8888888888888888,
              "#fdca26"
             ],
             [
              1,
              "#f0f921"
             ]
            ],
            "type": "histogram2dcontour"
           }
          ],
          "mesh3d": [
           {
            "colorbar": {
             "outlinewidth": 0,
             "ticks": ""
            },
            "type": "mesh3d"
           }
          ],
          "parcoords": [
           {
            "line": {
             "colorbar": {
              "outlinewidth": 0,
              "ticks": ""
             }
            },
            "type": "parcoords"
           }
          ],
          "pie": [
           {
            "automargin": true,
            "type": "pie"
           }
          ],
          "scatter": [
           {
            "fillpattern": {
             "fillmode": "overlay",
             "size": 10,
             "solidity": 0.2
            },
            "type": "scatter"
           }
          ],
          "scatter3d": [
           {
            "line": {
             "colorbar": {
              "outlinewidth": 0,
              "ticks": ""
             }
            },
            "marker": {
             "colorbar": {
              "outlinewidth": 0,
              "ticks": ""
             }
            },
            "type": "scatter3d"
           }
          ],
          "scattercarpet": [
           {
            "marker": {
             "colorbar": {
              "outlinewidth": 0,
              "ticks": ""
             }
            },
            "type": "scattercarpet"
           }
          ],
          "scattergeo": [
           {
            "marker": {
             "colorbar": {
              "outlinewidth": 0,
              "ticks": ""
             }
            },
            "type": "scattergeo"
           }
          ],
          "scattergl": [
           {
            "marker": {
             "colorbar": {
              "outlinewidth": 0,
              "ticks": ""
             }
            },
            "type": "scattergl"
           }
          ],
          "scattermapbox": [
           {
            "marker": {
             "colorbar": {
              "outlinewidth": 0,
              "ticks": ""
             }
            },
            "type": "scattermapbox"
           }
          ],
          "scatterpolar": [
           {
            "marker": {
             "colorbar": {
              "outlinewidth": 0,
              "ticks": ""
             }
            },
            "type": "scatterpolar"
           }
          ],
          "scatterpolargl": [
           {
            "marker": {
             "colorbar": {
              "outlinewidth": 0,
              "ticks": ""
             }
            },
            "type": "scatterpolargl"
           }
          ],
          "scatterternary": [
           {
            "marker": {
             "colorbar": {
              "outlinewidth": 0,
              "ticks": ""
             }
            },
            "type": "scatterternary"
           }
          ],
          "surface": [
           {
            "colorbar": {
             "outlinewidth": 0,
             "ticks": ""
            },
            "colorscale": [
             [
              0,
              "#0d0887"
             ],
             [
              0.1111111111111111,
              "#46039f"
             ],
             [
              0.2222222222222222,
              "#7201a8"
             ],
             [
              0.3333333333333333,
              "#9c179e"
             ],
             [
              0.4444444444444444,
              "#bd3786"
             ],
             [
              0.5555555555555556,
              "#d8576b"
             ],
             [
              0.6666666666666666,
              "#ed7953"
             ],
             [
              0.7777777777777778,
              "#fb9f3a"
             ],
             [
              0.8888888888888888,
              "#fdca26"
             ],
             [
              1,
              "#f0f921"
             ]
            ],
            "type": "surface"
           }
          ],
          "table": [
           {
            "cells": {
             "fill": {
              "color": "#EBF0F8"
             },
             "line": {
              "color": "white"
             }
            },
            "header": {
             "fill": {
              "color": "#C8D4E3"
             },
             "line": {
              "color": "white"
             }
            },
            "type": "table"
           }
          ]
         },
         "layout": {
          "annotationdefaults": {
           "arrowcolor": "#2a3f5f",
           "arrowhead": 0,
           "arrowwidth": 1
          },
          "autotypenumbers": "strict",
          "coloraxis": {
           "colorbar": {
            "outlinewidth": 0,
            "ticks": ""
           }
          },
          "colorscale": {
           "diverging": [
            [
             0,
             "#8e0152"
            ],
            [
             0.1,
             "#c51b7d"
            ],
            [
             0.2,
             "#de77ae"
            ],
            [
             0.3,
             "#f1b6da"
            ],
            [
             0.4,
             "#fde0ef"
            ],
            [
             0.5,
             "#f7f7f7"
            ],
            [
             0.6,
             "#e6f5d0"
            ],
            [
             0.7,
             "#b8e186"
            ],
            [
             0.8,
             "#7fbc41"
            ],
            [
             0.9,
             "#4d9221"
            ],
            [
             1,
             "#276419"
            ]
           ],
           "sequential": [
            [
             0,
             "#0d0887"
            ],
            [
             0.1111111111111111,
             "#46039f"
            ],
            [
             0.2222222222222222,
             "#7201a8"
            ],
            [
             0.3333333333333333,
             "#9c179e"
            ],
            [
             0.4444444444444444,
             "#bd3786"
            ],
            [
             0.5555555555555556,
             "#d8576b"
            ],
            [
             0.6666666666666666,
             "#ed7953"
            ],
            [
             0.7777777777777778,
             "#fb9f3a"
            ],
            [
             0.8888888888888888,
             "#fdca26"
            ],
            [
             1,
             "#f0f921"
            ]
           ],
           "sequentialminus": [
            [
             0,
             "#0d0887"
            ],
            [
             0.1111111111111111,
             "#46039f"
            ],
            [
             0.2222222222222222,
             "#7201a8"
            ],
            [
             0.3333333333333333,
             "#9c179e"
            ],
            [
             0.4444444444444444,
             "#bd3786"
            ],
            [
             0.5555555555555556,
             "#d8576b"
            ],
            [
             0.6666666666666666,
             "#ed7953"
            ],
            [
             0.7777777777777778,
             "#fb9f3a"
            ],
            [
             0.8888888888888888,
             "#fdca26"
            ],
            [
             1,
             "#f0f921"
            ]
           ]
          },
          "colorway": [
           "#636efa",
           "#EF553B",
           "#00cc96",
           "#ab63fa",
           "#FFA15A",
           "#19d3f3",
           "#FF6692",
           "#B6E880",
           "#FF97FF",
           "#FECB52"
          ],
          "font": {
           "color": "#2a3f5f"
          },
          "geo": {
           "bgcolor": "white",
           "lakecolor": "white",
           "landcolor": "white",
           "showlakes": true,
           "showland": true,
           "subunitcolor": "#C8D4E3"
          },
          "hoverlabel": {
           "align": "left"
          },
          "hovermode": "closest",
          "mapbox": {
           "style": "light"
          },
          "paper_bgcolor": "white",
          "plot_bgcolor": "white",
          "polar": {
           "angularaxis": {
            "gridcolor": "#EBF0F8",
            "linecolor": "#EBF0F8",
            "ticks": ""
           },
           "bgcolor": "white",
           "radialaxis": {
            "gridcolor": "#EBF0F8",
            "linecolor": "#EBF0F8",
            "ticks": ""
           }
          },
          "scene": {
           "xaxis": {
            "backgroundcolor": "white",
            "gridcolor": "#DFE8F3",
            "gridwidth": 2,
            "linecolor": "#EBF0F8",
            "showbackground": true,
            "ticks": "",
            "zerolinecolor": "#EBF0F8"
           },
           "yaxis": {
            "backgroundcolor": "white",
            "gridcolor": "#DFE8F3",
            "gridwidth": 2,
            "linecolor": "#EBF0F8",
            "showbackground": true,
            "ticks": "",
            "zerolinecolor": "#EBF0F8"
           },
           "zaxis": {
            "backgroundcolor": "white",
            "gridcolor": "#DFE8F3",
            "gridwidth": 2,
            "linecolor": "#EBF0F8",
            "showbackground": true,
            "ticks": "",
            "zerolinecolor": "#EBF0F8"
           }
          },
          "shapedefaults": {
           "line": {
            "color": "#2a3f5f"
           }
          },
          "ternary": {
           "aaxis": {
            "gridcolor": "#DFE8F3",
            "linecolor": "#A2B1C6",
            "ticks": ""
           },
           "baxis": {
            "gridcolor": "#DFE8F3",
            "linecolor": "#A2B1C6",
            "ticks": ""
           },
           "bgcolor": "white",
           "caxis": {
            "gridcolor": "#DFE8F3",
            "linecolor": "#A2B1C6",
            "ticks": ""
           }
          },
          "title": {
           "x": 0.05
          },
          "xaxis": {
           "automargin": true,
           "gridcolor": "#EBF0F8",
           "linecolor": "#EBF0F8",
           "ticks": "",
           "title": {
            "standoff": 15
           },
           "zerolinecolor": "#EBF0F8",
           "zerolinewidth": 2
          },
          "yaxis": {
           "automargin": true,
           "gridcolor": "#EBF0F8",
           "linecolor": "#EBF0F8",
           "ticks": "",
           "title": {
            "standoff": 15
           },
           "zerolinecolor": "#EBF0F8",
           "zerolinewidth": 2
          }
         }
        },
        "title": {
         "text": "Evolución de Tópicos Emergentes en el Tiempo"
        },
        "xaxis": {
         "anchor": "y",
         "domain": [
          0,
          1
         ],
         "title": {
          "text": "Fecha"
         }
        },
        "yaxis": {
         "anchor": "x",
         "domain": [
          0,
          1
         ],
         "title": {
          "text": "Importancia del Tópico"
         }
        }
       }
      }
     },
     "metadata": {},
     "output_type": "display_data"
    },
    {
     "data": {
      "application/vnd.plotly.v1+json": {
       "config": {
        "plotlyServerURL": "https://plot.ly"
       },
       "data": [
        {
         "hovertemplate": "cluster=0.0<br>Fecha=%{x}<br>Peso Total=%{y}<extra></extra>",
         "legendgroup": "0.0",
         "line": {
          "color": "#636efa",
          "dash": "solid"
         },
         "marker": {
          "symbol": "circle"
         },
         "mode": "lines+markers",
         "name": "0.0",
         "orientation": "v",
         "showlegend": true,
         "type": "scatter",
         "x": [
          "2019-01-01T00:00:00"
         ],
         "xaxis": "x",
         "y": [
          1.9997519507298382
         ],
         "yaxis": "y"
        },
        {
         "hovertemplate": "cluster=1.0<br>Fecha=%{x}<br>Peso Total=%{y}<extra></extra>",
         "legendgroup": "1.0",
         "line": {
          "color": "#EF553B",
          "dash": "solid"
         },
         "marker": {
          "symbol": "circle"
         },
         "mode": "lines+markers",
         "name": "1.0",
         "orientation": "v",
         "showlegend": true,
         "type": "scatter",
         "x": [
          "2019-02-01T00:00:00"
         ],
         "xaxis": "x",
         "y": [
          1.7586563145274339
         ],
         "yaxis": "y"
        },
        {
         "hovertemplate": "cluster=2.0<br>Fecha=%{x}<br>Peso Total=%{y}<extra></extra>",
         "legendgroup": "2.0",
         "line": {
          "color": "#00cc96",
          "dash": "solid"
         },
         "marker": {
          "symbol": "circle"
         },
         "mode": "lines+markers",
         "name": "2.0",
         "orientation": "v",
         "showlegend": true,
         "type": "scatter",
         "x": [
          "2019-03-01T00:00:00"
         ],
         "xaxis": "x",
         "y": [
          3.4999191503172224
         ],
         "yaxis": "y"
        },
        {
         "hovertemplate": "cluster=3.0<br>Fecha=%{x}<br>Peso Total=%{y}<extra></extra>",
         "legendgroup": "3.0",
         "line": {
          "color": "#ab63fa",
          "dash": "solid"
         },
         "marker": {
          "symbol": "circle"
         },
         "mode": "lines+markers",
         "name": "3.0",
         "orientation": "v",
         "showlegend": true,
         "type": "scatter",
         "x": [
          "2019-04-01T00:00:00"
         ],
         "xaxis": "x",
         "y": [
          5.500843324668987
         ],
         "yaxis": "y"
        },
        {
         "hovertemplate": "cluster=4.0<br>Fecha=%{x}<br>Peso Total=%{y}<extra></extra>",
         "legendgroup": "4.0",
         "line": {
          "color": "#FFA15A",
          "dash": "solid"
         },
         "marker": {
          "symbol": "circle"
         },
         "mode": "lines+markers",
         "name": "4.0",
         "orientation": "v",
         "showlegend": true,
         "type": "scatter",
         "x": [
          "2019-05-01T00:00:00"
         ],
         "xaxis": "x",
         "y": [
          5.500143424744818
         ],
         "yaxis": "y"
        },
        {
         "hovertemplate": "cluster=5.0<br>Fecha=%{x}<br>Peso Total=%{y}<extra></extra>",
         "legendgroup": "5.0",
         "line": {
          "color": "#19d3f3",
          "dash": "solid"
         },
         "marker": {
          "symbol": "circle"
         },
         "mode": "lines+markers",
         "name": "5.0",
         "orientation": "v",
         "showlegend": true,
         "type": "scatter",
         "x": [
          "2019-06-01T00:00:00"
         ],
         "xaxis": "x",
         "y": [
          1.879937370496893
         ],
         "yaxis": "y"
        },
        {
         "hovertemplate": "cluster=6.0<br>Fecha=%{x}<br>Peso Total=%{y}<extra></extra>",
         "legendgroup": "6.0",
         "line": {
          "color": "#FF6692",
          "dash": "solid"
         },
         "marker": {
          "symbol": "circle"
         },
         "mode": "lines+markers",
         "name": "6.0",
         "orientation": "v",
         "showlegend": true,
         "type": "scatter",
         "x": [
          "2019-07-01T00:00:00"
         ],
         "xaxis": "x",
         "y": [
          1.9998301177250937
         ],
         "yaxis": "y"
        },
        {
         "hovertemplate": "cluster=7.0<br>Fecha=%{x}<br>Peso Total=%{y}<extra></extra>",
         "legendgroup": "7.0",
         "line": {
          "color": "#B6E880",
          "dash": "solid"
         },
         "marker": {
          "symbol": "circle"
         },
         "mode": "lines+markers",
         "name": "7.0",
         "orientation": "v",
         "showlegend": true,
         "type": "scatter",
         "x": [
          "2019-08-01T00:00:00"
         ],
         "xaxis": "x",
         "y": [
          1.8904819113143245
         ],
         "yaxis": "y"
        },
        {
         "hovertemplate": "cluster=8.0<br>Fecha=%{x}<br>Peso Total=%{y}<extra></extra>",
         "legendgroup": "8.0",
         "line": {
          "color": "#FF97FF",
          "dash": "solid"
         },
         "marker": {
          "symbol": "circle"
         },
         "mode": "lines+markers",
         "name": "8.0",
         "orientation": "v",
         "showlegend": true,
         "type": "scatter",
         "x": [
          "2019-09-01T00:00:00"
         ],
         "xaxis": "x",
         "y": [
          2.000323863913756
         ],
         "yaxis": "y"
        },
        {
         "hovertemplate": "cluster=10.0<br>Fecha=%{x}<br>Peso Total=%{y}<extra></extra>",
         "legendgroup": "10.0",
         "line": {
          "color": "#FECB52",
          "dash": "solid"
         },
         "marker": {
          "symbol": "circle"
         },
         "mode": "lines+markers",
         "name": "10.0",
         "orientation": "v",
         "showlegend": true,
         "type": "scatter",
         "x": [
          "2019-10-01T00:00:00",
          "2019-11-01T00:00:00",
          "2019-12-01T00:00:00"
         ],
         "xaxis": "x",
         "y": [
          1.9995359832511048,
          5.500081048593092,
          5.500211269899634
         ],
         "yaxis": "y"
        },
        {
         "hovertemplate": "cluster=12.0<br>Fecha=%{x}<br>Peso Total=%{y}<extra></extra>",
         "legendgroup": "12.0",
         "line": {
          "color": "#636efa",
          "dash": "solid"
         },
         "marker": {
          "symbol": "circle"
         },
         "mode": "lines+markers",
         "name": "12.0",
         "orientation": "v",
         "showlegend": true,
         "type": "scatter",
         "x": [
          "2020-01-01T00:00:00"
         ],
         "xaxis": "x",
         "y": [
          1.999861011987544
         ],
         "yaxis": "y"
        },
        {
         "hovertemplate": "cluster=13.0<br>Fecha=%{x}<br>Peso Total=%{y}<extra></extra>",
         "legendgroup": "13.0",
         "line": {
          "color": "#EF553B",
          "dash": "solid"
         },
         "marker": {
          "symbol": "circle"
         },
         "mode": "lines+markers",
         "name": "13.0",
         "orientation": "v",
         "showlegend": true,
         "type": "scatter",
         "x": [
          "2020-02-01T00:00:00"
         ],
         "xaxis": "x",
         "y": [
          2.0000980372001997
         ],
         "yaxis": "y"
        },
        {
         "hovertemplate": "cluster=14.0<br>Fecha=%{x}<br>Peso Total=%{y}<extra></extra>",
         "legendgroup": "14.0",
         "line": {
          "color": "#00cc96",
          "dash": "solid"
         },
         "marker": {
          "symbol": "circle"
         },
         "mode": "lines+markers",
         "name": "14.0",
         "orientation": "v",
         "showlegend": true,
         "type": "scatter",
         "x": [
          "2020-03-01T00:00:00"
         ],
         "xaxis": "x",
         "y": [
          1.999545884759871
         ],
         "yaxis": "y"
        },
        {
         "hovertemplate": "cluster=15.0<br>Fecha=%{x}<br>Peso Total=%{y}<extra></extra>",
         "legendgroup": "15.0",
         "line": {
          "color": "#ab63fa",
          "dash": "solid"
         },
         "marker": {
          "symbol": "circle"
         },
         "mode": "lines+markers",
         "name": "15.0",
         "orientation": "v",
         "showlegend": true,
         "type": "scatter",
         "x": [
          "2020-04-01T00:00:00",
          "2020-05-01T00:00:00"
         ],
         "xaxis": "x",
         "y": [
          3.499627305002665,
          5.499918076942879
         ],
         "yaxis": "y"
        },
        {
         "hovertemplate": "cluster=20.0<br>Fecha=%{x}<br>Peso Total=%{y}<extra></extra>",
         "legendgroup": "20.0",
         "line": {
          "color": "#FFA15A",
          "dash": "solid"
         },
         "marker": {
          "symbol": "circle"
         },
         "mode": "lines+markers",
         "name": "20.0",
         "orientation": "v",
         "showlegend": true,
         "type": "scatter",
         "x": [
          "2020-06-01T00:00:00",
          "2020-08-01T00:00:00",
          "2020-09-01T00:00:00",
          "2021-03-01T00:00:00",
          "2021-04-01T00:00:00"
         ],
         "xaxis": "x",
         "y": [
          3.499867214673724,
          2.000865714630549,
          1.9990962807402326,
          2.000013672193596,
          5.5011966647862085
         ],
         "yaxis": "y"
        },
        {
         "hovertemplate": "cluster=19.0<br>Fecha=%{x}<br>Peso Total=%{y}<extra></extra>",
         "legendgroup": "19.0",
         "line": {
          "color": "#19d3f3",
          "dash": "solid"
         },
         "marker": {
          "symbol": "circle"
         },
         "mode": "lines+markers",
         "name": "19.0",
         "orientation": "v",
         "showlegend": true,
         "type": "scatter",
         "x": [
          "2020-07-01T00:00:00"
         ],
         "xaxis": "x",
         "y": [
          5.500981373302983
         ],
         "yaxis": "y"
        },
        {
         "hovertemplate": "cluster=23.0<br>Fecha=%{x}<br>Peso Total=%{y}<extra></extra>",
         "legendgroup": "23.0",
         "line": {
          "color": "#FF6692",
          "dash": "solid"
         },
         "marker": {
          "symbol": "circle"
         },
         "mode": "lines+markers",
         "name": "23.0",
         "orientation": "v",
         "showlegend": true,
         "type": "scatter",
         "x": [
          "2020-10-01T00:00:00"
         ],
         "xaxis": "x",
         "y": [
          1.9994560804511141
         ],
         "yaxis": "y"
        },
        {
         "hovertemplate": "cluster=24.0<br>Fecha=%{x}<br>Peso Total=%{y}<extra></extra>",
         "legendgroup": "24.0",
         "line": {
          "color": "#B6E880",
          "dash": "solid"
         },
         "marker": {
          "symbol": "circle"
         },
         "mode": "lines+markers",
         "name": "24.0",
         "orientation": "v",
         "showlegend": true,
         "type": "scatter",
         "x": [
          "2020-11-01T00:00:00"
         ],
         "xaxis": "x",
         "y": [
          3.4998385689396665
         ],
         "yaxis": "y"
        },
        {
         "hovertemplate": "cluster=25.0<br>Fecha=%{x}<br>Peso Total=%{y}<extra></extra>",
         "legendgroup": "25.0",
         "line": {
          "color": "#FF97FF",
          "dash": "solid"
         },
         "marker": {
          "symbol": "circle"
         },
         "mode": "lines+markers",
         "name": "25.0",
         "orientation": "v",
         "showlegend": true,
         "type": "scatter",
         "x": [
          "2020-12-01T00:00:00",
          "2021-01-01T00:00:00"
         ],
         "xaxis": "x",
         "y": [
          2.0000044795664693,
          3.50017120236643
         ],
         "yaxis": "y"
        },
        {
         "hovertemplate": "cluster=27.0<br>Fecha=%{x}<br>Peso Total=%{y}<extra></extra>",
         "legendgroup": "27.0",
         "line": {
          "color": "#FECB52",
          "dash": "solid"
         },
         "marker": {
          "symbol": "circle"
         },
         "mode": "lines+markers",
         "name": "27.0",
         "orientation": "v",
         "showlegend": true,
         "type": "scatter",
         "x": [
          "2021-02-01T00:00:00"
         ],
         "xaxis": "x",
         "y": [
          1.9998945276216742
         ],
         "yaxis": "y"
        },
        {
         "hovertemplate": "cluster=28.0<br>Fecha=%{x}<br>Peso Total=%{y}<extra></extra>",
         "legendgroup": "28.0",
         "line": {
          "color": "#636efa",
          "dash": "solid"
         },
         "marker": {
          "symbol": "circle"
         },
         "mode": "lines+markers",
         "name": "28.0",
         "orientation": "v",
         "showlegend": true,
         "type": "scatter",
         "x": [
          "2021-05-01T00:00:00"
         ],
         "xaxis": "x",
         "y": [
          5.499701458261194
         ],
         "yaxis": "y"
        },
        {
         "hovertemplate": "cluster=29.0<br>Fecha=%{x}<br>Peso Total=%{y}<extra></extra>",
         "legendgroup": "29.0",
         "line": {
          "color": "#EF553B",
          "dash": "solid"
         },
         "marker": {
          "symbol": "circle"
         },
         "mode": "lines+markers",
         "name": "29.0",
         "orientation": "v",
         "showlegend": true,
         "type": "scatter",
         "x": [
          "2021-06-01T00:00:00"
         ],
         "xaxis": "x",
         "y": [
          2.0005514149629424
         ],
         "yaxis": "y"
        },
        {
         "hovertemplate": "cluster=31.0<br>Fecha=%{x}<br>Peso Total=%{y}<extra></extra>",
         "legendgroup": "31.0",
         "line": {
          "color": "#00cc96",
          "dash": "solid"
         },
         "marker": {
          "symbol": "circle"
         },
         "mode": "lines+markers",
         "name": "31.0",
         "orientation": "v",
         "showlegend": true,
         "type": "scatter",
         "x": [
          "2021-07-01T00:00:00"
         ],
         "xaxis": "x",
         "y": [
          3.5002283678342714
         ],
         "yaxis": "y"
        },
        {
         "hovertemplate": "cluster=32.0<br>Fecha=%{x}<br>Peso Total=%{y}<extra></extra>",
         "legendgroup": "32.0",
         "line": {
          "color": "#ab63fa",
          "dash": "solid"
         },
         "marker": {
          "symbol": "circle"
         },
         "mode": "lines+markers",
         "name": "32.0",
         "orientation": "v",
         "showlegend": true,
         "type": "scatter",
         "x": [
          "2021-08-01T00:00:00"
         ],
         "xaxis": "x",
         "y": [
          3.4999485918900612
         ],
         "yaxis": "y"
        },
        {
         "hovertemplate": "cluster=33.0<br>Fecha=%{x}<br>Peso Total=%{y}<extra></extra>",
         "legendgroup": "33.0",
         "line": {
          "color": "#FFA15A",
          "dash": "solid"
         },
         "marker": {
          "symbol": "circle"
         },
         "mode": "lines+markers",
         "name": "33.0",
         "orientation": "v",
         "showlegend": true,
         "type": "scatter",
         "x": [
          "2021-09-01T00:00:00"
         ],
         "xaxis": "x",
         "y": [
          3.500128286805083
         ],
         "yaxis": "y"
        },
        {
         "hovertemplate": "cluster=34.0<br>Fecha=%{x}<br>Peso Total=%{y}<extra></extra>",
         "legendgroup": "34.0",
         "line": {
          "color": "#19d3f3",
          "dash": "solid"
         },
         "marker": {
          "symbol": "circle"
         },
         "mode": "lines+markers",
         "name": "34.0",
         "orientation": "v",
         "showlegend": true,
         "type": "scatter",
         "x": [
          "2021-10-01T00:00:00",
          "2021-11-01T00:00:00"
         ],
         "xaxis": "x",
         "y": [
          2.0001053375863163,
          5.499812438470772
         ],
         "yaxis": "y"
        },
        {
         "hovertemplate": "cluster=36.0<br>Fecha=%{x}<br>Peso Total=%{y}<extra></extra>",
         "legendgroup": "36.0",
         "line": {
          "color": "#FF6692",
          "dash": "solid"
         },
         "marker": {
          "symbol": "circle"
         },
         "mode": "lines+markers",
         "name": "36.0",
         "orientation": "v",
         "showlegend": true,
         "type": "scatter",
         "x": [
          "2021-12-01T00:00:00"
         ],
         "xaxis": "x",
         "y": [
          2.0000168340247537
         ],
         "yaxis": "y"
        },
        {
         "hovertemplate": "cluster=37.0<br>Fecha=%{x}<br>Peso Total=%{y}<extra></extra>",
         "legendgroup": "37.0",
         "line": {
          "color": "#B6E880",
          "dash": "solid"
         },
         "marker": {
          "symbol": "circle"
         },
         "mode": "lines+markers",
         "name": "37.0",
         "orientation": "v",
         "showlegend": true,
         "type": "scatter",
         "x": [
          "2022-01-01T00:00:00"
         ],
         "xaxis": "x",
         "y": [
          1.999769604587712
         ],
         "yaxis": "y"
        },
        {
         "hovertemplate": "cluster=38.0<br>Fecha=%{x}<br>Peso Total=%{y}<extra></extra>",
         "legendgroup": "38.0",
         "line": {
          "color": "#FF97FF",
          "dash": "solid"
         },
         "marker": {
          "symbol": "circle"
         },
         "mode": "lines+markers",
         "name": "38.0",
         "orientation": "v",
         "showlegend": true,
         "type": "scatter",
         "x": [
          "2022-02-01T00:00:00"
         ],
         "xaxis": "x",
         "y": [
          2.000585713383264
         ],
         "yaxis": "y"
        },
        {
         "hovertemplate": "cluster=39.0<br>Fecha=%{x}<br>Peso Total=%{y}<extra></extra>",
         "legendgroup": "39.0",
         "line": {
          "color": "#FECB52",
          "dash": "solid"
         },
         "marker": {
          "symbol": "circle"
         },
         "mode": "lines+markers",
         "name": "39.0",
         "orientation": "v",
         "showlegend": true,
         "type": "scatter",
         "x": [
          "2022-03-01T00:00:00"
         ],
         "xaxis": "x",
         "y": [
          2.000180211198664
         ],
         "yaxis": "y"
        },
        {
         "hovertemplate": "cluster=40.0<br>Fecha=%{x}<br>Peso Total=%{y}<extra></extra>",
         "legendgroup": "40.0",
         "line": {
          "color": "#636efa",
          "dash": "solid"
         },
         "marker": {
          "symbol": "circle"
         },
         "mode": "lines+markers",
         "name": "40.0",
         "orientation": "v",
         "showlegend": true,
         "type": "scatter",
         "x": [
          "2022-04-01T00:00:00"
         ],
         "xaxis": "x",
         "y": [
          1.9995946890365879
         ],
         "yaxis": "y"
        },
        {
         "hovertemplate": "cluster=41.0<br>Fecha=%{x}<br>Peso Total=%{y}<extra></extra>",
         "legendgroup": "41.0",
         "line": {
          "color": "#EF553B",
          "dash": "solid"
         },
         "marker": {
          "symbol": "circle"
         },
         "mode": "lines+markers",
         "name": "41.0",
         "orientation": "v",
         "showlegend": true,
         "type": "scatter",
         "x": [
          "2022-05-01T00:00:00"
         ],
         "xaxis": "x",
         "y": [
          2.360941543259781
         ],
         "yaxis": "y"
        },
        {
         "hovertemplate": "cluster=42.0<br>Fecha=%{x}<br>Peso Total=%{y}<extra></extra>",
         "legendgroup": "42.0",
         "line": {
          "color": "#00cc96",
          "dash": "solid"
         },
         "marker": {
          "symbol": "circle"
         },
         "mode": "lines+markers",
         "name": "42.0",
         "orientation": "v",
         "showlegend": true,
         "type": "scatter",
         "x": [
          "2022-06-01T00:00:00"
         ],
         "xaxis": "x",
         "y": [
          5.499714486636002
         ],
         "yaxis": "y"
        },
        {
         "hovertemplate": "cluster=43.0<br>Fecha=%{x}<br>Peso Total=%{y}<extra></extra>",
         "legendgroup": "43.0",
         "line": {
          "color": "#ab63fa",
          "dash": "solid"
         },
         "marker": {
          "symbol": "circle"
         },
         "mode": "lines+markers",
         "name": "43.0",
         "orientation": "v",
         "showlegend": true,
         "type": "scatter",
         "x": [
          "2022-07-01T00:00:00",
          "2022-08-01T00:00:00"
         ],
         "xaxis": "x",
         "y": [
          3.500493662343185,
          5.499892193649798
         ],
         "yaxis": "y"
        },
        {
         "hovertemplate": "cluster=45.0<br>Fecha=%{x}<br>Peso Total=%{y}<extra></extra>",
         "legendgroup": "45.0",
         "line": {
          "color": "#FFA15A",
          "dash": "solid"
         },
         "marker": {
          "symbol": "circle"
         },
         "mode": "lines+markers",
         "name": "45.0",
         "orientation": "v",
         "showlegend": true,
         "type": "scatter",
         "x": [
          "2022-09-01T00:00:00"
         ],
         "xaxis": "x",
         "y": [
          3.500034106254414
         ],
         "yaxis": "y"
        },
        {
         "hovertemplate": "cluster=46.0<br>Fecha=%{x}<br>Peso Total=%{y}<extra></extra>",
         "legendgroup": "46.0",
         "line": {
          "color": "#19d3f3",
          "dash": "solid"
         },
         "marker": {
          "symbol": "circle"
         },
         "mode": "lines+markers",
         "name": "46.0",
         "orientation": "v",
         "showlegend": true,
         "type": "scatter",
         "x": [
          "2022-10-01T00:00:00"
         ],
         "xaxis": "x",
         "y": [
          5.501483339272506
         ],
         "yaxis": "y"
        },
        {
         "hovertemplate": "cluster=35.0<br>Fecha=%{x}<br>Peso Total=%{y}<extra></extra>",
         "legendgroup": "35.0",
         "line": {
          "color": "#FF6692",
          "dash": "solid"
         },
         "marker": {
          "symbol": "circle"
         },
         "mode": "lines+markers",
         "name": "35.0",
         "orientation": "v",
         "showlegend": true,
         "type": "scatter",
         "x": [
          "2022-11-01T00:00:00"
         ],
         "xaxis": "x",
         "y": [
          1.9997318824957053
         ],
         "yaxis": "y"
        },
        {
         "hovertemplate": "cluster=9.0<br>Fecha=%{x}<br>Peso Total=%{y}<extra></extra>",
         "legendgroup": "9.0",
         "line": {
          "color": "#B6E880",
          "dash": "solid"
         },
         "marker": {
          "symbol": "circle"
         },
         "mode": "lines+markers",
         "name": "9.0",
         "orientation": "v",
         "showlegend": true,
         "type": "scatter",
         "x": [
          "2022-12-01T00:00:00"
         ],
         "xaxis": "x",
         "y": [
          5.49992451364245
         ],
         "yaxis": "y"
        },
        {
         "hovertemplate": "cluster=11.0<br>Fecha=%{x}<br>Peso Total=%{y}<extra></extra>",
         "legendgroup": "11.0",
         "line": {
          "color": "#FF97FF",
          "dash": "solid"
         },
         "marker": {
          "symbol": "circle"
         },
         "mode": "lines+markers",
         "name": "11.0",
         "orientation": "v",
         "showlegend": true,
         "type": "scatter",
         "x": [
          "2023-01-01T00:00:00"
         ],
         "xaxis": "x",
         "y": [
          5.500139167850311
         ],
         "yaxis": "y"
        },
        {
         "hovertemplate": "cluster=44.0<br>Fecha=%{x}<br>Peso Total=%{y}<extra></extra>",
         "legendgroup": "44.0",
         "line": {
          "color": "#FECB52",
          "dash": "solid"
         },
         "marker": {
          "symbol": "circle"
         },
         "mode": "lines+markers",
         "name": "44.0",
         "orientation": "v",
         "showlegend": true,
         "type": "scatter",
         "x": [
          "2023-02-01T00:00:00"
         ],
         "xaxis": "x",
         "y": [
          5.499599117019131
         ],
         "yaxis": "y"
        },
        {
         "hovertemplate": "cluster=16.0<br>Fecha=%{x}<br>Peso Total=%{y}<extra></extra>",
         "legendgroup": "16.0",
         "line": {
          "color": "#636efa",
          "dash": "solid"
         },
         "marker": {
          "symbol": "circle"
         },
         "mode": "lines+markers",
         "name": "16.0",
         "orientation": "v",
         "showlegend": true,
         "type": "scatter",
         "x": [
          "2023-03-01T00:00:00"
         ],
         "xaxis": "x",
         "y": [
          2.0000323447486306
         ],
         "yaxis": "y"
        },
        {
         "hovertemplate": "cluster=17.0<br>Fecha=%{x}<br>Peso Total=%{y}<extra></extra>",
         "legendgroup": "17.0",
         "line": {
          "color": "#EF553B",
          "dash": "solid"
         },
         "marker": {
          "symbol": "circle"
         },
         "mode": "lines+markers",
         "name": "17.0",
         "orientation": "v",
         "showlegend": true,
         "type": "scatter",
         "x": [
          "2023-04-01T00:00:00",
          "2023-05-01T00:00:00",
          "2023-06-01T00:00:00"
         ],
         "xaxis": "x",
         "y": [
          2.0002528054681545,
          5.500052824522145,
          1.9996313863712463
         ],
         "yaxis": "y"
        },
        {
         "hovertemplate": "cluster=18.0<br>Fecha=%{x}<br>Peso Total=%{y}<extra></extra>",
         "legendgroup": "18.0",
         "line": {
          "color": "#00cc96",
          "dash": "solid"
         },
         "marker": {
          "symbol": "circle"
         },
         "mode": "lines+markers",
         "name": "18.0",
         "orientation": "v",
         "showlegend": true,
         "type": "scatter",
         "x": [
          "2023-07-01T00:00:00"
         ],
         "xaxis": "x",
         "y": [
          5.500955607101239
         ],
         "yaxis": "y"
        },
        {
         "hovertemplate": "cluster=21.0<br>Fecha=%{x}<br>Peso Total=%{y}<extra></extra>",
         "legendgroup": "21.0",
         "line": {
          "color": "#ab63fa",
          "dash": "solid"
         },
         "marker": {
          "symbol": "circle"
         },
         "mode": "lines+markers",
         "name": "21.0",
         "orientation": "v",
         "showlegend": true,
         "type": "scatter",
         "x": [
          "2023-08-01T00:00:00",
          "2023-09-01T00:00:00"
         ],
         "xaxis": "x",
         "y": [
          3.4997413864765607,
          5.500028431043155
         ],
         "yaxis": "y"
        },
        {
         "hovertemplate": "cluster=22.0<br>Fecha=%{x}<br>Peso Total=%{y}<extra></extra>",
         "legendgroup": "22.0",
         "line": {
          "color": "#FFA15A",
          "dash": "solid"
         },
         "marker": {
          "symbol": "circle"
         },
         "mode": "lines+markers",
         "name": "22.0",
         "orientation": "v",
         "showlegend": true,
         "type": "scatter",
         "x": [
          "2023-10-01T00:00:00"
         ],
         "xaxis": "x",
         "y": [
          3.499229330650838
         ],
         "yaxis": "y"
        },
        {
         "hovertemplate": "cluster=26.0<br>Fecha=%{x}<br>Peso Total=%{y}<extra></extra>",
         "legendgroup": "26.0",
         "line": {
          "color": "#19d3f3",
          "dash": "solid"
         },
         "marker": {
          "symbol": "circle"
         },
         "mode": "lines+markers",
         "name": "26.0",
         "orientation": "v",
         "showlegend": true,
         "type": "scatter",
         "x": [
          "2023-11-01T00:00:00"
         ],
         "xaxis": "x",
         "y": [
          3.4999785475608896
         ],
         "yaxis": "y"
        },
        {
         "hovertemplate": "cluster=30.0<br>Fecha=%{x}<br>Peso Total=%{y}<extra></extra>",
         "legendgroup": "30.0",
         "line": {
          "color": "#FF6692",
          "dash": "solid"
         },
         "marker": {
          "symbol": "circle"
         },
         "mode": "lines+markers",
         "name": "30.0",
         "orientation": "v",
         "showlegend": true,
         "type": "scatter",
         "x": [
          "2023-12-01T00:00:00"
         ],
         "xaxis": "x",
         "y": [
          1.9996246910773805
         ],
         "yaxis": "y"
        }
       ],
       "layout": {
        "legend": {
         "title": {
          "text": "cluster"
         },
         "tracegroupgap": 0
        },
        "template": {
         "data": {
          "bar": [
           {
            "error_x": {
             "color": "#2a3f5f"
            },
            "error_y": {
             "color": "#2a3f5f"
            },
            "marker": {
             "line": {
              "color": "white",
              "width": 0.5
             },
             "pattern": {
              "fillmode": "overlay",
              "size": 10,
              "solidity": 0.2
             }
            },
            "type": "bar"
           }
          ],
          "barpolar": [
           {
            "marker": {
             "line": {
              "color": "white",
              "width": 0.5
             },
             "pattern": {
              "fillmode": "overlay",
              "size": 10,
              "solidity": 0.2
             }
            },
            "type": "barpolar"
           }
          ],
          "carpet": [
           {
            "aaxis": {
             "endlinecolor": "#2a3f5f",
             "gridcolor": "#C8D4E3",
             "linecolor": "#C8D4E3",
             "minorgridcolor": "#C8D4E3",
             "startlinecolor": "#2a3f5f"
            },
            "baxis": {
             "endlinecolor": "#2a3f5f",
             "gridcolor": "#C8D4E3",
             "linecolor": "#C8D4E3",
             "minorgridcolor": "#C8D4E3",
             "startlinecolor": "#2a3f5f"
            },
            "type": "carpet"
           }
          ],
          "choropleth": [
           {
            "colorbar": {
             "outlinewidth": 0,
             "ticks": ""
            },
            "type": "choropleth"
           }
          ],
          "contour": [
           {
            "colorbar": {
             "outlinewidth": 0,
             "ticks": ""
            },
            "colorscale": [
             [
              0,
              "#0d0887"
             ],
             [
              0.1111111111111111,
              "#46039f"
             ],
             [
              0.2222222222222222,
              "#7201a8"
             ],
             [
              0.3333333333333333,
              "#9c179e"
             ],
             [
              0.4444444444444444,
              "#bd3786"
             ],
             [
              0.5555555555555556,
              "#d8576b"
             ],
             [
              0.6666666666666666,
              "#ed7953"
             ],
             [
              0.7777777777777778,
              "#fb9f3a"
             ],
             [
              0.8888888888888888,
              "#fdca26"
             ],
             [
              1,
              "#f0f921"
             ]
            ],
            "type": "contour"
           }
          ],
          "contourcarpet": [
           {
            "colorbar": {
             "outlinewidth": 0,
             "ticks": ""
            },
            "type": "contourcarpet"
           }
          ],
          "heatmap": [
           {
            "colorbar": {
             "outlinewidth": 0,
             "ticks": ""
            },
            "colorscale": [
             [
              0,
              "#0d0887"
             ],
             [
              0.1111111111111111,
              "#46039f"
             ],
             [
              0.2222222222222222,
              "#7201a8"
             ],
             [
              0.3333333333333333,
              "#9c179e"
             ],
             [
              0.4444444444444444,
              "#bd3786"
             ],
             [
              0.5555555555555556,
              "#d8576b"
             ],
             [
              0.6666666666666666,
              "#ed7953"
             ],
             [
              0.7777777777777778,
              "#fb9f3a"
             ],
             [
              0.8888888888888888,
              "#fdca26"
             ],
             [
              1,
              "#f0f921"
             ]
            ],
            "type": "heatmap"
           }
          ],
          "heatmapgl": [
           {
            "colorbar": {
             "outlinewidth": 0,
             "ticks": ""
            },
            "colorscale": [
             [
              0,
              "#0d0887"
             ],
             [
              0.1111111111111111,
              "#46039f"
             ],
             [
              0.2222222222222222,
              "#7201a8"
             ],
             [
              0.3333333333333333,
              "#9c179e"
             ],
             [
              0.4444444444444444,
              "#bd3786"
             ],
             [
              0.5555555555555556,
              "#d8576b"
             ],
             [
              0.6666666666666666,
              "#ed7953"
             ],
             [
              0.7777777777777778,
              "#fb9f3a"
             ],
             [
              0.8888888888888888,
              "#fdca26"
             ],
             [
              1,
              "#f0f921"
             ]
            ],
            "type": "heatmapgl"
           }
          ],
          "histogram": [
           {
            "marker": {
             "pattern": {
              "fillmode": "overlay",
              "size": 10,
              "solidity": 0.2
             }
            },
            "type": "histogram"
           }
          ],
          "histogram2d": [
           {
            "colorbar": {
             "outlinewidth": 0,
             "ticks": ""
            },
            "colorscale": [
             [
              0,
              "#0d0887"
             ],
             [
              0.1111111111111111,
              "#46039f"
             ],
             [
              0.2222222222222222,
              "#7201a8"
             ],
             [
              0.3333333333333333,
              "#9c179e"
             ],
             [
              0.4444444444444444,
              "#bd3786"
             ],
             [
              0.5555555555555556,
              "#d8576b"
             ],
             [
              0.6666666666666666,
              "#ed7953"
             ],
             [
              0.7777777777777778,
              "#fb9f3a"
             ],
             [
              0.8888888888888888,
              "#fdca26"
             ],
             [
              1,
              "#f0f921"
             ]
            ],
            "type": "histogram2d"
           }
          ],
          "histogram2dcontour": [
           {
            "colorbar": {
             "outlinewidth": 0,
             "ticks": ""
            },
            "colorscale": [
             [
              0,
              "#0d0887"
             ],
             [
              0.1111111111111111,
              "#46039f"
             ],
             [
              0.2222222222222222,
              "#7201a8"
             ],
             [
              0.3333333333333333,
              "#9c179e"
             ],
             [
              0.4444444444444444,
              "#bd3786"
             ],
             [
              0.5555555555555556,
              "#d8576b"
             ],
             [
              0.6666666666666666,
              "#ed7953"
             ],
             [
              0.7777777777777778,
              "#fb9f3a"
             ],
             [
              0.8888888888888888,
              "#fdca26"
             ],
             [
              1,
              "#f0f921"
             ]
            ],
            "type": "histogram2dcontour"
           }
          ],
          "mesh3d": [
           {
            "colorbar": {
             "outlinewidth": 0,
             "ticks": ""
            },
            "type": "mesh3d"
           }
          ],
          "parcoords": [
           {
            "line": {
             "colorbar": {
              "outlinewidth": 0,
              "ticks": ""
             }
            },
            "type": "parcoords"
           }
          ],
          "pie": [
           {
            "automargin": true,
            "type": "pie"
           }
          ],
          "scatter": [
           {
            "fillpattern": {
             "fillmode": "overlay",
             "size": 10,
             "solidity": 0.2
            },
            "type": "scatter"
           }
          ],
          "scatter3d": [
           {
            "line": {
             "colorbar": {
              "outlinewidth": 0,
              "ticks": ""
             }
            },
            "marker": {
             "colorbar": {
              "outlinewidth": 0,
              "ticks": ""
             }
            },
            "type": "scatter3d"
           }
          ],
          "scattercarpet": [
           {
            "marker": {
             "colorbar": {
              "outlinewidth": 0,
              "ticks": ""
             }
            },
            "type": "scattercarpet"
           }
          ],
          "scattergeo": [
           {
            "marker": {
             "colorbar": {
              "outlinewidth": 0,
              "ticks": ""
             }
            },
            "type": "scattergeo"
           }
          ],
          "scattergl": [
           {
            "marker": {
             "colorbar": {
              "outlinewidth": 0,
              "ticks": ""
             }
            },
            "type": "scattergl"
           }
          ],
          "scattermapbox": [
           {
            "marker": {
             "colorbar": {
              "outlinewidth": 0,
              "ticks": ""
             }
            },
            "type": "scattermapbox"
           }
          ],
          "scatterpolar": [
           {
            "marker": {
             "colorbar": {
              "outlinewidth": 0,
              "ticks": ""
             }
            },
            "type": "scatterpolar"
           }
          ],
          "scatterpolargl": [
           {
            "marker": {
             "colorbar": {
              "outlinewidth": 0,
              "ticks": ""
             }
            },
            "type": "scatterpolargl"
           }
          ],
          "scatterternary": [
           {
            "marker": {
             "colorbar": {
              "outlinewidth": 0,
              "ticks": ""
             }
            },
            "type": "scatterternary"
           }
          ],
          "surface": [
           {
            "colorbar": {
             "outlinewidth": 0,
             "ticks": ""
            },
            "colorscale": [
             [
              0,
              "#0d0887"
             ],
             [
              0.1111111111111111,
              "#46039f"
             ],
             [
              0.2222222222222222,
              "#7201a8"
             ],
             [
              0.3333333333333333,
              "#9c179e"
             ],
             [
              0.4444444444444444,
              "#bd3786"
             ],
             [
              0.5555555555555556,
              "#d8576b"
             ],
             [
              0.6666666666666666,
              "#ed7953"
             ],
             [
              0.7777777777777778,
              "#fb9f3a"
             ],
             [
              0.8888888888888888,
              "#fdca26"
             ],
             [
              1,
              "#f0f921"
             ]
            ],
            "type": "surface"
           }
          ],
          "table": [
           {
            "cells": {
             "fill": {
              "color": "#EBF0F8"
             },
             "line": {
              "color": "white"
             }
            },
            "header": {
             "fill": {
              "color": "#C8D4E3"
             },
             "line": {
              "color": "white"
             }
            },
            "type": "table"
           }
          ]
         },
         "layout": {
          "annotationdefaults": {
           "arrowcolor": "#2a3f5f",
           "arrowhead": 0,
           "arrowwidth": 1
          },
          "autotypenumbers": "strict",
          "coloraxis": {
           "colorbar": {
            "outlinewidth": 0,
            "ticks": ""
           }
          },
          "colorscale": {
           "diverging": [
            [
             0,
             "#8e0152"
            ],
            [
             0.1,
             "#c51b7d"
            ],
            [
             0.2,
             "#de77ae"
            ],
            [
             0.3,
             "#f1b6da"
            ],
            [
             0.4,
             "#fde0ef"
            ],
            [
             0.5,
             "#f7f7f7"
            ],
            [
             0.6,
             "#e6f5d0"
            ],
            [
             0.7,
             "#b8e186"
            ],
            [
             0.8,
             "#7fbc41"
            ],
            [
             0.9,
             "#4d9221"
            ],
            [
             1,
             "#276419"
            ]
           ],
           "sequential": [
            [
             0,
             "#0d0887"
            ],
            [
             0.1111111111111111,
             "#46039f"
            ],
            [
             0.2222222222222222,
             "#7201a8"
            ],
            [
             0.3333333333333333,
             "#9c179e"
            ],
            [
             0.4444444444444444,
             "#bd3786"
            ],
            [
             0.5555555555555556,
             "#d8576b"
            ],
            [
             0.6666666666666666,
             "#ed7953"
            ],
            [
             0.7777777777777778,
             "#fb9f3a"
            ],
            [
             0.8888888888888888,
             "#fdca26"
            ],
            [
             1,
             "#f0f921"
            ]
           ],
           "sequentialminus": [
            [
             0,
             "#0d0887"
            ],
            [
             0.1111111111111111,
             "#46039f"
            ],
            [
             0.2222222222222222,
             "#7201a8"
            ],
            [
             0.3333333333333333,
             "#9c179e"
            ],
            [
             0.4444444444444444,
             "#bd3786"
            ],
            [
             0.5555555555555556,
             "#d8576b"
            ],
            [
             0.6666666666666666,
             "#ed7953"
            ],
            [
             0.7777777777777778,
             "#fb9f3a"
            ],
            [
             0.8888888888888888,
             "#fdca26"
            ],
            [
             1,
             "#f0f921"
            ]
           ]
          },
          "colorway": [
           "#636efa",
           "#EF553B",
           "#00cc96",
           "#ab63fa",
           "#FFA15A",
           "#19d3f3",
           "#FF6692",
           "#B6E880",
           "#FF97FF",
           "#FECB52"
          ],
          "font": {
           "color": "#2a3f5f"
          },
          "geo": {
           "bgcolor": "white",
           "lakecolor": "white",
           "landcolor": "white",
           "showlakes": true,
           "showland": true,
           "subunitcolor": "#C8D4E3"
          },
          "hoverlabel": {
           "align": "left"
          },
          "hovermode": "closest",
          "mapbox": {
           "style": "light"
          },
          "paper_bgcolor": "white",
          "plot_bgcolor": "white",
          "polar": {
           "angularaxis": {
            "gridcolor": "#EBF0F8",
            "linecolor": "#EBF0F8",
            "ticks": ""
           },
           "bgcolor": "white",
           "radialaxis": {
            "gridcolor": "#EBF0F8",
            "linecolor": "#EBF0F8",
            "ticks": ""
           }
          },
          "scene": {
           "xaxis": {
            "backgroundcolor": "white",
            "gridcolor": "#DFE8F3",
            "gridwidth": 2,
            "linecolor": "#EBF0F8",
            "showbackground": true,
            "ticks": "",
            "zerolinecolor": "#EBF0F8"
           },
           "yaxis": {
            "backgroundcolor": "white",
            "gridcolor": "#DFE8F3",
            "gridwidth": 2,
            "linecolor": "#EBF0F8",
            "showbackground": true,
            "ticks": "",
            "zerolinecolor": "#EBF0F8"
           },
           "zaxis": {
            "backgroundcolor": "white",
            "gridcolor": "#DFE8F3",
            "gridwidth": 2,
            "linecolor": "#EBF0F8",
            "showbackground": true,
            "ticks": "",
            "zerolinecolor": "#EBF0F8"
           }
          },
          "shapedefaults": {
           "line": {
            "color": "#2a3f5f"
           }
          },
          "ternary": {
           "aaxis": {
            "gridcolor": "#DFE8F3",
            "linecolor": "#A2B1C6",
            "ticks": ""
           },
           "baxis": {
            "gridcolor": "#DFE8F3",
            "linecolor": "#A2B1C6",
            "ticks": ""
           },
           "bgcolor": "white",
           "caxis": {
            "gridcolor": "#DFE8F3",
            "linecolor": "#A2B1C6",
            "ticks": ""
           }
          },
          "title": {
           "x": 0.05
          },
          "xaxis": {
           "automargin": true,
           "gridcolor": "#EBF0F8",
           "linecolor": "#EBF0F8",
           "ticks": "",
           "title": {
            "standoff": 15
           },
           "zerolinecolor": "#EBF0F8",
           "zerolinewidth": 2
          },
          "yaxis": {
           "automargin": true,
           "gridcolor": "#EBF0F8",
           "linecolor": "#EBF0F8",
           "ticks": "",
           "title": {
            "standoff": 15
           },
           "zerolinecolor": "#EBF0F8",
           "zerolinewidth": 2
          }
         }
        },
        "title": {
         "text": "Línea de Tiempo por Clúster de Tópicos"
        },
        "xaxis": {
         "anchor": "y",
         "domain": [
          0,
          1
         ],
         "title": {
          "text": "Fecha"
         }
        },
        "yaxis": {
         "anchor": "x",
         "domain": [
          0,
          1
         ],
         "title": {
          "text": "Peso Total"
         }
        }
       }
      }
     },
     "metadata": {},
     "output_type": "display_data"
    },
    {
     "data": {
      "image/png": "[encoded data removed]",
      "text/plain": [
       "<Figure size 1200x600 with 1 Axes>"
      ]
     },
     "metadata": {},
     "output_type": "display_data"
    }
   ],
   "source": [
    "# -- Step 7: Similarity Graph + Louvain Clustering\n",
    "G = nx.Graph()\n",
    "similarity_threshold = 0.9\n",
    "for i1, row1 in df_topics.iterrows():\n",
    "    for i2, row2 in df_topics.iterrows():\n",
    "        if i1 >= i2:\n",
    "            continue\n",
    "        sim = cosine_similarity([row1[\"vector\"]], [row2[\"vector\"]])[0][0]\n",
    "        if sim > similarity_threshold:\n",
    "            G.add_edge(i1, i2, weight=sim)\n",
    "partition = community_louvain.best_partition(G)\n",
    "df_topics[\"cluster\"] = df_topics.index.map(partition)\n",
    "\n",
    "# -- Step 8: Plotly Scatter of Topic Evolution\n",
    "df_plot = df_topics.copy()\n",
    "df_plot[\"Mes\"] = pd.to_datetime(df_plot[\"mes\"])\n",
    "fig = px.scatter(\n",
    "    df_plot,\n",
    "    x=\"Mes\",\n",
    "    y=\"peso\",\n",
    "    color=\"cluster\",\n",
    "    hover_data=[\"palabras\"],\n",
    "    title=\"Evolución de Tópicos Emergentes en el Tiempo\",\n",
    "    labels={\"peso\": \"Importancia del Tópico\", \"Mes\": \"Fecha\"},\n",
    "    template=\"plotly_white\"\n",
    ")\n",
    "fig.update_traces(marker=dict(size=10, line=dict(width=0.5, color='DarkSlateGrey')))\n",
    "fig.update_layout(legend_title_text='Clúster de Tópico')\n",
    "fig.show()\n",
    "\n",
    "# -- Step 9: Topic Timelines\n",
    "timeline_df = df_topics.copy()\n",
    "timeline_df[\"Mes\"] = pd.to_datetime(timeline_df[\"mes\"])\n",
    "timeline_df = timeline_df.groupby([\"Mes\", \"cluster\"]).agg({\"peso\": \"sum\"}).reset_index()\n",
    "\n",
    "fig2 = px.line(\n",
    "    timeline_df,\n",
    "    x=\"Mes\",\n",
    "    y=\"peso\",\n",
    "    color=\"cluster\",\n",
    "    title=\"Línea de Tiempo por Clúster de Tópicos\",\n",
    "    labels={\"peso\": \"Peso Total\", \"Mes\": \"Fecha\"},\n",
    "    markers=True,\n",
    "    template=\"plotly_white\"\n",
    ")\n",
    "fig2.show()\n",
    "\n",
    "# -- Step 10: Heatmap de palabras más representativas por clúster\n",
    "from collections import Counter\n",
    "def top_words_por_cluster(df, top_n=10):\n",
    "    cluster_words = {}\n",
    "    for cluster in df[\"cluster\"].unique():\n",
    "        textos = df[df[\"cluster\"] == cluster][\"palabras\"]\n",
    "        all_words = [w for txt in textos for w in txt.split(\", \")]\n",
    "        counter = Counter(all_words)\n",
    "        cluster_words[cluster] = [w for w, _ in counter.most_common(top_n)]\n",
    "    return pd.DataFrame.from_dict(cluster_words, orient=\"index\")\n",
    "\n",
    "heatmap_df = top_words_por_cluster(df_topics, top_n=10)\n",
    "plt.figure(figsize=(12, 6))\n",
    "sns.heatmap(\n",
    "    pd.DataFrame([[1]*10]*len(heatmap_df), index=heatmap_df.index, columns=heatmap_df.columns),\n",
    "    cbar=False,\n",
    "    annot=heatmap_df.values,\n",
    "    fmt=\"\",\n",
    "    cmap=\"viridis\"\n",
    ")\n",
    "plt.title(\"Palabras más frecuentes por clúster\")\n",
    "plt.yticks(rotation=0)\n",
    "plt.show()"
   ]
  },
  {
   "cell_type": "code",
   "execution_count": 15,
   "id": "db5d0364",
   "metadata": {},
   "outputs": [],
   "source": [
    "df_topics.to_parquet(\"lda_topics_month.parquet\", index=False)"
   ]
  },
  {
   "cell_type": "code",
   "execution_count": 16,
   "id": "2d4537f5",
   "metadata": {},
   "outputs": [
    {
     "name": "stdout",
     "output_type": "stream",
     "text": [
      "<class 'pandas.core.frame.DataFrame'>\n",
      "RangeIndex: 233 entries, 0 to 232\n",
      "Data columns (total 6 columns):\n",
      " #   Column     Non-Null Count  Dtype  \n",
      "---  ------     --------------  -----  \n",
      " 0   mes        233 non-null    object \n",
      " 1   topico_id  233 non-null    int64  \n",
      " 2   palabras   233 non-null    object \n",
      " 3   vector     233 non-null    object \n",
      " 4   peso       233 non-null    float64\n",
      " 5   cluster    233 non-null    int64  \n",
      "dtypes: float64(1), int64(2), object(3)\n",
      "memory usage: 11.1+ KB\n"
     ]
    }
   ],
   "source": [
    "df_topics.info()"
   ]
  },
  {
   "cell_type": "code",
   "execution_count": 9,
   "id": "36a4d682",
   "metadata": {},
   "outputs": [],
   "source": [
    "import plotly.io as pio\n",
    "\n",
    "nombres = [\"grafico_evolucion_temas\", \"grafico_linea_temas\"]\n",
    "figuras = [fig, fig2]\n",
    "\n",
    "for nombre, fig in zip(nombres, figuras):\n",
    "    pio.write_html(\n",
    "        fig, \n",
    "        file=f\"{nombre}_fragmento.html\", \n",
    "        full_html=False, \n",
    "        include_plotlyjs=False\n",
    "    )\n"
   ]
  },
  {
   "cell_type": "code",
   "execution_count": 11,
   "id": "1809c610",
   "metadata": {},
   "outputs": [],
   "source": [
    "plotly_js_cdn = '<script src=\"https://cdn.plot.ly/plotly-latest.min.js\"></script>'\n",
    "\n",
    "html_parts = [f\"<!DOCTYPE html><html><head>{plotly_js_cdn}<meta charset='utf-8'><title>Dashboard de Tópicos</title></head><body>\"]\n",
    "html_parts.append(\"<h1 style='text-align:center;'>Tópicos Think Tanks 2019-2023</h1>\")\n",
    "\n",
    "for nombre in nombres:\n",
    "    html_parts.append(f\"<h2>{nombre.replace('_', ' ').title()}</h2>\")\n",
    "    with open(f\"{nombre}_fragmento.html\", \"r\", encoding=\"utf-8\") as f:\n",
    "        html_parts.append(f.read())\n",
    "\n",
    "html_parts.append(\"</body></html>\")\n",
    "\n",
    "# Escribir archivo final\n",
    "with open(\"dashboard_frankenstein.html\", \"w\", encoding=\"utf-8\") as f:\n",
    "    f.write(\"\\n\".join(html_parts))\n"
   ]
  }
 ],
 "metadata": {
  "kernelspec": {
   "display_name": "Python 3",
   "language": "python",
   "name": "python3"
  },
  "language_info": {
   "codemirror_mode": {
    "name": "ipython",
    "version": 3
   },
   "file_extension": ".py",
   "mimetype": "text/x-python",
   "name": "python",
   "nbconvert_exporter": "python",
   "pygments_lexer": "ipython3",
   "version": "3.12.4"
  }
 },
 "nbformat": 4,
 "nbformat_minor": 5
}

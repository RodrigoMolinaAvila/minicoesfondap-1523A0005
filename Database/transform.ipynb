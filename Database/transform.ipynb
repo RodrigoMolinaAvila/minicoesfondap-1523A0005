{
 "cells": [
  {
   "cell_type": "code",
   "execution_count": 1,
   "id": "dbb756a1",
   "metadata": {},
   "outputs": [],
   "source": [
    "import pandas as pd"
   ]
  },
  {
   "cell_type": "code",
   "execution_count": 2,
   "id": "2a18ba7b",
   "metadata": {},
   "outputs": [],
   "source": [
    "df = pd.read_excel(\"01_bbdd_think_tanks_no_stopwords.xlsx\")"
   ]
  },
  {
   "cell_type": "code",
   "execution_count": 3,
   "id": "b3cb3222",
   "metadata": {},
   "outputs": [],
   "source": [
    "df['Tipo de Think Tank'] = df['Tipo de Think Tank'].replace({'Universidad': 'Universidades'})"
   ]
  },
  {
   "cell_type": "code",
   "execution_count": 5,
   "id": "c219bbab",
   "metadata": {},
   "outputs": [
    {
     "name": "stdout",
     "output_type": "stream",
     "text": [
      "<class 'pandas.core.frame.DataFrame'>\n",
      "RangeIndex: 31647 entries, 0 to 31646\n",
      "Data columns (total 16 columns):\n",
      " #   Column                Non-Null Count  Dtype         \n",
      "---  ------                --------------  -----         \n",
      " 0   ID                    31647 non-null  int64         \n",
      " 1   Think Tank            31647 non-null  object        \n",
      " 2   Tipo de Think Tank    31647 non-null  object        \n",
      " 3   Orientación Política  31647 non-null  object        \n",
      " 4   Autor                 14186 non-null  object        \n",
      " 5   Título                31629 non-null  object        \n",
      " 6   Medio                 5811 non-null   object        \n",
      " 7   Corpus                30238 non-null  object        \n",
      " 8   Producto              18530 non-null  object        \n",
      " 9   Enlace                31638 non-null  object        \n",
      " 10  CorpusPDF             749 non-null    object        \n",
      " 11  FechaPublicacion      31477 non-null  datetime64[ns]\n",
      " 12  Año                   31477 non-null  float64       \n",
      " 13  Mes                   31477 non-null  float64       \n",
      " 14  Dia                   31477 non-null  float64       \n",
      " 15  Texto                 31647 non-null  object        \n",
      "dtypes: datetime64[ns](1), float64(3), int64(1), object(11)\n",
      "memory usage: 3.9+ MB\n"
     ]
    }
   ],
   "source": [
    "df.info()"
   ]
  },
  {
   "cell_type": "code",
   "execution_count": 6,
   "id": "74ef9709",
   "metadata": {},
   "outputs": [],
   "source": [
    "df.to_parquet(\"01_bbdd_think_tanks_no_stopwords.parquet\")"
   ]
  }
 ],
 "metadata": {
  "kernelspec": {
   "display_name": "Python 3",
   "language": "python",
   "name": "python3"
  },
  "language_info": {
   "codemirror_mode": {
    "name": "ipython",
    "version": 3
   },
   "file_extension": ".py",
   "mimetype": "text/x-python",
   "name": "python",
   "nbconvert_exporter": "python",
   "pygments_lexer": "ipython3",
   "version": "3.12.3"
  }
 },
 "nbformat": 4,
 "nbformat_minor": 5
}

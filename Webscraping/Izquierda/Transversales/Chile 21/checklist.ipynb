{
 "cells": [
  {
   "cell_type": "markdown",
   "metadata": {},
   "source": [
    "# Checklist de Enlaces - Fundación Chile 21\n",
    "\n",
    "- [ ] **Chile 21**: [Fundacion Chile 21](https://chile21.cl/)\n",
    "  - [ ] **Noticias**: [Categoría: Noticias - Fundacion Chile 21](https://chile21.cl/categoria/noticias/)\n",
    "    - [ ] Prensa: [Categoría: Prensa - Fundacion Chile 21](https://chile21.cl/categoria/noticias/prensa/)\n",
    "    - [ ] Columnas: [Categoría: Columnas - Fundacion Chile 21](https://chile21.cl/categoria/noticias/columnas/)\n",
    "  - [ ] **Eventos**: [Eventos - Fundacion Chile 21](https://chile21.cl/events/)\n",
    "  - [ ] **Publicaciones**: [Archivos: Portfolio - Fundacion Chile 21](https://chile21.cl/publicaciones/)\n"
   ]
  }
 ],
 "metadata": {
  "language_info": {
   "name": "python"
  }
 },
 "nbformat": 4,
 "nbformat_minor": 2
}

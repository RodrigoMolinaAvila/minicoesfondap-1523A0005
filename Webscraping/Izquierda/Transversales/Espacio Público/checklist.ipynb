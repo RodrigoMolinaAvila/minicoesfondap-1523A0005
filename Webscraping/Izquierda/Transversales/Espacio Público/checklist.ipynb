{
 "cells": [
  {
   "cell_type": "markdown",
   "metadata": {},
   "source": [
    "# Checklist de Enlaces - Espacio Público\n",
    "\n",
    "- [ ] **Espacio Público**: [Espacio Público – Centro de Estudios Independiente](https://espaciopublico.cl/)\n",
    "  - [ ] **Áreas de Estudio**: [Áreas de Estudio – Espacio Público](https://espaciopublico.cl/areas-de-estudio/)\n",
    "    - [ ] Ciudad y Territorio: [Ciudad y Territorio – Espacio Público](https://espaciopublico.cl/areas/ciudad-y-territorio/)\n",
    "    - [ ] Democracia y Anticorrupción: [Democracia y Anticorrupción – Espacio Público](https://espaciopublico.cl/areas/democracia-y-anticorrupcion/)\n",
    "    - [ ] Diversidad, Inclusión y Derechos Humanos: [Diversidad, Inclusión y Derechos Humanos – Espacio Público](https://espaciopublico.cl/areas/diversidad-inclusion-y-derechos-humanos/)\n",
    "    - [ ] Innovación y Tecnologías de la Información (TIC): [Innovación y Tecnologías de la Información (TIC) – Espacio Público](https://espaciopublico.cl/areas/innovacion-y-tecnologias-de-la-informacion-tic/)\n",
    "    - [ ] Jóvenes, Educación y Empleo: [Jóvenes, Educación y Empleo – Espacio Público](https://espaciopublico.cl/areas/jovenes-educacion-y-empleo/)\n",
    "    - [ ] Libre Competencia y Consumidores: [Libre Competencia y Consumidores – Espacio Público](https://espaciopublico.cl/areas/libre-competencia-y-consumidores/)\n",
    "    - [ ] Seguridad Social (Salud y Pensiones): [Seguridad Social (Salud y Pensiones) – Espacio Público](https://espaciopublico.cl/areas/seguridad-social-salud-y-pensiones/)\n",
    "    - [ ] Sustentabilidad y Recursos Naturales: [Sustentabilidad y Recursos Naturales – Espacio Público](https://espaciopublico.cl/areas/sustentabilidad-y-recursos-naturales/)\n",
    "    - [ ] Opinión Pública: [Opinión Pública – Espacio Público](https://espaciopublico.cl/areas/opinion-publica/)\n",
    "  - [ ] **Nuestro Trabajo**: [Nuestro Trabajo – Espacio Público](https://espaciopublico.cl/nuestro-trabajo/)\n",
    "  - [ ] **Eventos**: [Eventos – Espacio Público](https://espaciopublico.cl/eventos/)\n",
    "  - [ ] **Prensa**: [Prensa – Espacio Público](https://espaciopublico.cl/categoria/prensa/)\n",
    "    - [ ] EP en la Prensa: [EP en la Prensa – Espacio Público](https://espaciopublico.cl/categoria/prensa/ep-en-la-prensa/)\n",
    "    - [ ] Columnas: [Columna – Espacio Público](https://espaciopublico.cl/categoria/prensa/ep-en-la-prensa/columna/)\n",
    "    - [ ] Noticia: [Noticia – Espacio Público](https://espaciopublico.cl/categoria/prensa/noticia/)\n",
    "    - [ ] Podcast: [Podcast – Espacio Público](https://espaciopublico.cl/categoria/prensa/podcast/)\n",
    "    - [ ] Reportajes: [Feed Twitter – Espacio Público](https://espaciopublico.cl/prensa/reportajes/)\n",
    "    - [ ] Youtube: [Canal de Youtube – Espacio Público](https://espaciopublico.cl/prensa/feed-youtube/)\n"
   ]
  }
 ],
 "metadata": {
  "language_info": {
   "name": "python"
  }
 },
 "nbformat": 4,
 "nbformat_minor": 2
}

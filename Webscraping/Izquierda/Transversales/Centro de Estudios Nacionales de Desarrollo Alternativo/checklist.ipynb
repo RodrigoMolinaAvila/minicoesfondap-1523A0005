{
 "cells": [
  {
   "cell_type": "markdown",
   "metadata": {},
   "source": [
    "# Checklist de Enlaces - Centro de Estudios Nacionales de Desarrollo Alternativo (CENDA)\n",
    "\n",
    "- [ ] **CENDA**: [CENDA (cendachile.cl)](https://www.cendachile.cl/)\n",
    "  - [ ] **Series**: [CENDA - Series (cendachile.cl)](https://www.cendachile.cl/series-cenda)\n",
    "    - [ ] Ciclo Secular Economías Desarrolladas: [CENDA - Índices diarios de monedas, bolsas mundiales, cuota AFP y precios metales](https://www.cendachile.cl/series-cenda/%C3%ADndices-diarios-de-monedas-bolsas-mundiales-cuota-afp-y-precios-metales)\n",
    "    - [ ] Índices Mensuales de Actividad Económica Interna: [CENDA - Índices Mensuales de Actividad Económica Interna](https://www.cendachile.cl/series-cenda/%C3%ADndices-mensuales-de-actividad-econ%C3%B3mica-interna)\n",
    "    - [ ] Series CENDA Pensiones: [CENDA - Pensiones](https://www.cendachile.cl/series-cenda/pensiones)\n",
    "    - [ ] Series CENDA Educación: [CENDA - Educación](https://www.cendachile.cl/series-cenda/educacion)\n",
    "    - [ ] Series CENDA Minería: [CENDA - Minería](https://www.cendachile.cl/series-cenda/mineria)\n",
    "    - [ ] Índices bursátiles CENDA: [CENDA - Indices bursátiles CENDA](https://www.cendachile.cl/series-cenda/indices-bursatiles-cenda)\n",
    "    - [ ] Deuda Sector No-financiero: [Deuda Sector No-financiero](https://www.cendachile.cl/series-cenda/deuda-global)\n",
    "    - [ ] Distribución del Ingreso: [CENDA - Distribución del Ingreso](https://www.cendachile.cl/series-cenda/distribucion-del-ingreso)\n",
    "    - [ ] Empleo y Remuneraciones: [CENDA - Empleo y remuneraciones](https://www.cendachile.cl/series-cenda/fuerza-de-trabajo)\n",
    "    - [ ] Exportaciones de Bienes: [CENDA - Exportaciones de Bienes](https://www.cendachile.cl/series-cenda/comercio-exterior)\n",
    "    - [ ] Inversiones: [CENDA - Inversiones](https://www.cendachile.cl/series-cenda/comercio-exterior-1)\n",
    "    - [ ] Población: [CENDA - Población](https://www.cendachile.cl/series-cenda/poblacion-1)\n",
    "    - [ ] Producto Interno Bruto (PIB): [PIB](https://www.cendachile.cl/series-cenda/producto-interno-bruto-pi)\n",
    "    - [ ] Resultados electorales: [CENDA - Resultados electorales](https://www.cendachile.cl/series-cenda/resultados-electorales)\n",
    "    - [ ] Sistema financiero: [CENDA - Sistema financiero](https://www.cendachile.cl/series-cenda/sistema-financiero)\n",
    "    - [ ] Series históricas: [CENDA - Series históricas](https://www.cendachile.cl/series-cenda/serie-historicas)\n",
    "  - [ ] **Publicaciones**: [CENDA - Publicaciones](https://www.cendachile.cl/publicaciones)\n",
    "    - [ ] Actualidad: [CENDA - Actualidad](https://www.cendachile.cl/publicaciones/actualidad)\n",
    "    - [ ] Convención Constitucional: [CENDA - Convención Constitucional, Presentaciones CENDA](https://www.cendachile.cl/publicaciones/convenci%C3%B3n-constitucional-presentaciones-cenda)\n",
    "    - [ ] Cobre y Recursos Naturales: [CENDA - Cobre y Recursos Naturales](https://www.cendachile.cl/publicaciones/cobre)\n",
    "    - [ ] Publicaciones Pensiones: [CENDA - Pensiones](https://www.cendachile.cl/publicaciones/reforma-pensiones)\n",
    "    - [ ] Publicaciones Educación: [CENDA - Educación](https://www.cendachile.cl/publicaciones/reforma-educacional-1)\n",
    "    - [ ] ¡No+ISAPRE!: [CENDA - Manifiesto CENDA Salud](https://www.cendachile.cl/publicaciones/manifiesto-cenda-salud-n)\n",
    "    - [ ] Crisis mundial: [CENDA - Crisis mundial](https://www.cendachile.cl/publicaciones/crisis-mundial-1)\n",
    "    - [ ] Integración Latinoamericana: [CENDA - Integración Latinoamericana](https://www.cendachile.cl/publicaciones/integracion-latinoamericana)\n",
    "    - [ ] Otros temas: [CENDA - Otros temas](https://www.cendachile.cl/publicaciones/otros-temas)\n",
    "    - [ ] Cuadernos CENDA: [CENDA - Cuadernos CENDA](https://www.cendachile.cl/publicaciones/cuadernos-cenda)\n",
    "    - [ ] Informes CENDA: [CENDA - Informes CENDA](https://www.cendachile.cl/publicaciones/informes-cenda)\n",
    "    - [ ] Archivo de publicaciones por tema: [CENDA - Archivo de publicaciones por tema](https://www.cendachile.cl/publicaciones/archivo-de-documentos)\n",
    "    - [ ] Archivo general de documentos: [CENDA - Archivo general de documentos](https://www.cendachile.cl/publicaciones/archivo-general)\n",
    "  - [ ] **Extensión**: [CENDA - Extensión](https://www.cendachile.cl/extension)\n",
    "    - [ ] ¡Elijo Cambio al IPS!: [CENDA - Cambio al IPS](https://www.cendachile.cl/extension/cambio-al-ips)\n",
    "    - [ ] Actividades: [CENDA - Actividades](https://www.cendachile.cl/extension/actividades)\n",
    "    - [ ] Noticias: [CENDA - Noticias](https://www.cendachile.cl/extension/noticias-1)\n",
    "    - [ ] Seminarios: [CENDA - Seminarios](https://www.cendachile.cl/extension/seminarios)\n",
    "    - [ ] CENDA expone en Haití resultados de investigación UNRISD: [CENDA expone en Haití resultados de investigación UNRISD](https://www.cendachile.cl/extension/cendaexponeenhaitiresultadosdeinvestigacionunrisd)\n",
    "  - [ ] **Investigación**: [CENDA - Investigación](https://www.cendachile.cl/proyectos)\n",
    "    - [ ] ASOF: [CENDA - ASOF](https://www.cendachile.cl/proyectos/asof)\n",
    "    - [ ] Referencias: [CENDA - Referencias](https://www.cendachile.cl/proyectos/referencias)\n"
   ]
  }
 ],
 "metadata": {
  "language_info": {
   "name": "python"
  }
 },
 "nbformat": 4,
 "nbformat_minor": 2
}

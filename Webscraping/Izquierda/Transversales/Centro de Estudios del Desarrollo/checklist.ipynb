{
 "cells": [
  {
   "cell_type": "markdown",
   "metadata": {},
   "source": [
    "# Checklist de Enlaces - Centro de Estudios del Desarrollo (CED)\n",
    "\n",
    "- [ ] **Centro de Estudios del Desarrollo (CED)**: [CED – Centro de Estudios del Desarrollo](https://www.ced.cl/cedcl/)\n",
    "  - [ ] **Áreas de Investigación**: [Áreas de Investigación – CED](https://www.ced.cl/cedcl/area-de-investigacion-nuevo/)\n",
    "  - [ ] **Actualidad**: [Noticias CED – CED](https://www.ced.cl/cedcl/category/noticias-ced/)\n",
    "    - [ ] Noticias: [Noticias – CED](https://www.ced.cl/cedcl/category/noticias/)\n",
    "    - [ ] Opinión: [Opinión – CED](https://www.ced.cl/cedcl/category/opinion/)\n",
    "  - [ ] **Biblioteca**:\n",
    "    - [ ] Archivo: [Archivo – CED](https://www.ced.cl/cedcl/archivo/)\n",
    "    - [ ] Multimedia: [Multimedia – CED](https://www.ced.cl/cedcl/category/multimedia/)\n"
   ]
  },
  {
   "cell_type": "code",
   "execution_count": null,
   "metadata": {
    "vscode": {
     "languageId": "plaintext"
    }
   },
   "outputs": [],
   "source": []
  }
 ],
 "metadata": {
  "language_info": {
   "name": "python"
  }
 },
 "nbformat": 4,
 "nbformat_minor": 2
}

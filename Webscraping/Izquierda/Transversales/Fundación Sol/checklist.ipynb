{
 "cells": [
  {
   "cell_type": "markdown",
   "metadata": {},
   "source": [
    "# Checklist de Enlaces - Fundación SOL\n",
    "\n",
    "- [ ] **Fundación SOL**: [Home | Fundación SOL](https://fundacionsol.cl/home)\n",
    "  - [ ] **Estudios**: [Estudios | Fundación SOL](https://fundacionsol.cl/blog/estudios-2)\n",
    "    - [ ] Sindicatos: [Sindicatos | Fundación SOL](https://fundacionsol.cl/blog/sindicatos-12/tag/estudio-1334)\n",
    "    - [ ] IMCE: [Estudios | Fundación SOL](https://www.fundacionsol.cl/blog/estudios-2/tag/imce-1051)\n",
    "  - [ ] **Formación**:\n",
    "    - [ ] Presentaciones: [Presentaciones | Fundación SOL](https://www.fundacionsol.cl/blog/presentaciones-4)\n",
    "  - [ ] **Actualidad**: [Actualidad | Fundación SOL](https://www.fundacionsol.cl/blog/actualidad-13)\n",
    "    - [ ] Notas de Prensa: [Actualidad | Fundación SOL](https://fundacionsol.cl/blog/actualidad-13/tag/prensa-1315)\n",
    "    - [ ] Comunicados de Prensa: [Actualidad | Fundación SOL](https://fundacionsol.cl/blog/actualidad-13/tag/comunicados-de-prensa-1366)\n",
    "    - [ ] Columnas de Opinión: [Actualidad | Fundación SOL](https://fundacionsol.cl/blog/actualidad-13/tag/columnas-de-opinion-1316)\n",
    "  - [ ] **SOL TV**: [FundacionSOL - YouTube](https://www.youtube.com/c/fundacionsolchile)\n"
   ]
  }
 ],
 "metadata": {
  "language_info": {
   "name": "python"
  }
 },
 "nbformat": 4,
 "nbformat_minor": 2
}

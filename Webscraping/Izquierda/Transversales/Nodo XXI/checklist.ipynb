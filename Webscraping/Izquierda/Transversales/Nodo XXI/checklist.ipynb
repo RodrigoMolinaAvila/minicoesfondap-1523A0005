{
 "cells": [
  {
   "cell_type": "markdown",
   "metadata": {},
   "source": [
    "# Checklist de Enlaces - Nodo XXI\n",
    "\n",
    "- [ ] **Nodo XXI**: [Inicio | Nodo XXI](https://www.nodoxxi.cl/)\n",
    "  - [ ] **Noticias**: [Noticias | Nodo XXI](https://www.nodoxxi.cl/noticias/)\n",
    "    - [ ] Todo: [Noticias | Nodo XXI](https://www.nodoxxi.cl/noticias/)\n",
    "    - [ ] Opinión\n",
    "    - [ ] Prensa\n",
    "    - [ ] Actividades\n",
    "    - [ ] Entrevistas\n",
    "  - [ ] **Investigación**: [Investigación | Nodo XXI](https://www.nodoxxi.cl/investigacion/)\n",
    "  - [ ] **Actividades**: [Actividades | Nodo XXI](https://www.nodoxxi.cl/actividades/)\n",
    "  - [ ] **Publicaciones**: [Publicaciones | Nodo XXI](https://www.nodoxxi.cl/publicaciones-portada/)\n",
    "    - [ ] Cuadernos de Coyuntura: [Cuadernos de coyuntura | Nodo XXI](https://www.nodoxxi.cl/publicaciones-portada/cuadernos-de-coyuntura/)\n",
    "    - [ ] Libros: [Libros | Nodo XXI](https://www.nodoxxi.cl/publicaciones-portada/libros/)\n",
    "    - [ ] Documentos: [Documentos | Nodo XXI](https://www.nodoxxi.cl/publicaciones-portada/documentos/)\n",
    "  - [ ] **Iniciativas**: [Iniciativas | Nodo XXI](https://www.nodoxxi.cl/iniciativas/)\n",
    "    - [ ] Diálogos Feministas: [Diálogos feministas | Nodo XXI](https://www.nodoxxi.cl/iniciativas/dialogos-feministas/)\n",
    "    - [ ] Compromiso por la Educación: [Compromiso por una nueva educación | Nodo XXI](https://www.nodoxxi.cl/iniciativas/compromiso-por-la-educacion/)\n",
    "    - [ ] Espacios de Coyuntura: [Espacio de coyuntura | Nodo XXI](https://www.nodoxxi.cl/iniciativas/espacio-coyuntura/)\n",
    "    - [ ] Mesa de Educación: [Mesa de educación | Nodo XXI](https://www.nodoxxi.cl/iniciativas/mesa-educacion/)\n",
    "  - [ ] **Formación**: [Formación | Nodo XXI](https://www.nodoxxi.cl/formacion/)\n",
    "    - [ ] Formación Feminista: [Formación feminista | Nodo XXI](https://www.nodoxxi.cl/formacion/formacion-feminista/)\n",
    "    - [ ] Formación para Dirigentes Sociales: [Formación para dirigentes sociales | Nodo XXI](https://www.nodoxxi.cl/formacion/dirigentes-sociales/)\n"
   ]
  }
 ],
 "metadata": {
  "language_info": {
   "name": "python"
  }
 },
 "nbformat": 4,
 "nbformat_minor": 2
}

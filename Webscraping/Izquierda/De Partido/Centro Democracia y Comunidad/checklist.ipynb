{
 "cells": [
  {
   "cell_type": "markdown",
   "metadata": {},
   "source": [
    "# Checklist de Enlaces - Centro Democracia y Comunidad (CDC)\n",
    "\n",
    "- [ ] **CDC**: [CDC | Centro Democracia y Comunidad](https://www.cdc.cl/)\n",
    "  - [ ] **Actualidad**: [Actualidad – CDC](https://www.cdc.cl/actualidad/)\n",
    "  - [ ] **Centro de documentación**: [Centro de documentación – CDC](https://www.cdc.cl/centro-de-documentacion/)\n",
    "  - [ ] **Academia Virtual**: [Academia Virtual - CDC](https://avirtual.cdc.cl/)\n",
    "  - [ ] **Quiénes Somos**: [Quiénes Somos – CDC](https://www.cdc.cl/quienes-somos/)\n",
    "    - [ ] Investigación: [Investigación – CDC](https://www.cdc.cl/investigacion/)\n",
    "    - [ ] Asesoría y Seguimiento Legislativo: [Asesoría y Seguimiento Legislativo – CDC](https://www.cdc.cl/quienes-somos/asesoria-legislativa/)\n",
    "    - [ ] Formación: [Formación – CDC](https://www.cdc.cl/quienes-somos/formacion/)\n"
   ]
  }
 ],
 "metadata": {
  "language_info": {
   "name": "python"
  }
 },
 "nbformat": 4,
 "nbformat_minor": 2
}

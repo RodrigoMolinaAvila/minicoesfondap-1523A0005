{
 "cells": [
  {
   "cell_type": "markdown",
   "metadata": {},
   "source": [
    "# Checklist de Enlaces - Rumbo Colectivo\n",
    "\n",
    "- [ ] **Rumbo Colectivo**: [Rumbo Colectivo](https://rumbocolectivo.cl/)\n",
    "  - [ ] **Proyectos**: [Proyectos | Rumbo Colectivo](https://rumbocolectivo.cl/proyectos/)\n",
    "    - [ ] Área de política económica: [Área política económica | Rumbo Colectivo](https://rumbocolectivo.cl/area-politica-economica/)\n",
    "    - [ ] Minutas Constituyentes: [Minutas Constituyentes | Rumbo Colectivo](https://rumbocolectivo.cl/blog/2023/08/14/minutas-constituyentes/)\n",
    "    - [ ] Conoce todo el trabajo del equipo de Rumbos Constituyentes: [Conoce todo el trabajo del equipo de Rumbos Constituyentes | Rumbo Colectivo](https://rumbocolectivo.cl/blog/2022/07/21/trabajo-rumbosconstituyentes/)\n",
    "    - [ ] 4 Horizontes de Transformación para el Chile del 2030: [4 Horizontes de Transformación para el Chile del 2030 | Rumbo Colectivo](https://rumbocolectivo.cl/blog/2021/12/09/4-horizontes-chile-2030/)\n",
    "  - [ ] **Publicaciones**: [Publicaciones | Rumbo Colectivo](https://rumbocolectivo.cl/publicaciones/)\n",
    "  - [ ] **Opinión**: [Opinión | Rumbo Colectivo](https://rumbocolectivo.cl/opinion/)\n",
    "  - [ ] **Noticias**: [Noticias | Rumbo Colectivo](https://rumbocolectivo.cl/noticias/)\n",
    "  - [ ] **Transparencia**: [Transparencia | Rumbo Colectivo](https://rumbocolectivo.cl/transparencia/)\n"
   ]
  }
 ],
 "metadata": {
  "language_info": {
   "name": "python"
  }
 },
 "nbformat": 4,
 "nbformat_minor": 2
}

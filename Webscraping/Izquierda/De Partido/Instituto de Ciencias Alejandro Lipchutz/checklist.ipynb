{
 "cells": [
  {
   "cell_type": "markdown",
   "metadata": {},
   "source": [
    "# Checklist de Enlaces - Instituto de Ciencias Alejandro Lipschutz (ICAL)\n",
    "\n",
    "- [ ] **Instituto de Ciencias Alejandro Lipschutz (ICAL)**: [Instituto de Ciencias Alejandro Lipschutz](https://ical.cl/)\n",
    "  - [ ] **Noticias**: [Noticias – ICAL](https://ical.cl/noticias/)\n",
    "    - [ ] 50 Años del Golpe: [50 Años del Golpe – ICAL](https://ical.cl/noticias/?term=38&orderby=date&order=desc)\n",
    "    - [ ] Actividades: [Actividades – ICAL](https://ical.cl/noticias/?term=18&orderby=date&order=desc)\n",
    "    - [ ] Columnas de Opinión: [Columnas de Opinión – ICAL](https://ical.cl/noticias/?term=17&orderby=date&order=desc)\n",
    "  - [ ] **Publicaciones**:\n",
    "    - [ ] Revista Alternativa: [Revista Alternativa – ICAL](https://ical.cl/revista-alternativa/)\n",
    "    - [ ] Revista Laboral: [Revista Laboral – ICAL](https://ical.cl/revista-laboral/)\n",
    "    - [ ] Análisis de Coyuntura: [Análisis de Coyuntura – ICAL](https://ical.cl/analisis-de-coyuntura/)\n",
    "    - [ ] Documentos de Trabajo: [Documentos de Trabajo – ICAL](https://ical.cl/documentos-de-trabajo/)\n",
    "    - [ ] Centro de Documentación y Archivo: [Centro de Documentación y Archivo – ICAL](https://ical.cl/centro-de-documentacion/)\n",
    "  - [ ] **OTEC - ICAL Capacitación**: [OTEC – ICAL](https://ical.cl/otec/)\n",
    "  - [ ] **Contacto**: [Acerca de – ICAL](https://ical.cl/acerca-de/#!/contacto)\n"
   ]
  }
 ],
 "metadata": {
  "language_info": {
   "name": "python"
  }
 },
 "nbformat": 4,
 "nbformat_minor": 2
}

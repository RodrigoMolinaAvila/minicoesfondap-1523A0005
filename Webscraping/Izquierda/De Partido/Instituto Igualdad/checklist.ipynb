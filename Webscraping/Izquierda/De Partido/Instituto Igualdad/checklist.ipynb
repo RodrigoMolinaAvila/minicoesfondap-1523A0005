{
 "cells": [
  {
   "cell_type": "markdown",
   "metadata": {},
   "source": [
    "# Checklist de Enlaces - Instituto Igualdad\n",
    "\n",
    "- [ ] **Instituto Igualdad**: [Instituto Igualdad | Centro de pensamiento socialista](https://institutoigualdad.cl/)\n",
    "  - [ ] **Noticias**: [Noticias | Instituto Igualdad](https://institutoigualdad.cl/categoria/noticias/)\n",
    "    - [ ] Igualdad en los Medios: [Igualdad en los medios | Instituto Igualdad](https://institutoigualdad.cl/categoria/igualdad-en-los-medios/)\n",
    "    - [ ] Noticias: [Noticias | Instituto Igualdad](https://institutoigualdad.cl/categoria/noticias/)\n",
    "  - [ ] **Opinión**: [Opinión | Instituto Igualdad](https://institutoigualdad.cl/categoria/columnas/opinion/)\n",
    "    - [ ] Editorial: [Editorial | Instituto Igualdad](https://institutoigualdad.cl/categoria/editorial/)\n",
    "    - [ ] Columnas: [Opinión | Instituto Igualdad](https://institutoigualdad.cl/categoria/columnas/opinion/)\n",
    "  - [ ] **Documentos**: [Documentos | Instituto Igualdad](https://institutoigualdad.cl/categoria/documentos/)\n",
    "    - [ ] Serie Memoria e Historia Socialista: [Serie Memoria e Historia Socialista | Instituto Igualdad](https://institutoigualdad.cl/historiasocialista/)\n",
    "    - [ ] Economía: [Economía | Instituto Igualdad](https://institutoigualdad.cl/economia/)\n",
    "    - [ ] Boletín Legislativo: [Boletín Legislativo | Instituto Igualdad](https://institutoigualdad.cl/categoria/boletin-legislativo/)\n",
    "    - [ ] Serie De Documentos: [Serie de Documentos | Instituto Igualdad](https://institutoigualdad.cl/categoria/documentos/seriedocumentos/)\n",
    "    - [ ] Estudios: [Estudios | Instituto Igualdad](https://institutoigualdad.cl/categoria/documentos/estudios/)\n",
    "    - [ ] Publicaciones: [Publicaciones | Instituto Igualdad](https://institutoigualdad.cl/categoria/publicaciones/)\n",
    "    - [ ] Igualdad En Chile Y El Mundo: [Igualdad en Chile y El Mundo | Instituto Igualdad](https://institutoigualdad.cl/categoria/igualdad-en-chile-y-el-mundo/)\n",
    "    - [ ] Resumen Conversatorios: [Resumen Conversatorios | Instituto Igualdad](https://institutoigualdad.cl/categoria/documentos/resumenconversatorios/)\n",
    "  - [ ] **Podcast**: [Podcast | Instituto Igualdad](https://institutoigualdad.cl/categoria/podcast/)\n",
    "  - [ ] **Paola**: [Paola | Instituto Igualdad](https://institutoigualdad.cl/paola/)\n",
    "  - [ ] **Eventos**: [Eventos | Instituto Igualdad](https://institutoigualdad.cl/categoria/eventos/)\n"
   ]
  }
 ],
 "metadata": {
  "language_info": {
   "name": "python"
  }
 },
 "nbformat": 4,
 "nbformat_minor": 2
}

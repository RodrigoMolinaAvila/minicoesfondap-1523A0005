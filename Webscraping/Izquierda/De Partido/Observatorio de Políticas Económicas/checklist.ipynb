{
 "cells": [
  {
   "cell_type": "markdown",
   "metadata": {},
   "source": [
    "# Checklist de Enlaces - Observatorio de Políticas Económicas (OPES)\n",
    "\n",
    "- [ ] **OPES Chile**: [Opes Chile](https://www.opeschile.com/)\n",
    "  - [ ] **Inicio**\n",
    "    - [ ] Publicaciones: [Publicaciones — Opes Chile](https://www.opeschile.com/publicaciones-blog)\n",
    "    - [ ] Documentos de Trabajo\n",
    "    - [ ] Libros\n",
    "  - [ ] **Quienes Somos**: [Quienes Somos — Opes Chile](https://www.opeschile.com/quienes-somos)\n",
    "  - [ ] **Actualidad**: [Actualidad — Opes Chile](https://www.opeschile.com/actualidad)\n",
    "  - [ ] **Documentos**: [Documentos — Opes Chile](https://www.opeschile.com/documentos)\n",
    "  - [ ] **Podcast**: [Podcast — Opes Chile](https://www.opeschile.com/podcast)\n"
   ]
  }
 ],
 "metadata": {
  "language_info": {
   "name": "python"
  }
 },
 "nbformat": 4,
 "nbformat_minor": 2
}

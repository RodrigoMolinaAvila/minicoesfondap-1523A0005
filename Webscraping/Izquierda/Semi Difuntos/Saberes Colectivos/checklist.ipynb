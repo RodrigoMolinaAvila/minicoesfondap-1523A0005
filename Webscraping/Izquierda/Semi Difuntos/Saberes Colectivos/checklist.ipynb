{
 "cells": [
  {
   "cell_type": "markdown",
   "metadata": {},
   "source": [
    "# Checklist de Enlaces - Saberes Colectivos\n",
    "\n",
    "- [ ] **Saberes Colectivos**: [Saberes Colectivos](https://saberescolectivos.cl/)\n",
    "  - [ ] **Página muerta**: [Saberes Colectivos (archive.org)](https://web.archive.org/web/20240223211650/https://saberescolectivos.cl/)\n"
   ]
  }
 ],
 "metadata": {
  "language_info": {
   "name": "python"
  }
 },
 "nbformat": 4,
 "nbformat_minor": 2
}

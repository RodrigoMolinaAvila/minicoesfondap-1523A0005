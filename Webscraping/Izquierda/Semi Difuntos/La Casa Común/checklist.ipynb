{
 "cells": [
  {
   "cell_type": "markdown",
   "metadata": {},
   "source": [
    "# Checklist de Enlaces - La Casa Común\n",
    "\n",
    "- [ ] **La Casa Común**: [Inicio | Lacasacomun](https://www.lacasacomun.cl/)\n",
    "  - [ ] **Acerca de nosotros**: [Acerca de nosotros | Lacasacomun](https://www.lacasacomun.cl/blank-1)\n",
    "  - [ ] **Proyectos**: [Proyectos | Lacasacomun](https://www.lacasacomun.cl/blank-3)\n",
    "    - [ ] Proyecto político y unidad de la izquierda: [Proyecto Politico | Lacasacomun](https://www.lacasacomun.cl/proyecto-politico)\n",
    "    - [ ] Modelo para un Desarrollo Sostenible: [Modelo de Desarrollo | Lacasacomun](https://www.lacasacomun.cl/modelo-desarrollo)\n",
    "  - [ ] **Participa**: [Participa | Lacasacomun](https://www.lacasacomun.cl/blank-4)\n",
    "  - [ ] **Blog**: [Blog | Lacasacomun](https://www.lacasacomun.cl/blog)\n",
    "  - [ ] **Contacto**: [Contacto | Lacasacomun](https://www.lacasacomun.cl/blank-2)\n"
   ]
  }
 ],
 "metadata": {
  "language_info": {
   "name": "python"
  }
 },
 "nbformat": 4,
 "nbformat_minor": 2
}

{
 "cells": [
  {
   "cell_type": "markdown",
   "metadata": {},
   "source": [
    "# Checklist de Enlaces - Corporación de Estudios para Latinoamérica (CIEPLAN)\n",
    "\n",
    "- [ ] **CIEPLAN**: [CIEPLAN | Corporación de estudios para Latinoamérica](https://cieplan.org/new/)\n",
    "  - [ ] **Biblioteca**:\n",
    "    - [ ] Estudios: [Estudios | CIEPLAN](https://cieplan.org/new/category/biblioteca/estudios/)\n",
    "    - [ ] Libros: [Libros | CIEPLAN](https://cieplan.org/new/category/biblioteca/libros/)\n",
    "    - [ ] Otros: [Otros | CIEPLAN](https://cieplan.org/new/category/biblioteca/otros/)\n",
    "  - [ ] **Investigación**:\n",
    "    - [ ] Áreas de Investigación: [Áreas de Investigación | CIEPLAN](https://cieplan.org/new/category/investigacion/areas-de-investigacion-investigacion/)\n",
    "    - [ ] Investigadores: [Investigadores | CIEPLAN](https://cieplan.org/new/category/investigacion/investigadores/)\n",
    "  - [ ] **Sala de Prensa**:\n",
    "    - [ ] Columnas: [Columnas | CIEPLAN](https://cieplan.org/new/category/sala-de-prensa/columnas/)\n",
    "    - [ ] Comunicados: [Comunicados | CIEPLAN](https://cieplan.org/new/category/sala-de-prensa/comunicados/)\n",
    "    - [ ] CIEPLAN en la Prensa: [CIEPLAN en la prensa | CIEPLAN](https://cieplan.org/new/category/sala-de-prensa/cieplan-en-la-prensa/)\n",
    "  - [ ] **Programas Conjuntos**:\n",
    "    - [ ] Programa Cieplan-UTalca: [Programa Cieplan-UTalca | CIEPLAN](https://cieplan.org/new/programa-cieplan-utalca/)\n",
    "    - [ ] Proyectos CAF-Cieplan: [Proyectos CAF-Cieplan | CIEPLAN](https://cieplan.org/new/proyectos-caf-cieplan/)\n"
   ]
  }
 ],
 "metadata": {
  "language_info": {
   "name": "python"
  }
 },
 "nbformat": 4,
 "nbformat_minor": 2
}

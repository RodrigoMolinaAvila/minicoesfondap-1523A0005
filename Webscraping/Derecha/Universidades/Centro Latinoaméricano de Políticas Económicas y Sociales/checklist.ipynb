{
 "cells": [
  {
   "cell_type": "markdown",
   "metadata": {},
   "source": [
    "# Centro Latinoamericano de Políticas Económicas y Sociales (Clapes UC)\n",
    "\n",
    "- [ ] **Clapes UC**: [Inicio](https://clapesuc.cl/)\n",
    "  - [ ] **Quiénes Somos**: [Quiénes Somos](https://clapesuc.cl/quienes-somos)\n",
    "  - [ ] **Agenda**: [Agenda](https://clapesuc.cl/agenda)\n",
    "  - [ ] **Seminarios**: [Seminarios](https://clapesuc.cl/seminarios)\n",
    "  - [ ] **Investigación**: [Investigación](https://clapesuc.cl/investigacion)\n",
    "  - [ ] **Indicadores**: [Indicadores](https://clapesuc.cl/indicadores)\n",
    "  - [ ] **En los Medios**: [En los Medios](https://clapesuc.cl/en-los-medios)\n",
    "  - [ ] **Podcast**: [Podcast](https://clapesuc.cl/podcast)\n"
   ]
  }
 ],
 "metadata": {
  "language_info": {
   "name": "python"
  }
 },
 "nbformat": 4,
 "nbformat_minor": 2
}

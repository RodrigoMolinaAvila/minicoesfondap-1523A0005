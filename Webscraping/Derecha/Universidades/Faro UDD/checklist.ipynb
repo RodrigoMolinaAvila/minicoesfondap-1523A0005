{
 "cells": [
  {
   "cell_type": "markdown",
   "metadata": {},
   "source": [
    "# Faro UDD\n",
    "\n",
    "- [ ] **Faro UDD**: [Inicio](https://faro.udd.cl/)\n",
    "  - [ ] **Quiénes Somos**: [Acerca de Faro](https://faro.udd.cl/sobre-nosotros/)\n",
    "    - [ ] Académicos: [Académicos](https://faro.udd.cl/sobre-nosotros/academicos/)\n",
    "    - [ ] Investigadores Asociados: [Investigadores Asociados](https://faro.udd.cl/sobre-nosotros/investigadores-asociados/)\n",
    "    - [ ] Equipo de Gestión\n",
    "  - [ ] **Recursos**: [Recursos](https://faro.udd.cl/recursos/)\n",
    "    - [ ] Economía y Desarrollo: [Economía y Desarrollo](https://faro.udd.cl/recursos/economia-y-desarrollo/)\n",
    "    - [ ] Democracia e Instituciones: [Democracia e Instituciones](https://faro.udd.cl/recursos/democracia-e-instituciones/)\n",
    "    - [ ] Cultura y Sociedad: [Cultura y Sociedad](https://faro.udd.cl/recursos/cultura-y-sociedad/)\n",
    "  - [ ] **Programas Académicos**: [Programas Académicos](https://faro.udd.cl/programas-academicos/)\n",
    "    - [ ] Formación en Filosofía, Política y Economía: [Formación en Filosofía, Política y Economía](https://faro.udd.cl/programas-academicos/modelo-educativo/)\n",
    "    - [ ] Magíster en Filosofía, Política y Economía: [Magíster en Filosofía, Política y Economía](https://faro.udd.cl/postgrado/magister-en-filosofia-politica-y-economia/)\n",
    "    - [ ] Programas de Pregrado: [Programas de Pregrado](https://faro.udd.cl/programas-academicos/cursos-de-pregrado/)\n",
    "  - [ ] **Actividades y Medios**: [Actividades y Medios](https://faro.udd.cl/actividades-y-medios/)\n",
    "    - [ ] Publicaciones: [Publicaciones](https://faro.udd.cl/publicaciones/)\n",
    "    - [ ] Seminarios, Charlas u Otros: [Seminarios, Charlas u Otros](https://faro.udd.cl/ver-seminario/)\n",
    "    - [ ] Podcast: [Podcast](https://faro.udd.cl/podcast/)\n",
    "  - [ ] **Concurso**: [Concurso \"Plumas Pioneras, Narrativas de Futuro\"](https://faro.udd.cl/concurso-plumas-pioneras-narrativas-de-futuro/)\n",
    "  - [ ] **Faro Concepción**: [Faro Concepción](https://faro.udd.cl/faro-ccp/)\n",
    "  - [ ] **Contacto**: [Contacto](https://faro.udd.cl/contacto/)\n"
   ]
  }
 ],
 "metadata": {
  "language_info": {
   "name": "python"
  }
 },
 "nbformat": 4,
 "nbformat_minor": 2
}

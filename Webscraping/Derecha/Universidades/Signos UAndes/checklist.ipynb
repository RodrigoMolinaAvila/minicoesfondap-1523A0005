{
 "cells": [
  {
   "cell_type": "markdown",
   "metadata": {},
   "source": [
    "# Signos UAndes\n",
    "\n",
    "- [ ] **Signos UAndes**: [Inicio](https://www.uandes.cl/signos/)\n",
    "  - [ ] **Nosotros**: [Nosotros](https://www.uandes.cl/signos/nosotros/)\n",
    "  - [ ] **Investigación**: [Investigación](https://www.uandes.cl/signos/investigacion/)\n",
    "  - [ ] **Noticias y Eventos**: [Noticias y Eventos](https://www.uandes.cl/signos/noticias/)\n",
    "  - [ ] **Opinión y Prensa**: [Opinión y Prensa](https://www.uandes.cl/signos/medios/)\n",
    "  - [ ] **Contacto**: [Contacto](https://www.uandes.cl/signos/contacto/)\n"
   ]
  }
 ],
 "metadata": {
  "language_info": {
   "name": "python"
  }
 },
 "nbformat": 4,
 "nbformat_minor": 2
}

{
 "cells": [
  {
   "cell_type": "markdown",
   "metadata": {},
   "source": [
    "# IdeaPaís\n",
    "\n",
    "- [ ] **IdeaPaís**: [IdeaPaís](https://ideapais.cl/)\n",
    "  - [ ] **Quiénes Somos**: [Quiénes Somos](https://ideapais.cl/quienes-somos/)\n",
    "  - [ ] **Publicaciones**:\n",
    "    - [ ] Políticas Públicas: [Políticas Públicas](https://ideapais.cl/politicas_publicas/)\n",
    "    - [ ] Legislativo/Constitucional: [Legislativo/Constitucional](https://ideapais.cl/legislativo-constitucional/)\n",
    "      - [ ] Minutas Legislativas: [Minutas Legislativas](https://ideapais.cl/minutas-legislativas/)\n",
    "      - [ ] Discusión Constitucional: [Discusión Constitucional](https://ideapais.cl/discusion-constitucional/)\n",
    "    - [ ] Libros y Revistas: [Libros y Revistas](https://ideapais.cl/libros-y-revistas/)\n",
    "  - [ ] **Formación**: [Formación](https://ideapais.cl/formacion/)\n",
    "  - [ ] **IdeaPaís en Regiones**:\n",
    "    - [ ] IdeaPaís O'Higgins: [IdeaPaís O'Higgins](https://ideapais.cl/ideapais-ohiggins/)\n",
    "    - [ ] IdeaPaís Biobío: [IdeaPaís Biobío](https://ideapais.cl/ideapais-biobio/)\n",
    "    - [ ] IdeaPaís Los Lagos: [IdeaPaís Los Lagos](https://ideapais.cl/ideapais-los-lagos/)\n",
    "  - [ ] **Noticias**:\n",
    "    - [ ] IP en los Medios: [IP en los Medios](https://ideapais.cl/ip-en-los-medios/)\n",
    "    - [ ] Noticias Institucionales: [Noticias Institucionales](https://ideapais.cl/noticias-institucionales/)\n",
    "    - [ ] Iniciativas: [Iniciativas](https://ideapais.cl/iniciativas-2/)\n",
    "  - [ ] **Súmate**:\n",
    "    - [ ] Trabaja con Nosotros: [Trabaja con Nosotros](https://ideapais.cl/trabaja-con-nosotros/)\n",
    "    - [ ] Pasantías: [Pasantías](https://ideapais.cl/pasantias/)\n",
    "  - [ ] **Donar**: [Donar](https://ideapais.cl/donar/)\n",
    "  - [ ] **Contacto**: [Contacto](https://ideapais.cl/contacto/)\n"
   ]
  }
 ],
 "metadata": {
  "language_info": {
   "name": "python"
  }
 },
 "nbformat": 4,
 "nbformat_minor": 2
}

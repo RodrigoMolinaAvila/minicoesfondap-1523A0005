{
 "cells": [
  {
   "cell_type": "markdown",
   "metadata": {},
   "source": [
    "# Pivotes\n",
    "\n",
    "- [ ] **Pivotes**: [Pivotes](https://www.pivotes.cl/)\n",
    "  - [ ] **Somos**: [Somos](https://www.pivotes.cl/somos/)\n",
    "  - [ ] **Programas de Incidencia**:\n",
    "    - [ ] En Foco: [En Foco](https://www.pivotes.cl/programas/en-foco/)\n",
    "    - [ ] Hagámonos Cargo: [Hagámonos Cargo](https://www.pivotes.cl/programas/hagamonos-cargo/)\n",
    "  - [ ] **Desafíos**:\n",
    "    - [ ] Crisis 1: Institucionalidad Pública: [Crisis 1](https://www.pivotes.cl/desafios/crisis-1-institucionalidad/)\n",
    "    - [ ] Crisis 2: Economía: [Crisis 2](https://www.pivotes.cl/desafios/crisis-2-economia/)\n",
    "    - [ ] Crisis 3: Educación: [Crisis 3](https://www.pivotes.cl/desafios/crisis-3-educacion/)\n",
    "    - [ ] Crisis 4: Empleo: [Crisis 4](https://www.pivotes.cl/desafios/crisis-4-empleo/)\n",
    "  - [ ] **Contenidos**:\n",
    "    - [ ] Todos: [Contenidos](https://www.pivotes.cl/contenidos/#todos)\n",
    "    - [ ] Artículos: [Artículos](https://www.pivotes.cl/contenidos/#articulos)\n",
    "    - [ ] Columnas de Opinión: [Columnas de Opinión](https://www.pivotes.cl/contenidos/#columnas-de-opinion)\n",
    "    - [ ] Cartas al Director: [Cartas al Director](https://www.pivotes.cl/contenidos/#cartas-al-director)\n",
    "    - [ ] Entrevistas: [Entrevistas](https://www.pivotes.cl/contenidos/#entrevistas)\n",
    "    - [ ] Pivotes Explica: [Pivotes Explica](https://www.pivotes.cl/contenidos/#pivotes-explica)\n",
    "  - [ ] **Evidencia**: [Evidencia](https://www.pivotes.cl/evidencia/)\n",
    "  - [ ] **Podcast**: [Podcasts](https://www.pivotes.cl/podcast/)\n",
    "    - [ ] En Foco: [En Foco](https://www.pivotes.cl/podcast/#en-foco)\n",
    "    - [ ] Es la Evidencia: [Es la Evidencia](https://www.pivotes.cl/podcast/#es-la-evidencia)\n"
   ]
  }
 ],
 "metadata": {
  "language_info": {
   "name": "python"
  }
 },
 "nbformat": 4,
 "nbformat_minor": 2
}

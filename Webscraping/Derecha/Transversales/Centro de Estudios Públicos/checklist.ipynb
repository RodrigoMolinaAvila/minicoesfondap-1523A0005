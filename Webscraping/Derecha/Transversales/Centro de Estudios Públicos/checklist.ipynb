{
 "cells": [
  {
   "cell_type": "markdown",
   "metadata": {},
   "source": [
    "# Centro de Estudios Públicos (CEP)\n",
    "\n",
    "- [ ] **CEP Chile**: [Inicio - CEP Chile](https://www.cepchile.cl/)\n",
    "  - [ ] **Investigación**: [Investigaciones Archive](https://www.cepchile.cl/investigacion/)\n",
    "    - [ ] Estudios Públicos: [Estudios Públicos](https://www.estudiospublicos.cl/)\n",
    "    - [ ] Voces del CEP: [Voces del CEP](https://www.cepchile.cl/categoria-de-investigacion/voces-del-cep/)\n",
    "    - [ ] Puntos de Referencia: [Puntos de Referencia](https://www.cepchile.cl/categoria-de-investigacion/puntos-de-referencia/)\n",
    "    - [ ] Libros: [Libros](https://www.cepchile.cl/categoria-de-investigacion/libros/)\n",
    "    - [ ] Publicaciones Indexadas: [Publicaciones Indexadas](https://www.cepchile.cl/categoria-de-investigacion/publicaciones-indexadas/)\n",
    "    - [ ] Documentos de Trabajo: [Documentos de Trabajo](https://www.cepchile.cl/categoria-de-investigacion/documentos-de-trabajo/)\n",
    "    - [ ] Debates de Política Pública: [Debates de Política Pública](https://www.cepchile.cl/categoria-de-investigacion/debates-de-politica-publica/)\n",
    "    - [ ] Insumos Constitucionales: [Insumos Constitucionales](https://www.cepchile.cl/categoria-de-investigacion/insumos-constitucionales/)\n",
    "    - [ ] Otros: [Otros](https://www.cepchile.cl/categoria-de-investigacion/otros/)\n",
    "  - [ ] **Opinión Pública**: [Opinión Pública](https://www.cepchile.cl/opinion-publica/)\n",
    "  - [ ] **Lo Último**: [Noticias](https://www.cepchile.cl/noticias/)\n",
    "    - [ ] Opinión\n",
    "    - [ ] Entrevistas\n",
    "    - [ ] Eventos\n",
    "    - [ ] Podcast\n",
    "    - [ ] Noticias CEP\n",
    "    - [ ] Columnas Monitor\n",
    "    - [ ] Especiales\n",
    "  - [ ] **Eventos**: [Eventos](https://www.cepchile.cl/eventos/)\n",
    "  - [ ] **Acerca del CEP**: [Acerca del CEP](https://www.cepchile.cl/sobre-cep/)\n"
   ]
  }
 ],
 "metadata": {
  "language_info": {
   "name": "python"
  }
 },
 "nbformat": 4,
 "nbformat_minor": 2
}

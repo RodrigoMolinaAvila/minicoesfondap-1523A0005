{
 "cells": [
  {
   "cell_type": "markdown",
   "metadata": {},
   "source": [
    "# Libertad y Desarrollo (LyD)\n",
    "\n",
    "- [ ] **Libertad y Desarrollo**: [Libertad y Desarrollo](https://lyd.org/)\n",
    "  - [ ] **Quienes Somos**: [Qué es LYD | Libertad y Desarrollo](https://lyd.org/quienes-somos/)\n",
    "    - [ ] Equipo: [Equipo | Libertad y Desarrollo](https://lyd.org/equipo/)\n",
    "  - [ ] **Tienda**: [Tienda | Libertad y Desarrollo](https://lyd.org/tienda/)\n",
    "    - [ ] Novedades: [Novedades | Libertad y Desarrollo](https://lyd.org/categoria-producto/novedades/)\n",
    "  - [ ] **Estudios**:\n",
    "    - [ ] Temas Públicos: [Temas Públicos](https://lyd.org/category/estudios/temas-publicos/)\n",
    "    - [ ] Serie Informe: [Serie Informe](https://lyd.org/serie-informe/)\n",
    "    - [ ] Reseña Legislativa: [Reseña Legislativa](https://lyd.org/category/estudios/resena-legislativa/)\n",
    "    - [ ] Informe de Coyuntura Económica: [Coyuntura Económica](https://lyd.org/category/estudios/informes-economicos/)\n",
    "    - [ ] Informe de Coyuntura Política: [Coyuntura Política](https://lyd.org/category/estudios/coyuntura-politica/)\n",
    "    - [ ] Revistas: [Revistas](https://lyd.org/category/estudios/revistas/)\n",
    "    - [ ] Fallos Públicos: [Fallos Públicos](https://lyd.org/category/estudios/fallos-publicos/)\n",
    "    - [ ] Actualidad Constitucional: [Actualidad Constitucional](https://lyd.org/category/actualidad-constitucional/)\n",
    "    - [ ] Sentencias: [Sentencias](https://lyd.org/sentencia/)\n",
    "  - [ ] **Temas**:\n",
    "    - [ ] Economía: [Economía](https://lyd.org/tag/economia/)\n",
    "    - [ ] Educación: [Educación](https://lyd.org/tag/educacion/)\n",
    "    - [ ] Justicia: [Justicia](https://lyd.org/tag/justicia-2/)\n",
    "    - [ ] Laboral: [Laboral](https://lyd.org/tag/laboral/)\n",
    "    - [ ] Pobreza: [Pobreza](https://lyd.org/tag/pobreza/)\n",
    "    - [ ] Política: [Política](https://lyd.org/tag/politica/)\n",
    "    - [ ] Previsión: [Previsión](https://lyd.org/tag/prevision/)\n",
    "    - [ ] Regulación y Medio Ambiente: [Regulación y Medio Ambiente](https://lyd.org/tag/regulacion-y-medio-ambiente/)\n",
    "    - [ ] Salud: [Salud](https://lyd.org/tag/salud/)\n",
    "  - [ ] **Noticias**:\n",
    "    - [ ] Noticias: [Noticias](https://lyd.org/noticias/)\n",
    "    - [ ] Opinión: [Opinión](https://lyd.org/opinion-2/)\n",
    "    - [ ] Videos: [Videos](https://lyd.org/videos/)\n",
    "    - [ ] Podcast: [Podcast](https://lyd.org/podcast/)\n",
    "    - [ ] Seminarios: [Seminarios](https://lyd.org/seminarios/)\n",
    "    - [ ] Encuestas: [Encuestas](https://lyd.org/encuestas/)\n",
    "    - [ ] LyD en el Congreso: [Congreso](https://lyd.org/congreso/)\n",
    "  - [ ] **Únete**: [Únete](https://lyd.org/unete/)\n"
   ]
  }
 ],
 "metadata": {
  "language_info": {
   "name": "python"
  }
 },
 "nbformat": 4,
 "nbformat_minor": 2
}

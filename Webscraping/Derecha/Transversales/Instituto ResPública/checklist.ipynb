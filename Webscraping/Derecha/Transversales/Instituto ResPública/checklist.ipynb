{
 "cells": [
  {
   "cell_type": "markdown",
   "metadata": {},
   "source": [
    "# Instituto ResPública\n",
    "\n",
    "- [ ] **Instituto ResPública**: [ResPública](https://www.respublica.cl/)\n",
    "  - [ ] **Conócenos**:\n",
    "    - [ ] Misión y Visión: [Misión y Visión](https://www.respublica.cl/sections/mision-vision/)\n",
    "    - [ ] Equipo: [Equipo](https://www.respublica.cl/sections/equipo/)\n",
    "    - [ ] Consejo Asesor: [Consejo Asesor](https://www.respublica.cl/sections/consejo-asesor/)\n",
    "    - [ ] Alianzas:\n",
    "      - [ ] Alianzas Internacionales: [Alianzas Internacionales](https://www.respublica.cl/sections/alianza5/)\n",
    "      - [ ] Centros de Estudio y Otras Instituciones: [Centros de Estudio y Otras Instituciones](https://www.respublica.cl/sections/alianza6/)\n",
    "      - [ ] Fundación ChileSiempre: [Fundación ChileSiempre](https://www.respublica.cl/sections/alianza7/)\n",
    "  - [ ] **Actividades**:\n",
    "    - [ ] Campañas: [Campañas](https://www.respublica.cl/sections/campanas/)\n",
    "    - [ ] Encuentros Públicos: [Encuentros Públicos](https://www.respublica.cl/ss-actividades/8/)\n",
    "    - [ ] Cursos y Seminarios: [Cursos y Seminarios](https://www.respublica.cl/ss-actividades/9/)\n",
    "    - [ ] Presentación de Libros: [Presentación de Libros](https://www.respublica.cl/ss-actividades/10/)\n",
    "  - [ ] **Publicaciones**:\n",
    "    - [ ] Editorial IRP: [Editorial IRP](https://www.respublica.cl/sections/editorial/)\n",
    "    - [ ] Ensayos y Artículos: [Ensayos y Artículos](https://www.respublica.cl/sections/ensayos-y-articulos/)\n",
    "    - [ ] Estudios: [Estudios](https://www.respublica.cl/sections/estudios/)\n",
    "  - [ ] **Actualidad**:\n",
    "    - [ ] Noticias: [Noticias](https://www.respublica.cl/sections/noticias/)\n",
    "    - [ ] Radio y Televisión: [Radio y Televisión](https://www.respublica.cl/sections/radio-y-television/)\n",
    "    - [ ] Opinión: [Opinión](https://www.respublica.cl/sections/opinion/)\n",
    "    - [ ] Análisis de Actualidad: [Análisis de Actualidad](https://www.respublica.cl/sections/analisis-de-actualidad/)\n",
    "  - [ ] **Involúcrate**:\n",
    "    - [ ] Próximas Actividades: [Próximas Actividades](https://www.respublica.cl/sections/calendario/)\n",
    "    - [ ] Forum: [Forum IRP](https://www.respublica.cl/forum/)\n",
    "    - [ ] Alumni: [Alumni](https://www.respublica.cl/alumni/)\n",
    "    - [ ] Red Ideas en Acción: [Red Ideas en Acción](https://www.respublica.cl/ideas-en-accion/)\n"
   ]
  }
 ],
 "metadata": {
  "language_info": {
   "name": "python"
  }
 },
 "nbformat": 4,
 "nbformat_minor": 2
}

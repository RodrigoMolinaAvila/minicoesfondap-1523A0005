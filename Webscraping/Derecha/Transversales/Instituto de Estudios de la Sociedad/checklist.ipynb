{
 "cells": [
  {
   "cell_type": "markdown",
   "metadata": {},
   "source": [
    "# Instituto de Estudios de la Sociedad (IES)\n",
    "\n",
    "- [ ] **IES Chile**: [Home - IES Chile](https://www.ieschile.cl/)\n",
    "  - [ ] **Nosotros**:\n",
    "    - [ ] Qué es el IES: [Qué es el IES](https://www.ieschile.cl/nosotros/que-es-el-ies/)\n",
    "    - [ ] Equipo: [Equipo](https://www.ieschile.cl/nosotros/equipo/)\n",
    "    - [ ] Comité Editorial: [Comité Editorial](https://www.ieschile.cl/nosotros/comite-editorial/)\n",
    "    - [ ] Información Institucional: [Información Institucional](https://www.ieschile.cl/nosotros/informacion-institucional/)\n",
    "  - [ ] **Tienda Virtual**: [Libros para Pensar](https://tienda.ieschile.cl/)\n",
    "  - [ ] **Ideas Constitucionales**:\n",
    "    - [ ] Libros Constitucionales: [Libros Constitucionales](https://www.ieschile.cl/libros-constitucionales/)\n",
    "    - [ ] Claves e Informes Constitucionales: [Claves e Informes](https://www.ieschile.cl/claves-e-informes-constitucionales/)\n",
    "    - [ ] Videos Constitucionales: [Videos Constitucionales](https://www.ieschile.cl/videos-constitucionales/)\n",
    "    - [ ] Columnas: [Ideas Constitucionales](https://www.ieschile.cl/category/ideas-constitucionales-ies/)\n",
    "  - [ ] **Punto y Coma**:\n",
    "    - [ ] Artículos: [Artículos](https://www.ieschile.cl/category/punto-y-coma/articulos-puntoycoma/)\n",
    "    - [ ] Entrevistas: [Entrevistas](https://www.ieschile.cl/category/punto-y-coma/entrevistas/)\n",
    "    - [ ] Reseñas: [Reseñas](https://www.ieschile.cl/category/punto-y-coma/resenas-puntoycoma/)\n",
    "    - [ ] Suscríbete: [Producto IES](https://market.apio.cl/ies/products/6001)\n"
   ]
  }
 ],
 "metadata": {
  "language_info": {
   "name": "python"
  }
 },
 "nbformat": 4,
 "nbformat_minor": 2
}

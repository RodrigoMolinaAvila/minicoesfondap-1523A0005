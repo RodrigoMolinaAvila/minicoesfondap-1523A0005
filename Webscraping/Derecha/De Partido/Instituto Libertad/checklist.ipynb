{
 "cells": [
  {
   "cell_type": "markdown",
   "metadata": {},
   "source": [
    "# Instituto Libertad\n",
    "\n",
    "- [ ] **Instituto Libertad**: [Inicio](https://institutolibertad.cl/)\n",
    "  - [ ] **Quiénes Somos**: [Quiénes Somos](https://institutolibertad.cl/quienes-somos/)\n",
    "    - [ ] Directorio: [Directorio](https://institutolibertad.cl/directorio/)\n",
    "    - [ ] Investigadores: [Investigadores](https://institutolibertad.cl/investigadores/)\n",
    "  - [ ] **Publicaciones**: [Publicaciones](https://institutolibertad.cl/publicaciones-instituto-libertad/)\n",
    "  - [ ] **Noticias**: [Noticias](https://institutolibertad.cl/noticias/)\n",
    "  - [ ] **Seminarios**: [Seminarios](https://institutolibertad.cl/seminarios-y-talleres/)\n",
    "  - [ ] **Comisiones**: [Comisiones](https://institutolibertad.cl/comisiones/)\n",
    "  - [ ] **Proceso Constituyente**: [Proceso Constituyente](https://institutolibertad.cl/proceso-constituyente/)\n",
    "  - [ ] **Contacto**: [Contacto](https://institutolibertad.cl/contacto/)\n"
   ]
  }
 ],
 "metadata": {
  "language_info": {
   "name": "python"
  }
 },
 "nbformat": 4,
 "nbformat_minor": 2
}

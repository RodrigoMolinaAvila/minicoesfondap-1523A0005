{
 "cells": [
  {
   "cell_type": "markdown",
   "metadata": {},
   "source": [
    "# Ideas Republicanas\n",
    "\n",
    "- [ ] **Ideas Republicanas**: [Inicio](https://ideasrepublicanas.cl/)\n",
    "  - [ ] **Quiénes Somos**:\n",
    "    - [ ] Misión Visión: [Misión Visión](https://ideasrepublicanas.cl/?page_id=4917)\n",
    "    - [ ] Equipo: [Equipo IR](https://ideasrepublicanas.cl/?page_id=149)\n",
    "    - [ ] Directores: [Directorio](https://ideasrepublicanas.cl/?page_id=5529)\n",
    "  - [ ] **Publicaciones**:\n",
    "    - [ ] Cartas y Columnas: [Cartas y Columnas](https://ideasrepublicanas.cl/?page_id=235)\n",
    "    - [ ] Minutas de Opinión: [Minutas de Opinión](https://ideasrepublicanas.cl/?page_id=5188)\n",
    "    - [ ] Ideas de la Semana: [Ideas de la Semana](https://ideasrepublicanas.cl/?page_id=5152)\n",
    "    - [ ] Documentos de Estudio: [Documentos de Estudio](https://ideasrepublicanas.cl/?page_id=171)\n",
    "  - [ ] **Audiovisual**:\n",
    "    - [ ] Videos: [Videos](https://ideasrepublicanas.cl/?page_id=305)\n",
    "  - [ ] **Contacto**: [Contacto](https://ideasrepublicanas.cl/?page_id=360)\n"
   ]
  }
 ],
 "metadata": {
  "language_info": {
   "name": "python"
  }
 },
 "nbformat": 4,
 "nbformat_minor": 2
}

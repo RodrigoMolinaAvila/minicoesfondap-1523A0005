{
 "cells": [
  {
   "cell_type": "markdown",
   "metadata": {},
   "source": [
    "# Horizontal\n",
    "\n",
    "- [ ] **Horizontal**: [Inicio](https://horizontalchile.cl/)\n",
    "  - [ ] **Quiénes Somos**:\n",
    "    - [ ] Quiénes Somos: [Quiénes Somos](https://horizontalchile.cl/quienes-somos/)\n",
    "    - [ ] Nuestro Equipo: [Nuestro Equipo](https://horizontalchile.cl/nuestro-equipo/)\n",
    "    - [ ] Únete: [Únete](https://horizontalchile.cl/unete/)\n",
    "  - [ ] **Actualidad**: [Actualidad](https://horizontalchile.cl/actualidad/)\n",
    "  - [ ] **Publicaciones**: [Publicaciones](https://horizontalchile.cl/publicaciones/)\n",
    "  - [ ] **Constitución**:\n",
    "    - [ ] Qué Hacemos: [Qué Hacemos](https://horizontalchile.cl/constitucion/que-hacemos/)\n",
    "    - [ ] Publicaciones: [Publicaciones](https://horizontalchile.cl/publicaciones/?busqueda=&tematica=22&autor=&anio=)\n",
    "  - [ ] **Formación**: [Formación](https://horizontalchile.cl/formacion/)\n",
    "  - [ ] **Transparencia**: [Transparencia](https://horizontalchile.cl/transparencia/)\n"
   ]
  }
 ],
 "metadata": {
  "language_info": {
   "name": "python"
  }
 },
 "nbformat": 4,
 "nbformat_minor": 2
}

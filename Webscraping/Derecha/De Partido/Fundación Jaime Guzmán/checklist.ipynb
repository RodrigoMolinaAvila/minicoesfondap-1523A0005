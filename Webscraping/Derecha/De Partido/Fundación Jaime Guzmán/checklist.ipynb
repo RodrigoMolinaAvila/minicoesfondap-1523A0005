{
 "cells": [
  {
   "cell_type": "markdown",
   "metadata": {},
   "source": [
    "# Fundación Jaime Guzmán\n",
    "\n",
    "- [ ] **Fundación Jaime Guzmán**: [Inicio](https://www.fjguzman.cl/)\n",
    "  - [ ] **Nosotros**:\n",
    "    - [ ] Quiénes Somos: [Quiénes Somos](https://www.fjguzman.cl/quienes-somos/)\n",
    "    - [ ] Directorio: [Directorio](https://www.fjguzman.cl/directorio/)\n",
    "    - [ ] Equipo FJG: [Equipo FJG](https://www.fjguzman.cl/equipo-fjg/)\n",
    "  - [ ] **Publicaciones**:\n",
    "    - [ ] Apuntes Constitucionales: [Apuntes Constitucionales](https://www.fjguzman.cl/apuntes-constitucionales/)\n",
    "    - [ ] Ideas & Propuestas: [Ideas & Propuestas](https://www.fjguzman.cl/ideas-propuestas/)\n",
    "    - [ ] Mirada Política: [Mirada Política](https://www.fjguzman.cl/mirada-politica/)\n",
    "    - [ ] Libros: [Libros](https://www.fjguzman.cl/libros/)\n",
    "    - [ ] Infografías: [Infografías](https://www.fjguzman.cl/infografias/)\n",
    "    - [ ] Revista Realidad: [Revista Realidad](https://www.fjguzman.cl/revista-realidad/)\n",
    "    - [ ] Videos: [Videos](https://www.fjguzman.cl/videos/)\n",
    "    - [ ] Columnas: [Columnas](https://www.fjguzman.cl/columnas/)\n",
    "    - [ ] Taller de Coyuntura: [Taller de Coyuntura](https://www.fjguzman.cl/taller-de-coyuntura/)\n",
    "  - [ ] **Consejo Constitucional**: [Consejo Constitucional](https://www.fjguzman.cl/consejo-constitucional/)\n",
    "  - [ ] **Cursos**:\n",
    "    - [ ] Bachillerato en Servicio Público: [Bachillerato en Servicio Público](https://www.fjguzman.cl/bachillerato-en-servicio-publico/)\n",
    "    - [ ] Bachillerato en Servicio Público Internacional: [Bachillerato en Servicio Público Internacional](https://www.fjguzman.cl/bachillerato-en-servicio-publico-online/)\n",
    "  - [ ] **Noticias y Actividades**: [Noticias y Actividades](https://www.fjguzman.cl/noticias-y-actividades/)\n",
    "  - [ ] **Jaime Guzmán**:\n",
    "    - [ ] Biografía: [Biografía](https://www.fjguzman.cl/biografia/)\n",
    "    - [ ] Archivo Jaime Guzmán: [Archivo Jaime Guzmán](https://archivojaimeguzman.cl/)\n",
    "    - [ ] Memorial de Jaime Guzmán: [Memorial de Jaime Guzmán](https://www.fjguzman.cl/memorial-de-jaime-guzman/)\n",
    "  - [ ] **Contacto**: [Contacto](https://www.fjguzman.cl/contacto/)\n"
   ]
  }
 ],
 "metadata": {
  "kernelspec": {
   "display_name": "Python 3",
   "language": "python",
   "name": "python3"
  },
  "language_info": {
   "codemirror_mode": {
    "name": "ipython",
    "version": 3
   },
   "file_extension": ".py",
   "mimetype": "text/x-python",
   "name": "python",
   "nbconvert_exporter": "python",
   "pygments_lexer": "ipython3",
   "version": "3.12.4"
  }
 },
 "nbformat": 4,
 "nbformat_minor": 2
}

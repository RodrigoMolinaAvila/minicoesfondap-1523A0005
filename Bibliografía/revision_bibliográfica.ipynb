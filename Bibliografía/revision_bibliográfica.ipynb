{
 "cells": [
  {
   "cell_type": "markdown",
   "id": "518ac933",
   "metadata": {},
   "source": [
    "# Hughes, S., & Mellado, C. (2015). Protest and accountability without the press: The press, politicians, and civil society in Chile. The International Journal of Press/Politics, 21(1), 48–67. https://doi.org/10.1177/1940161215614565"
   ]
  },
  {
   "cell_type": "markdown",
   "id": "85dfb3e4",
   "metadata": {},
   "source": [
    "Se examina cómo la prensa chilena cubrió el accountability democrático en el contexto de movimientos sociales durante el periodo postdictadura. En particular, se pregunta si la cobertura mediática fue reactiva frente a la presión de la sociedad civil, incluso cuando esta no era visibilizada directamente en los medios."
   ]
  },
  {
   "cell_type": "markdown",
   "id": "97f1dd9f",
   "metadata": {
    "vscode": {
     "languageId": "plaintext"
    }
   },
   "source": [
    "\"Politicians and government officials were quoted in 70 to 77 percent of news items across the entire twenty-one years [...] officials and politicians were mentioned as actors in 93 percent of stories across time\"\n",
    "(Hughes & Mellado, 2015, p. 61)"
   ]
  },
  {
   "cell_type": "markdown",
   "id": "7b34241a",
   "metadata": {},
   "source": [
    "\"The press was neither the motor of democratic reform nor the caboose [...] but rather the press was a passenger of change. It publicized politicians’ responses to social accountability pressures from civil society, which mobilized without the overt support of the press\"\n",
    "(Hughes & Mellado, 2015, p. 63)"
   ]
  },
  {
   "cell_type": "markdown",
   "id": "724b8ef1",
   "metadata": {
    "vscode": {
     "languageId": "plaintext"
    }
   },
   "source": [
    "\"During the protest period, the press framed a greater percentage of coverage as issues and offered contextualization while continuing to privilege official sources\"\n",
    "(Hughes & Mellado, 2015, p. 50)"
   ]
  },
  {
   "cell_type": "markdown",
   "id": "071fd6b5",
   "metadata": {},
   "source": [
    "\"Civic pressures for government accountability influenced politicians and then changes in politicians’ rhetoric influenced the press in ways affirmative for civil society influence, rather than the other way around.\"\n",
    "(Hughes & Mellado, 2015, p. 63)"
   ]
  },
  {
   "cell_type": "markdown",
   "id": "7481468e",
   "metadata": {},
   "source": [
    "\"The Chilean case suggests that when other mechanisms of accountability work, even weakly, an indexing press that eschews civil society may support social movements, social accountability, and eventually democratizing reforms simply by going along for the ride.\"\n",
    "(Hughes & Mellado, 2015, p. 65)"
   ]
  },
  {
   "cell_type": "markdown",
   "id": "4e2bdd4c",
   "metadata": {},
   "source": [
    "# Orchard, X., & González-Bustamante, B. (2022). Power Hierarchies and Visibility in the News: Exploring Determinants of Politicians’ Presence and Prominence in the Chilean Press (1991–2019). The International Journal of Press/Politics, 29(1), 100–123. https://doi.org/10.1177/19401612221089482"
   ]
  },
  {
   "cell_type": "markdown",
   "id": "81a64bfc",
   "metadata": {},
   "source": [
    "Se busca identificar qué factores determinan la presencia (mención) y la prominencia (espacio discursivo) de los actores políticos en la prensa escrita chilena entre 1991 y 2019. Se enfoca en cómo las jerarquías institucionales, el género, y la asociación con conflictos mediáticos afectan la visibilidad pública de estos actores."
   ]
  },
  {
   "cell_type": "markdown",
   "id": "03577ff1",
   "metadata": {
    "vscode": {
     "languageId": "plaintext"
    }
   },
   "source": [
    "“The visibility of political actors in the news follows a clear institutional hierarchy led by the president and cabinet members.” (Orchard & González-Bustamante, 2022, p. 100)"
   ]
  },
  {
   "cell_type": "markdown",
   "id": "db02c82a",
   "metadata": {},
   "source": [
    "“Female politicians are less likely to be mentioned or have speaking space in newspapers than male politicians.” (Orchard & González-Bustamante, 2022, p. 100)"
   ]
  },
  {
   "cell_type": "markdown",
   "id": "f16611ec",
   "metadata": {},
   "source": [
    "“Although an association with conflict-framed news boosts politicians’ visibility, such association is unable to disturb structural power hierarchies.” (Orchard & González-Bustamante, 2022, p. 100)"
   ]
  },
  {
   "cell_type": "markdown",
   "id": "794d0c7a",
   "metadata": {},
   "source": [
    "“There is no movement towards greater decentralisation regarding which politicians obtain higher media presence or prominence.” (Orchard & González-Bustamante, 2022, p. 118)"
   ]
  },
  {
   "cell_type": "markdown",
   "id": "708a9247",
   "metadata": {},
   "source": [
    "“Our findings reaffirm the explanatory power of news value theories to better understand which political actors become prominent in the media and how closely news coverage reflects power differentials inside political systems.” (Orchard & González-Bustamante, 2022, p. 119)"
   ]
  },
  {
   "cell_type": "markdown",
   "id": "49d24c18",
   "metadata": {},
   "source": [
    "“Media presence is unevenly distributed among politicians, taking values ranging from 1 to 136. In absolute numbers, presidents are in the first bracket of media presence.” (Orchard & González-Bustamante, 2022, p. 108)"
   ]
  },
  {
   "cell_type": "markdown",
   "id": "42757955",
   "metadata": {},
   "source": [
    "“A critical news value to consider in the construction of political news is conflict. This element refers to news stories about controversies, arguments, and fights.” (Orchard & González-Bustamante, 2022, p. 105)"
   ]
  },
  {
   "cell_type": "markdown",
   "id": "b1af9651",
   "metadata": {},
   "source": [
    "# Saldaña, M., Orchard, X., Rivera, S., & Bustamante-Pavez, G. (2024). Your house won’t be yours anymore: Effects of misinformation, news use, and media trust on Chile’s constitutional referendum. The International Journal of Press/Politics, 29(1), 1–27. https://doi.org/10.1177/19401612241298853"
   ]
  },
  {
   "cell_type": "markdown",
   "id": "84d058a8",
   "metadata": {},
   "source": [
    "Se analiza cómo el consumo de medios, la confianza en ellos y la exposición a desinformación impactaron el voto de los ciudadanos en el plebiscito constitucional de Chile en 2022. Utilizando datos de encuestas, examinan cómo la credulidad hacia información incorrecta mediada por la desconfianza en medios tradicionales afecta las decisiones electorales. Plantean un modelo mediado y moderado para entender cómo el uso de diferentes tipos de medios predice creencias erróneas, y cómo estas creencias se relacionan con la opción de voto. El estudio representa un avance en el análisis empírico del rol de la desinformación en procesos democráticos fuera del contexto del Norte Global."
   ]
  },
  {
   "cell_type": "markdown",
   "id": "a16c10ce",
   "metadata": {},
   "source": [
    "“In elections involving new and complex political issues, news consumption does affect voting behavior not only indirectly through the acceptance of misinformation but also directly.”\n",
    "(Saldaña et al., 2024, p. 19)"
   ]
  },
  {
   "cell_type": "markdown",
   "id": "06204444",
   "metadata": {},
   "source": [
    "“The main issue is not necessarily how to restore people’s trust in the news, but how to ensure people navigate on reliable news ecosystems.”\n",
    "(Saldaña et al., 2024, p. 20)"
   ]
  },
  {
   "cell_type": "markdown",
   "id": "d261de6e",
   "metadata": {},
   "source": [
    "“Our results cast doubts on the utility of restoring people’s trust in the media as a potential means to diminish belief in misinformation.”\n",
    "(Saldaña et al., 2024, p. 18)"
   ]
  },
  {
   "cell_type": "markdown",
   "id": "7a60efa4",
   "metadata": {},
   "source": [
    "“A high concentration of ownership, topics, and angles covered might become a fertile soil for misinformation to spread in the form of professional news coverage.”\n",
    "(Saldaña et al., 2024, p. 19)"
   ]
  },
  {
   "cell_type": "markdown",
   "id": "1f6be4ae",
   "metadata": {},
   "source": [
    "“Some controversial topics about which misinformation circulated prominently—property rights, indigenous rights, and reproductive rights—were among those that weigh the most to explain voters’ decisions.”\n",
    "(Saldaña et al., 2024, p. 5)"
   ]
  },
  {
   "cell_type": "markdown",
   "id": "462406b2",
   "metadata": {},
   "source": [
    "“This political process drew international attention [...] while news operations like The Guardian warned about the misinformation [...] others like The Wall Street Journal editorialized with no mentions to the misinformation problem.”\n",
    "(Saldaña et al., 2024, p. 3)"
   ]
  },
  {
   "cell_type": "markdown",
   "id": "a36a0739",
   "metadata": {},
   "source": [
    "“We test news media trust as a moderating variable, theorizing that the effect of consuming different news media on belief in misinformation will be contingent upon news media trust.”\n",
    "(Saldaña et al., 2024, p. 4)"
   ]
  },
  {
   "cell_type": "markdown",
   "id": "3b93e925",
   "metadata": {},
   "source": [
    "“This study contributes to better understanding how misinformation might affect voters and democracies in contexts other than the Global North.”\n",
    "(Saldaña et al., 2024, p. 3)"
   ]
  },
  {
   "cell_type": "markdown",
   "id": "d8b5db75",
   "metadata": {},
   "source": [
    "# Schlesinger, P. (2009). Creativity and the experts: New Labour, think tanks, and the policy process. The International Journal of Press/Politics, 14(1), 3–20. https://doi.org/10.1177/1940161208328898"
   ]
  },
  {
   "cell_type": "markdown",
   "id": "ae49da8c",
   "metadata": {},
   "source": [
    "Se analiza el papel de los expertos y los think tanks en la elaboración de políticas públicas sobre industrias creativas en el Reino Unido, centrándose especialmente en el periodo de New Labour (1997–2008). Examina cómo estas organizaciones intermedian ideas, compiten por influencia, y configuran las narrativas gubernamentales a través de conexiones políticas y mediáticas. Schlesinger identifica a los think tanks como actores clave del campo intelectual-político, mostrando cómo han evolucionado para operar en un entorno de políticas dominado por la lógica del mercado y la competencia ideológica."
   ]
  },
  {
   "cell_type": "markdown",
   "id": "38eed14a",
   "metadata": {},
   "source": [
    "“We may argue, therefore, that think tanks—as producers of reproducible mediated discourse—are themselves part of a wider communications industry” (Schlesinger, 2009, p. 4)."
   ]
  },
  {
   "cell_type": "markdown",
   "id": "56c19d82",
   "metadata": {},
   "source": [
    "“Think tanks operate within a highly structured market place for ideas, marketing and promotion are central to their quest for influence over government” (Schlesinger, 2009, p. 5)."
   ]
  },
  {
   "cell_type": "markdown",
   "id": "332f0447",
   "metadata": {},
   "source": [
    "“It is the politico-intellectual field in which think tanks are situated—between universities and the political institutions” (Schlesinger, 2009, p. 3)."
   ]
  },
  {
   "cell_type": "markdown",
   "id": "db224139",
   "metadata": {},
   "source": [
    "“At any one time, there are preferred suppliers of ideas and evidence” (Schlesinger, 2009, p. 17)."
   ]
  },
  {
   "cell_type": "markdown",
   "id": "af9f27a2",
   "metadata": {},
   "source": [
    "“The public face of think tankery is concerned with airing ideas, in particular through media coverage” (Schlesinger, 2009, p. 10)."
   ]
  },
  {
   "cell_type": "markdown",
   "id": "3f343e8a",
   "metadata": {},
   "source": [
    "“Bringing in a trusted ‘fixer’ to rework the text is one option” (Schlesinger, 2009, p. 17)."
   ]
  },
  {
   "cell_type": "markdown",
   "id": "f606c030",
   "metadata": {},
   "source": [
    "“Some of those involved in policy advice—who began their careers in think tanks—have now taken their distance from them... The equivocal status of think tankery has been refined into practical political knowledge” (Schlesinger, 2009, p. 17)."
   ]
  },
  {
   "cell_type": "markdown",
   "id": "0ea0e0a2",
   "metadata": {},
   "source": [
    "# Rich, A., & Weaver, R. K. (2000). Think tanks in the U.S. media. The International Journal of Press/Politics, 5(4), 81–103. https://doi.org/10.1177/1081180X00005004005"
   ]
  },
  {
   "cell_type": "markdown",
   "id": "bda94349",
   "metadata": {},
   "source": [
    "Se explora cómo y por qué ciertos think tanks aparecen en los medios estadounidenses más que otros. Usando datos de contenido de The New York Times y The Washington Post durante una década, analizan qué características institucionales explican esta visibilidad mediática. Su principal argumento es que la cobertura no se distribuye equitativamente entre todos los centros de pensamiento, sino que está sesgada hacia aquellos que tienen estrategias comunicacionales sofisticadas, afinidad ideológica con los medios, y producen insumos “mediáticamente útiles”."
   ]
  },
  {
   "cell_type": "markdown",
   "id": "7e0635dc",
   "metadata": {},
   "source": [
    "“Coverage is not evenly distributed across the universe of think tanks. A handful of organizations dominate the media landscape.”\n",
    "(Rich & Weaver, 2000, p. 84)"
   ]
  },
  {
   "cell_type": "markdown",
   "id": "a2c7a376",
   "metadata": {},
   "source": [
    "“Some think tanks have built reputations as reliable, media-savvy sources by maintaining press offices, issuing regular publications, and nurturing relationships with reporters.”\n",
    "(Rich & Weaver, 2000, p. 85)"
   ]
  },
  {
   "cell_type": "markdown",
   "id": "e1a32380",
   "metadata": {},
   "source": [
    "“The structure of the media system tends to reinforce the dominance of certain think tanks that are already institutionally strong.”\n",
    "(Rich & Weaver, 2000, p. 96)"
   ]
  },
  {
   "cell_type": "markdown",
   "id": "0808454d",
   "metadata": {},
   "source": [
    "“Journalists often rely on a narrow range of familiar sources, especially under time constraints.”\n",
    "(Rich & Weaver, 2000, p. 88)"
   ]
  },
  {
   "cell_type": "markdown",
   "id": "34af9f4d",
   "metadata": {},
   "source": [
    "“Media exposure is highly correlated with institutional resources and public relations capacities.”\n",
    "(Rich & Weaver, 2000, p. 92)"
   ]
  },
  {
   "cell_type": "markdown",
   "id": "1754d31f",
   "metadata": {},
   "source": [
    "“In a competitive environment, visibility can be more a reflection of institutional strategy than of scholarly merit.”\n",
    "(Rich & Weaver, 2000, p. 97)"
   ]
  },
  {
   "cell_type": "markdown",
   "id": "ccd359e3",
   "metadata": {},
   "source": [
    "“Ideological compatibility with news outlets affects the likelihood of being cited, although not as strongly as organizational visibility and responsiveness.”\n",
    "(Rich & Weaver, 2000, p. 95"
   ]
  }
 ],
 "metadata": {
  "language_info": {
   "name": "python"
  }
 },
 "nbformat": 4,
 "nbformat_minor": 5
}

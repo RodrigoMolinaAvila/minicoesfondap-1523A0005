{
 "cells": [
  {
   "cell_type": "markdown",
   "id": "292f8556",
   "metadata": {},
   "source": [
    "# Propuesta de abstract en función de los metodos NLP utilizados"
   ]
  },
  {
   "cell_type": "markdown",
   "id": "bb11fd82",
   "metadata": {},
   "source": [
    "This study examines how Chilean think tanks strategically shaped public discourse during a period of exceptional political turbulence between 2019 and 2023. By analyzing a corpus of over 30,000 media publications—including op-eds, columns, and press releases—we investigate how these non-elected policy actors used language to influence debates on reproductive rights, plurinationality, and constitutional reform. Combining topic modeling (LDA), TF-IDF, and semantic vectorization with BERT-based emotion analysis, we trace the evolution of thematic and emotional framing across political orientations and media platforms. We find that while right-leaning think tanks dominated agenda-setting during critical moments of institutional change, progressive institutions increased emotional activation through morally charged language, particularly surrounding constituent processes. Our results show that think tanks, often absent from direct political visibility, operate as “semantic anchors” in the media field, subtly shaping public meaning without explicit self-naming. These findings contribute to understanding how cognitive and emotional language devices are mobilized by ideologically driven institutions to maintain influence in media ecosystems, offering new insights into framing, affect, and political communication in hybrid democracies."
   ]
  },
  {
   "cell_type": "markdown",
   "id": "08737812",
   "metadata": {},
   "source": [
    "Prouesta: \"semantic anchors\"; aquellas expresiones, entidades discursivas o actores institucionales que operan como puntos de estabilización del significado dentro de campos de disputa simbólica, al fijar sentidos persistentes y emocionalmente resonantes en torno a conceptos políticamente sensibles. En contextos mediáticos, funcionan como estructuras de sentido que organizan la interpretación de fenómenos complejos, aun cuando su origen institucional no siempre sea explícito."
   ]
  }
 ],
 "metadata": {
  "language_info": {
   "name": "python"
  }
 },
 "nbformat": 4,
 "nbformat_minor": 5
}

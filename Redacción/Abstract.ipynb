{
 "cells": [
  {
   "cell_type": "markdown",
   "id": "292f8556",
   "metadata": {},
   "source": [
    "# Propuesta de abstract en función de los metodos NLP utilizados"
   ]
  },
  {
   "cell_type": "markdown",
   "id": "bb11fd82",
   "metadata": {},
   "source": [
    "This study examines how Chilean think tanks strategically shaped public discourse during a period of exceptional political turbulence between 2019 and 2023. By analyzing a corpus of over 30,000 media publications—including op-eds, columns, and press releases—we investigate how these non-elected policy actors used language to influence debates on reproductive rights, plurinationality, and constitutional reform. Combining topic modeling (LDA), TF-IDF, and semantic vectorization with BERT-based emotion analysis, we trace the evolution of thematic and emotional framing across political orientations and media platforms."
   ]
  }
 ],
 "metadata": {
  "language_info": {
   "name": "python"
  }
 },
 "nbformat": 4,
 "nbformat_minor": 5
}

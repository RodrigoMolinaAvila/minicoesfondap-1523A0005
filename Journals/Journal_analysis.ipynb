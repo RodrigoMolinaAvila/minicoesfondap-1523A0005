{
 "cells": [
  {
   "cell_type": "markdown",
   "id": "f82c80ce",
   "metadata": {},
   "source": [
    "# The International Journal of Press/Politics (IJPP)\n",
    "\n",
    "\n",
    "- IJPP se especializa  en las interacciones entre medios, discurso y poder político.\n",
    "\n",
    "- Se valora el uso de métodos computacionales avanzados con anclaje teórico en ciencias políticas y comunicación.\n",
    "\n",
    "- El estudio es sobre Chile, su estructura —comparativa, institucional, discursiva— permite extrapolaciones al estudio global de policy influencers.\n",
    "\n",
    "- Tiene historial de publicar estudios sobre América Latina\n"
   ]
  }
 ],
 "metadata": {
  "language_info": {
   "name": "python"
  }
 },
 "nbformat": 4,
 "nbformat_minor": 5
}
